{
  "nbformat": 4,
  "nbformat_minor": 0,
  "metadata": {
    "colab": {
      "provenance": []
    },
    "kernelspec": {
      "name": "python3",
      "display_name": "Python 3"
    },
    "language_info": {
      "name": "python"
    }
  },
  "cells": [
    {
      "cell_type": "markdown",
      "source": [
        "## **Python Operators:**\n",
        "\n",
        "Types of Operators in Python:-\n",
        "\n",
        "01.Arithmetic Operators(+,-,x,/,//,%,**)\n",
        "\n",
        "02.Comparison Operators(<,>,<=,>=,==,!=)\n",
        "\n",
        "03.Logical Operators(and,or,not)\n",
        "\n",
        "04.Bitwise Operators[1.Bitwise NOT(~),\n",
        "2.Bitwise Shift(>>,<<),\n",
        "3.Bitwise AND(&),\n",
        "4.Bitwise XOR(^),\n",
        "5.Bitwise OR(|).]\n",
        "\n",
        "05.Assignment Operators(=,+=,....)\n",
        "\n",
        "06.Identity Operators and Membership Operators\n",
        "(is:True if the operands are identical,\n",
        "is not:True if the operands are not identical)\n",
        "\n",
        "07.Membership Operators in Python\n",
        "(in:True if value is found in the sequence,\n",
        "not in:True if value is not found in the sequence)"
      ],
      "metadata": {
        "id": "2Cvx8tA5xFeT"
      }
    },
    {
      "cell_type": "code",
      "source": [
        "# python program to demonstrate the use of \"/\"\n",
        "print(5/5)\n",
        "print(10/2)\n",
        "print(-10/2)\n",
        "print(20.0/2)\n"
      ],
      "metadata": {
        "colab": {
          "base_uri": "https://localhost:8080/"
        },
        "id": "dwjIPm5s0hnD",
        "outputId": "ed7ac3a6-cae1-4c86-de8f-894e34619a5a"
      },
      "execution_count": 108,
      "outputs": [
        {
          "output_type": "stream",
          "name": "stdout",
          "text": [
            "1.0\n",
            "5.0\n",
            "-5.0\n",
            "10.0\n"
          ]
        }
      ]
    },
    {
      "cell_type": "code",
      "source": [
        "# python program to demonstrate the use of \"//\"\n",
        "print(10//3)\n",
        "print (-5//2)\n",
        "print (5.0//2)\n",
        "print (-5.0//2)\n"
      ],
      "metadata": {
        "colab": {
          "base_uri": "https://localhost:8080/"
        },
        "id": "o-gfuVZc03lY",
        "outputId": "84ffb2ed-63a4-4f66-e5d8-e48def7bc20a"
      },
      "execution_count": 109,
      "outputs": [
        {
          "output_type": "stream",
          "name": "stdout",
          "text": [
            "3\n",
            "-3\n",
            "2.0\n",
            "-3.0\n"
          ]
        }
      ]
    },
    {
      "cell_type": "code",
      "source": [
        "# Examples of Arithmetic Operator\n",
        "a = 9\n",
        "b = 4\n",
        "\n",
        "# Addition of numbers\n",
        "add = a + b\n",
        "\n",
        "# Subtraction of numbers\n",
        "sub = a - b\n",
        "\n",
        "# Multiplication of number\n",
        "mul = a * b\n",
        "\n",
        "# Modulo of both number\n",
        "mod = a % b\n",
        "\n",
        "# Power\n",
        "pow = a ** b\n",
        "\n",
        "# print results\n",
        "print(add)\n",
        "print(sub)\n",
        "print(mul)\n",
        "print(mod)\n",
        "print(pow)\n"
      ],
      "metadata": {
        "colab": {
          "base_uri": "https://localhost:8080/"
        },
        "id": "DADKkC7Q04Gw",
        "outputId": "a64d07db-b684-40a9-9fe7-12ebc38f41b0"
      },
      "execution_count": 110,
      "outputs": [
        {
          "output_type": "stream",
          "name": "stdout",
          "text": [
            "13\n",
            "5\n",
            "36\n",
            "1\n",
            "6561\n"
          ]
        }
      ]
    },
    {
      "cell_type": "code",
      "source": [
        "# Examples of Relational Operators\n",
        "a = 13\n",
        "b = 33\n",
        "\n",
        "# a > b is False\n",
        "print(a > b)\n",
        "\n",
        "# a < b is True\n",
        "print(a < b)\n",
        "\n",
        "# a == b is False\n",
        "print(a == b)\n",
        "\n",
        "# a != b is True\n",
        "print(a != b)\n",
        "\n",
        "# a >= b is False\n",
        "print(a >= b)\n",
        "\n",
        "# a <= b is True\n",
        "print(a <= b)\n"
      ],
      "metadata": {
        "colab": {
          "base_uri": "https://localhost:8080/"
        },
        "id": "Ws6aK2jq04J9",
        "outputId": "1bd4a6c2-5760-4cbe-9597-6b6c99c6ffa1"
      },
      "execution_count": 111,
      "outputs": [
        {
          "output_type": "stream",
          "name": "stdout",
          "text": [
            "False\n",
            "True\n",
            "False\n",
            "True\n",
            "False\n",
            "True\n"
          ]
        }
      ]
    },
    {
      "cell_type": "code",
      "source": [
        "# Examples of Logical Operator\n",
        "a = True\n",
        "b = False\n",
        "\n",
        "# Print a and b is False\n",
        "print(a and b)\n",
        "\n",
        "# Print a or b is True\n",
        "print(a or b)\n",
        "\n",
        "# Print not a is False\n",
        "print(not a)\n"
      ],
      "metadata": {
        "colab": {
          "base_uri": "https://localhost:8080/"
        },
        "id": "PM5fi-Jw04Mv",
        "outputId": "07a0728b-5cf9-4938-afb9-3cbb09faf347"
      },
      "execution_count": 112,
      "outputs": [
        {
          "output_type": "stream",
          "name": "stdout",
          "text": [
            "False\n",
            "True\n",
            "False\n"
          ]
        }
      ]
    },
    {
      "cell_type": "code",
      "source": [
        "# Examples of Bitwise operators\n",
        "a = 10\n",
        "b = 4\n",
        "\n",
        "# Print bitwise AND operation\n",
        "print(a & b)\n",
        "\n",
        "# Print bitwise OR operation\n",
        "print(a | b)\n",
        "\n",
        "# Print bitwise NOT operation\n",
        "print(~a)\n",
        "\n",
        "# print bitwise XOR operation\n",
        "print(a ^ b)\n",
        "\n",
        "# print bitwise right shift operation\n",
        "print(a >> 2)\n",
        "\n",
        "# print bitwise left shift operation\n",
        "print(a << 2)\n"
      ],
      "metadata": {
        "colab": {
          "base_uri": "https://localhost:8080/"
        },
        "id": "p-bsLEBI0_Nd",
        "outputId": "ed2a04fc-3783-454d-8ba7-245cbab3ac7e"
      },
      "execution_count": 113,
      "outputs": [
        {
          "output_type": "stream",
          "name": "stdout",
          "text": [
            "0\n",
            "14\n",
            "-11\n",
            "14\n",
            "2\n",
            "40\n"
          ]
        }
      ]
    },
    {
      "cell_type": "code",
      "source": [
        "# Examples of Assignment Operators\n",
        "a = 10\n",
        "\n",
        "# Assign value\n",
        "b = a\n",
        "print(b)\n",
        "\n",
        "# Add and assign value\n",
        "b += a\n",
        "print(b)\n",
        "\n",
        "# Subtract and assign value\n",
        "b -= a\n",
        "print(b)\n",
        "\n",
        "# multiply and assign\n",
        "b *= a\n",
        "print(b)\n",
        "\n",
        "# bitwise lishift operator\n",
        "b <<= a\n",
        "print(b)\n"
      ],
      "metadata": {
        "colab": {
          "base_uri": "https://localhost:8080/"
        },
        "id": "Zs9Mlc_d0_Qk",
        "outputId": "63ad64c4-b447-4c8f-99e1-649121a53806"
      },
      "execution_count": 114,
      "outputs": [
        {
          "output_type": "stream",
          "name": "stdout",
          "text": [
            "10\n",
            "20\n",
            "10\n",
            "100\n",
            "102400\n"
          ]
        }
      ]
    },
    {
      "cell_type": "code",
      "source": [
        "a = 10\n",
        "b = 20\n",
        "c = a\n",
        "\n",
        "print(a is not b)\n",
        "print(a is c)\n"
      ],
      "metadata": {
        "colab": {
          "base_uri": "https://localhost:8080/"
        },
        "id": "YDHbpMLg0_Tb",
        "outputId": "b0b5ee32-2d67-413f-e658-2550806284d2"
      },
      "execution_count": 115,
      "outputs": [
        {
          "output_type": "stream",
          "name": "stdout",
          "text": [
            "True\n",
            "True\n"
          ]
        }
      ]
    },
    {
      "cell_type": "code",
      "source": [
        "# Python program to illustrate\n",
        "# not 'in' operator\n",
        "x = 24\n",
        "y = 20\n",
        "list = [10, 20, 30, 40, 50]\n",
        "\n",
        "if (x not in list):\n",
        "\tprint(\"x is NOT present in given list\")\n",
        "else:\n",
        "\tprint(\"x is present in given list\")\n",
        "\n",
        "if (y in list):\n",
        "\tprint(\"y is present in given list\")\n",
        "else:\n",
        "\tprint(\"y is NOT present in given list\")\n"
      ],
      "metadata": {
        "colab": {
          "base_uri": "https://localhost:8080/"
        },
        "id": "eQOGYZT10_WU",
        "outputId": "48876bd8-f569-4664-9c7f-9d9b139edb00"
      },
      "execution_count": 116,
      "outputs": [
        {
          "output_type": "stream",
          "name": "stdout",
          "text": [
            "x is NOT present in given list\n",
            "y is present in given list\n"
          ]
        }
      ]
    },
    {
      "cell_type": "code",
      "source": [
        "# Python Program illustrate how\n",
        "# to overload an binary + operator\n",
        "# And how it actually works\n",
        "\n",
        "class A:\n",
        "\tdef __init__(self, a):\n",
        "\t\tself.a = a\n",
        "\n",
        "\t# adding two objects\n",
        "\tdef __add__(self, o):\n",
        "\t\treturn self.a + o.a\n",
        "ob1 = A(1)\n",
        "ob2 = A(2)\n",
        "ob3 = A(\"python\")\n",
        "ob4 = A(\"learning\")\n",
        "\n",
        "print(ob1 + ob2)\n",
        "print(ob3 + ob4)\n",
        "# Actual working when Binary Operator is used.\n",
        "print(A.__add__(ob1 , ob2))\n",
        "print(A.__add__(ob3,ob4))\n",
        "#And can also be Understand as :\n",
        "print(ob1.__add__(ob2))\n",
        "print(ob3.__add__(ob4))\n"
      ],
      "metadata": {
        "colab": {
          "base_uri": "https://localhost:8080/"
        },
        "id": "QRtouZj50_Zd",
        "outputId": "5c803e75-f555-4bef-ecb3-9a3284da0935"
      },
      "execution_count": 117,
      "outputs": [
        {
          "output_type": "stream",
          "name": "stdout",
          "text": [
            "3\n",
            "pythonlearning\n",
            "3\n",
            "pythonlearning\n",
            "3\n",
            "pythonlearning\n"
          ]
        }
      ]
    },
    {
      "cell_type": "code",
      "source": [
        "# Python Program to perform addition\n",
        "# of two complex numbers using binary\n",
        "# + operator overloading.\n",
        "\n",
        "class complex:\n",
        "\tdef __init__(self, a, b):\n",
        "\t\tself.a = a\n",
        "\t\tself.b = b\n",
        "\n",
        "\t# adding two objects\n",
        "\tdef __add__(self, other):\n",
        "\t\treturn self.a + other.a, self.b + other.b\n",
        "\n",
        "Ob1 = complex(1, 2)\n",
        "Ob2 = complex(2, 3)\n",
        "Ob3 = Ob1 + Ob2\n",
        "print(Ob3)\n"
      ],
      "metadata": {
        "colab": {
          "base_uri": "https://localhost:8080/"
        },
        "id": "yx_PKfAM04Pd",
        "outputId": "900f6d14-4a06-4839-8cec-a2367c088f74"
      },
      "execution_count": 118,
      "outputs": [
        {
          "output_type": "stream",
          "name": "stdout",
          "text": [
            "(3, 5)\n"
          ]
        }
      ]
    },
    {
      "cell_type": "code",
      "source": [
        "# Python program to overload\n",
        "# a comparison operators\n",
        "\n",
        "class A:\n",
        "\tdef __init__(self, a):\n",
        "\t\tself.a = a\n",
        "\tdef __gt__(self, other):\n",
        "\t\tif(self.a>other.a):\n",
        "\t\t\treturn True\n",
        "\t\telse:\n",
        "\t\t\treturn False\n",
        "ob1 = A(2)\n",
        "ob2 = A(3)\n",
        "if(ob1>ob2):\n",
        "\tprint(\"ob1 is greater than ob2\")\n",
        "else:\n",
        "\tprint(\"ob2 is greater than ob1\")\n"
      ],
      "metadata": {
        "colab": {
          "base_uri": "https://localhost:8080/"
        },
        "id": "uOQspb2204SA",
        "outputId": "440227cd-2997-416e-dfd2-d214984caf60"
      },
      "execution_count": 119,
      "outputs": [
        {
          "output_type": "stream",
          "name": "stdout",
          "text": [
            "ob2 is greater than ob1\n"
          ]
        }
      ]
    },
    {
      "cell_type": "markdown",
      "source": [
        "**Any and All** are two built-in functions provided in python used for successive And/Or. Any Returns true if any of the items is True. It returns False if empty or all are false. Any can be thought of as a sequence of OR operations on the provided iterables. It short circuit the execution i.e. stop the execution as soon as the result is known. \n",
        "\n",
        "Syntax: \n",
        "\n",
        "any(list of iterables) "
      ],
      "metadata": {
        "id": "4DsDPbQA30oO"
      }
    },
    {
      "cell_type": "code",
      "source": [
        "# Since all are false, false is returned\n",
        "print (any([False, False, False, False]))\n",
        "\n",
        "# Here the method will short-circuit at the\n",
        "# second item (True) and will return True.\n",
        "print (any([False, True, False, False]))\n",
        "\n",
        "# Here the method will short-circuit at the\n",
        "# first (True) and will return True.\n",
        "print (any([True, False, False, False]))\n"
      ],
      "metadata": {
        "colab": {
          "base_uri": "https://localhost:8080/"
        },
        "id": "1dgtcR9e3k-b",
        "outputId": "ec13c776-ce41-4d9b-f1bc-2758d15b2797"
      },
      "execution_count": 120,
      "outputs": [
        {
          "output_type": "stream",
          "name": "stdout",
          "text": [
            "False\n",
            "True\n",
            "True\n"
          ]
        }
      ]
    },
    {
      "cell_type": "code",
      "source": [
        "# Here all the iterables are True so all\n",
        "# will return True and the same will be printed\n",
        "print (all([True, True, True, True]))\n",
        "\n",
        "# Here the method will short-circuit at the\n",
        "# first item (False) and will return False.\n",
        "print (all([False, True, True, False]))\n",
        "\n",
        "# This statement will return False, as no\n",
        "# True is found in the iterables\n",
        "print (all([False, False, False]))\n"
      ],
      "metadata": {
        "colab": {
          "base_uri": "https://localhost:8080/"
        },
        "id": "mjv2WzEj3lBt",
        "outputId": "5f01635c-f250-4282-9fa3-b0442d71df25"
      },
      "execution_count": 121,
      "outputs": [
        {
          "output_type": "stream",
          "name": "stdout",
          "text": [
            "True\n",
            "False\n",
            "False\n"
          ]
        }
      ]
    },
    {
      "cell_type": "markdown",
      "source": [
        "Python has predefined functions for many mathematical, logical, relational, bitwise etc operations under the module “operator”. Some of the basic functions are covered in this article.\n",
        "\n",
        "1. add(a, b) :- This function returns addition of the given arguments.\n",
        "Operation – a + b.\n",
        "\n",
        "2. sub(a, b) :- This function returns difference of the given arguments.\n",
        "Operation – a – b.\n",
        "\n",
        "3. mul(a, b) :- This function returns product of the given arguments.\n",
        "Operation – a * b."
      ],
      "metadata": {
        "id": "DKDrzxQP44h2"
      }
    },
    {
      "cell_type": "code",
      "source": [
        "# Python code to demonstrate working of\n",
        "# add(), sub(), mul()\n",
        "\n",
        "# importing operator module\n",
        "import operator\n",
        "\n",
        "# Initializing variables\n",
        "a = 4\n",
        "\n",
        "b = 3\n",
        "\n",
        "# using add() to add two numbers\n",
        "print (\"The addition of numbers is :\",end=\"\");\n",
        "print (operator.add(a, b))\n",
        "\n",
        "# using sub() to subtract two numbers\n",
        "print (\"The difference of numbers is :\",end=\"\");\n",
        "print (operator.sub(a, b))\n",
        "\n",
        "# using mul() to multiply two numbers\n",
        "print (\"The product of numbers is :\",end=\"\");\n",
        "print (operator.mul(a, b))\n"
      ],
      "metadata": {
        "colab": {
          "base_uri": "https://localhost:8080/"
        },
        "id": "zg2p5Clm3lEx",
        "outputId": "a3bb47b0-d51a-4f91-f35c-ea50420489a7"
      },
      "execution_count": 122,
      "outputs": [
        {
          "output_type": "stream",
          "name": "stdout",
          "text": [
            "The addition of numbers is :7\n",
            "The difference of numbers is :1\n",
            "The product of numbers is :12\n"
          ]
        }
      ]
    },
    {
      "cell_type": "markdown",
      "source": [
        "4. truediv(a,b) :- This function returns division of the given arguments.\n",
        "Operation – a / b.\n",
        "\n",
        "5. floordiv(a,b) :- This function also returns division of the given arguments. But the value is floored value i.e. returns greatest small integer.\n",
        "Operation – a // b.\n",
        "\n",
        "6. pow(a,b) :- This function returns exponentiation of the given arguments.\n",
        "Operation – a ** b.\n",
        "\n",
        "7. mod(a,b) :- This function returns modulus of the given arguments.\n",
        "Operation – a % b."
      ],
      "metadata": {
        "id": "g1Ds9AlC4_ls"
      }
    },
    {
      "cell_type": "code",
      "source": [
        "# Python code to demonstrate working of\n",
        "# truediv(), floordiv(), pow(), mod()\n",
        "\n",
        "# importing operator module\n",
        "import operator\n",
        "\n",
        "# Initializing variables\n",
        "a = 5\n",
        "\n",
        "b = 2\n",
        "\n",
        "# using truediv() to divide two numbers\n",
        "print (\"The true division of numbers is : \",end=\"\");\n",
        "print (operator.truediv(a,b))\n",
        "\n",
        "# using floordiv() to divide two numbers\n",
        "print (\"The floor division of numbers is : \",end=\"\");\n",
        "print (operator.floordiv(a,b))\n",
        "\n",
        "# using pow() to exponentiate two numbers\n",
        "print (\"The exponentiation of numbers is : \",end=\"\");\n",
        "print (operator.pow(a,b))\n",
        "\n",
        "# using mod() to take modulus of two numbers\n",
        "print (\"The modulus of numbers is : \",end=\"\");\n",
        "print (operator.mod(a,b))\n"
      ],
      "metadata": {
        "colab": {
          "base_uri": "https://localhost:8080/"
        },
        "id": "D_3KRAA03lHp",
        "outputId": "48f05c8c-1fe6-4825-e3dd-e1544ba87058"
      },
      "execution_count": 123,
      "outputs": [
        {
          "output_type": "stream",
          "name": "stdout",
          "text": [
            "The true division of numbers is : 2.5\n",
            "The floor division of numbers is : 2\n",
            "The exponentiation of numbers is : 25\n",
            "The modulus of numbers is : 1\n"
          ]
        }
      ]
    },
    {
      "cell_type": "markdown",
      "source": [
        "8. lt(a, b) :- This function is used to check if a is less than b or not. Returns true if a is less than b, else returns false.\n",
        "Operation – a < b.\n",
        "\n",
        "9. le(a, b) :- This function is used to check if a is less than or equal to b or not. Returns true if a is less than or equal to b, else returns false.\n",
        "Operation – a <= b.\n",
        "\n",
        "10. eq(a, b) :- This function is used to check if a is equal to b or not. Returns true if a is equal to b, else returns false.\n",
        "Operation – a == b."
      ],
      "metadata": {
        "id": "XQXA5Epo5GTq"
      }
    },
    {
      "cell_type": "code",
      "source": [
        "# Python code to demonstrate working of\n",
        "# lt(), le() and eq()\n",
        "\n",
        "# importing operator module\n",
        "import operator\n",
        "\n",
        "# Initializing variables\n",
        "a = 3\n",
        "\n",
        "b = 3\n",
        "\n",
        "# using lt() to check if a is less than b\n",
        "if(operator.lt(a,b)):\n",
        "\tprint (\"3 is less than 3\")\n",
        "else : print (\"3 is not less than 3\")\n",
        "\n",
        "# using le() to check if a is less than or equal to b\n",
        "if(operator.le(a,b)):\n",
        "\tprint (\"3 is less than or equal to 3\")\n",
        "else : print (\"3 is not less than or equal to 3\")\n",
        "\n",
        "# using eq() to check if a is equal to b\n",
        "if (operator.eq(a,b)):\n",
        "\tprint (\"3 is equal to 3\")\n",
        "else : print (\"3 is not equal to 3\")\n"
      ],
      "metadata": {
        "colab": {
          "base_uri": "https://localhost:8080/"
        },
        "id": "eaqQfQjY3lKu",
        "outputId": "f76bfe08-03d9-4136-a721-c26a2af4aefc"
      },
      "execution_count": 124,
      "outputs": [
        {
          "output_type": "stream",
          "name": "stdout",
          "text": [
            "3 is not less than 3\n",
            "3 is less than or equal to 3\n",
            "3 is equal to 3\n"
          ]
        }
      ]
    },
    {
      "cell_type": "markdown",
      "source": [
        "11. gt(a,b) :- This function is used to check if a is greater than b or not. Returns true if a is greater than b, else returns false.\n",
        "Operation – a > b.\n",
        "\n",
        "12. ge(a,b) :- This function is used to check if a is greater than or equal to b or not. Returns true if a is greater than or equal to b, else returns false.\n",
        "Operation – a >= b.\n",
        "\n",
        "13. ne(a,b) :- This function is used to check if a is not equal to b or is equal. Returns true if a is not equal to b, else returns false.\n",
        "Operation – a != b."
      ],
      "metadata": {
        "id": "PzVTrumQ5NUS"
      }
    },
    {
      "cell_type": "code",
      "source": [
        "# Python code to demonstrate working of\n",
        "# gt(), ge() and ne()\n",
        "\n",
        "# importing operator module\n",
        "import operator\n",
        "\n",
        "# Initializing variables\n",
        "a = 4\n",
        "\n",
        "b = 3\n",
        "\n",
        "# using gt() to check if a is greater than b\n",
        "if (operator.gt(a,b)):\n",
        "\tprint (\"4 is greater than 3\")\n",
        "else : print (\"4 is not greater than 3\")\n",
        "\n",
        "# using ge() to check if a is greater than or equal to b\n",
        "if (operator.ge(a,b)):\n",
        "\tprint (\"4 is greater than or equal to 3\")\n",
        "else : print (\"4 is not greater than or equal to 3\")\n",
        "\n",
        "# using ne() to check if a is not equal to b\n",
        "if (operator.ne(a,b)):\n",
        "\tprint (\"4 is not equal to 3\")\n",
        "else : print (\"4 is equal to 3\")\n"
      ],
      "metadata": {
        "colab": {
          "base_uri": "https://localhost:8080/"
        },
        "id": "hHU7kaLg3lNt",
        "outputId": "665581a1-d976-429d-c764-c6b9289ef9d7"
      },
      "execution_count": 125,
      "outputs": [
        {
          "output_type": "stream",
          "name": "stdout",
          "text": [
            "4 is greater than 3\n",
            "4 is greater than or equal to 3\n",
            "4 is not equal to 3\n"
          ]
        }
      ]
    },
    {
      "cell_type": "markdown",
      "source": [
        "More functions are discussed in this article.\n",
        "\n",
        "1. setitem(ob, pos, val) :- This function is used to assign the value at a particular position in the container. \n",
        "Operation – ob[pos] = val\n",
        "\n",
        "2. delitem(ob, pos) :- This function is used to delete the value at a particular position in the container. \n",
        "Operation – del ob[pos]\n",
        "\n",
        "3. getitem(ob, pos) :- This function is used to access the value at a particular position in the container. \n",
        "Operation – ob[pos]"
      ],
      "metadata": {
        "id": "Zs2TLAnH5bCZ"
      }
    },
    {
      "cell_type": "code",
      "source": [
        "# Python code to demonstrate working of\n",
        "# setitem(), delitem() and getitem()\n",
        "\n",
        "# importing operator module\n",
        "import operator\n",
        "\n",
        "# Initializing list\n",
        "li = [1, 5, 6, 7, 8]\n",
        "\n",
        "# printing original list\n",
        "print (\"The original list is : \",end=\"\")\n",
        "for i in range(0,len(li)):\n",
        "\tprint (li[i],end=\" \")\n",
        "\n",
        "print (\"\\r\")\n",
        "\n",
        "# using setitem() to assign 3 at 4th position\n",
        "operator.setitem(li,3,3)\n",
        "\n",
        "# printing modified list after setitem()\n",
        "print (\"The modified list after setitem() is : \",end=\"\")\n",
        "for i in range(0,len(li)):\n",
        "\tprint (li[i],end=\" \")\n",
        "\n",
        "print (\"\\r\")\n",
        "\n",
        "# using delitem() to delete value at 2nd index\n",
        "operator.delitem(li,1)\n",
        "\n",
        "# printing modified list after delitem()\n",
        "print (\"The modified list after delitem() is : \",end=\"\")\n",
        "for i in range(0,len(li)):\n",
        "\tprint (li[i],end=\" \")\n",
        "\n",
        "print (\"\\r\")\n",
        "\n",
        "# using getitem() to access 4th element\n",
        "print (\"The 4th element of list is : \",end=\"\")\n",
        "print (operator.getitem(li,3))\n"
      ],
      "metadata": {
        "colab": {
          "base_uri": "https://localhost:8080/"
        },
        "id": "Z6Uox9HM3lRD",
        "outputId": "8a96319f-aa84-4017-bcb0-269865716f27"
      },
      "execution_count": 126,
      "outputs": [
        {
          "output_type": "stream",
          "name": "stdout",
          "text": [
            "The original list is : 1 5 6 7 8 \n",
            "The modified list after setitem() is : 1 5 6 3 8 \n",
            "The modified list after delitem() is : 1 6 3 8 \n",
            "The 4th element of list is : 8\n"
          ]
        }
      ]
    },
    {
      "cell_type": "markdown",
      "source": [
        "4. setitem(ob, slice(a,b), vals) :- This function is used to set the values in a particular range in the container. \n",
        "Operation – obj[a:b] = vals\n",
        "\n",
        "5. delitem(ob, slice(a,b)) :- This function is used to delete the values from a particular range in the container. \n",
        "Operation – del obj[a:b]\n",
        "\n",
        "6. getitem(ob, slice(a,b)) :- This function is used to access the values in a particular range in the container. \n",
        "Operation – obj[a:b]"
      ],
      "metadata": {
        "id": "A_GO9aLy5q_v"
      }
    },
    {
      "cell_type": "code",
      "source": [
        "# Python code to demonstrate working of\n",
        "# setitem(), delitem() and getitem()\n",
        "\n",
        "# importing operator module\n",
        "import operator\n",
        "\n",
        "# Initializing list\n",
        "li = [1, 5, 6, 7, 8]\n",
        "\n",
        "# printing original list\n",
        "print (\"The original list is : \",end=\"\")\n",
        "for i in range(0,len(li)):\n",
        "\tprint (li[i],end=\" \")\n",
        "\n",
        "print (\"\\r\")\n",
        "\n",
        "# using setitem() to assign 2,3,4 at 2nd,3rd and 4th index\n",
        "operator.setitem(li,slice(1,4),[2,3,4])\n",
        "\n",
        "# printing modified list after setitem()\n",
        "print (\"The modified list after setitem() is : \",end=\"\")\n",
        "for i in range(0,len(li)):\n",
        "\tprint (li[i],end=\" \")\n",
        "\n",
        "print (\"\\r\")\n",
        "\n",
        "# using delitem() to delete value at 3rd and 4th index\n",
        "operator.delitem(li,slice(2,4))\n",
        "\n",
        "# printing modified list after delitem()\n",
        "print (\"The modified list after delitem() is : \",end=\"\")\n",
        "for i in range(0,len(li)):\n",
        "\tprint (li[i],end=\" \")\n",
        "\n",
        "print (\"\\r\")\n",
        "\n",
        "# using getitem() to access 1st and 2nd element\n",
        "print (\"The 1st and 2nd element of list is : \",end=\"\")\n",
        "print (operator.getitem(li,slice(0,2)))\n"
      ],
      "metadata": {
        "colab": {
          "base_uri": "https://localhost:8080/"
        },
        "id": "IcPPS8Zb3lUz",
        "outputId": "213f021c-8113-420a-d26f-65c9f90efb22"
      },
      "execution_count": 127,
      "outputs": [
        {
          "output_type": "stream",
          "name": "stdout",
          "text": [
            "The original list is : 1 5 6 7 8 \r\n",
            "The modified list after setitem() is : 1 2 3 4 8 \r\n",
            "The modified list after delitem() is : 1 2 8 \r\n",
            "The 1st and 2nd element of list is : [1, 2]\n"
          ]
        }
      ]
    },
    {
      "cell_type": "markdown",
      "source": [
        "7. concat(obj1,obj2) :- This function is used to concatenate two containers. \n",
        "Operation – obj1 + obj2\n",
        "\n",
        "8. contains(obj1,obj2) :- This function is used to check if obj2 in present in obj1. \n",
        "Operation – obj2 in obj1"
      ],
      "metadata": {
        "id": "CKLxp5AT5w-P"
      }
    },
    {
      "cell_type": "code",
      "source": [
        "# Python code to demonstrate working of\n",
        "# concat() and contains()\n",
        "\n",
        "# importing operator module\n",
        "import operator\n",
        "\n",
        "# Initializing string 1\n",
        "s1 = \"python\"\n",
        "\n",
        "# Initializing string 2\n",
        "s2 = \"for\"\n",
        "\n",
        "# using concat() to concatenate two strings\n",
        "print (\"The concatenated string is : \",end=\"\")\n",
        "print (operator.concat(s1,s2))\n",
        "\n",
        "# using contains() to check if s1 contains s2\n",
        "if (operator.contains(s1,s2)):\n",
        "\tprint (\"python contains learning\")\n",
        "else : print (\"python does not contain learning\")\n"
      ],
      "metadata": {
        "colab": {
          "base_uri": "https://localhost:8080/"
        },
        "id": "DjvYqMF43lXy",
        "outputId": "08707ea5-3311-4ac1-c9c7-e125b7304b63"
      },
      "execution_count": 128,
      "outputs": [
        {
          "output_type": "stream",
          "name": "stdout",
          "text": [
            "The concatenated string is : pythonfor\n",
            "python does not contain learning\n"
          ]
        }
      ]
    },
    {
      "cell_type": "markdown",
      "source": [
        "9. and_(a,b) :- This function is used to compute bitwise and of the mentioned arguments. \n",
        "Operation – a & b\n",
        "\n",
        "10. or_(a,b) :- This function is used to compute bitwise or of the mentioned arguments. \n",
        "Operation – a | b\n",
        "\n",
        "11. xor(a,b) :- This function is used to compute bitwise xor of the mentioned arguments. \n",
        "Operation – a ^ b\n",
        "\n",
        "12. invert(a) :- This function is used to compute bitwise inversion of the mentioned argument. \n",
        "Operation – ~ a"
      ],
      "metadata": {
        "id": "27LRmXMe54qw"
      }
    },
    {
      "cell_type": "code",
      "source": [
        "# Python code to demonstrate working of\n",
        "# and_(), or_(), xor(), invert()\n",
        "\n",
        "# importing operator module\n",
        "import operator\n",
        "\n",
        "# Initializing a and b\n",
        "\n",
        "a = 1\n",
        "\n",
        "b = 0\n",
        "\n",
        "# using and_() to display bitwise and operation\n",
        "print (\"The bitwise and of a and b is : \",end=\"\")\n",
        "print (operator.and_(a,b))\n",
        "\n",
        "# using or_() to display bitwise or operation\n",
        "print (\"The bitwise or of a and b is : \",end=\"\")\n",
        "print (operator.or_(a,b))\n",
        "\n",
        "# using xor() to display bitwise exclusive or operation\n",
        "print (\"The bitwise xor of a and b is : \",end=\"\")\n",
        "print (operator.xor(a,b))\n",
        "\n",
        "# using invert() to invert value of a\n",
        "operator.invert(a)\n",
        "\n",
        "# printing modified value\n",
        "print (\"The inverted value of a is : \",end=\"\")\n",
        "print (operator.invert(a))\n"
      ],
      "metadata": {
        "colab": {
          "base_uri": "https://localhost:8080/"
        },
        "id": "M08BwH2a3lbW",
        "outputId": "0807fe4c-e659-47ec-a058-39130215f5f5"
      },
      "execution_count": 129,
      "outputs": [
        {
          "output_type": "stream",
          "name": "stdout",
          "text": [
            "The bitwise and of a and b is : 0\n",
            "The bitwise or of a and b is : 1\n",
            "The bitwise xor of a and b is : 1\n",
            "The inverted value of a is : -2\n"
          ]
        }
      ]
    },
    {
      "cell_type": "code",
      "source": [
        "#Difference between == and 'is' operator\n",
        "\n",
        "list1 = []\n",
        "list2 = []\n",
        "list3 = list1\n",
        "\n",
        "# case 1\n",
        "if (list1 == list2):\n",
        "\tprint(\"True\")\n",
        "else:\n",
        "\tprint(\"False\")\n",
        "\n",
        "# case 2\n",
        "if (list1 is list2):\n",
        "\tprint(\"True\")\n",
        "else:\n",
        "\tprint(\"False\")\n",
        "\n",
        "# case 3\n",
        "if (list1 is list3):\n",
        "\tprint(\"True\")\n",
        "else:\n",
        "\tprint(\"False\")\n",
        "\t\n",
        "# case 4\n",
        "list3 = list3 + list2\n",
        "\n",
        "if (list1 is list3):\n",
        "\tprint(\"True\")\n",
        "else:\n",
        "\tprint(\"False\")\n"
      ],
      "metadata": {
        "colab": {
          "base_uri": "https://localhost:8080/"
        },
        "id": "uOvw-pHs57iG",
        "outputId": "1dfb831c-ef32-4225-f5e5-9ccd811267ee"
      },
      "execution_count": 130,
      "outputs": [
        {
          "output_type": "stream",
          "name": "stdout",
          "text": [
            "True\n",
            "False\n",
            "True\n",
            "False\n"
          ]
        }
      ]
    },
    {
      "cell_type": "markdown",
      "source": [
        "# **DATA TYPES:**\n",
        "\n",
        "01.Strings in Python: A string is a sequence of characters that can be a combination of letters, numbers, and special characters. It can be declared in python by using single quotes, double quotes, or even triple quotes. These quotes are not a part of a string, they define only starting and ending of the string.  Strings are immutable, i.e., they cannot be changed. Each element of the string can be accessed using indexing or slicing operations."
      ],
      "metadata": {
        "id": "asRi5EdC_W8y"
      }
    },
    {
      "cell_type": "code",
      "source": [
        "# Assigning string to a variable\n",
        "a = 'This is a string'\n",
        "print (a)\n",
        "b = \"This is a string\"\n",
        "print (b)\n",
        "c= '''This is a string'''\n",
        "print (c)\n"
      ],
      "metadata": {
        "colab": {
          "base_uri": "https://localhost:8080/"
        },
        "id": "b8fG44M36u7d",
        "outputId": "174a0efb-fcb0-453d-a42a-987cd5a8a39e"
      },
      "execution_count": 131,
      "outputs": [
        {
          "output_type": "stream",
          "name": "stdout",
          "text": [
            "This is a string\n",
            "This is a string\n",
            "This is a string\n"
          ]
        }
      ]
    },
    {
      "cell_type": "code",
      "source": [
        "# Python Program for\n",
        "# Creation of String\n",
        "\n",
        "# Creating a String\n",
        "# with single Quotes\n",
        "String1 = 'Welcome to the python World'\n",
        "print(\"String with the use of Single Quotes: \")\n",
        "print(String1)\n",
        "\n",
        "# Creating a String\n",
        "# with double Quotes\n",
        "String1 = \"I'm a python\"\n",
        "print(\"\\nString with the use of Double Quotes: \")\n",
        "print(String1)\n",
        "\n",
        "# Creating a String\n",
        "# with triple Quotes\n",
        "String1 = '''I'm a python and I live in a world of \"pyhton\"'''\n",
        "print(\"\\nString with the use of Triple Quotes: \")\n",
        "print(String1)\n",
        "\n",
        "# Creating String with triple\n",
        "# Quotes allows multiple lines\n",
        "String1 = '''python\n",
        "\t\t\tFor\n",
        "\t\t\tLife'''\n",
        "print(\"\\nCreating a multiline String: \")\n",
        "print(String1)\n"
      ],
      "metadata": {
        "colab": {
          "base_uri": "https://localhost:8080/"
        },
        "id": "-9hR1fkk-jkr",
        "outputId": "ff9611b2-6556-4073-ddab-a5ce95ae3321"
      },
      "execution_count": 132,
      "outputs": [
        {
          "output_type": "stream",
          "name": "stdout",
          "text": [
            "String with the use of Single Quotes: \n",
            "Welcome to the python World\n",
            "\n",
            "String with the use of Double Quotes: \n",
            "I'm a python\n",
            "\n",
            "String with the use of Triple Quotes: \n",
            "I'm a python and I live in a world of \"pyhton\"\n",
            "\n",
            "Creating a multiline String: \n",
            "python\n",
            "\t\t\tFor\n",
            "\t\t\tLife\n"
          ]
        }
      ]
    },
    {
      "cell_type": "markdown",
      "source": [
        "Accessing characters in Python String:\n",
        "\n",
        "\n",
        "![image.png](data:image/png;base64,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)"
      ],
      "metadata": {
        "id": "GqcO3s98BPWh"
      }
    },
    {
      "cell_type": "code",
      "source": [
        "# Python Program to Access\n",
        "# characters of String\n",
        "\n",
        "String1 = \"mahendrapankaj\"\n",
        "print(\"Initial String: \")\n",
        "print(String1)\n",
        "\n",
        "# Printing First character\n",
        "print(\"\\nFirst character of String is: \")\n",
        "print(String1[0])\n",
        "\n",
        "# Printing Last character\n",
        "print(\"\\nLast character of String is: \")\n",
        "print(String1[-1])\n"
      ],
      "metadata": {
        "colab": {
          "base_uri": "https://localhost:8080/"
        },
        "id": "Lmvh2LiF-joX",
        "outputId": "0774f79a-e9f6-4337-8d83-2e1a1aac7ef3"
      },
      "execution_count": 133,
      "outputs": [
        {
          "output_type": "stream",
          "name": "stdout",
          "text": [
            "Initial String: \n",
            "mahendrapankaj\n",
            "\n",
            "First character of String is: \n",
            "m\n",
            "\n",
            "Last character of String is: \n",
            "j\n"
          ]
        }
      ]
    },
    {
      "cell_type": "code",
      "source": [
        "#Program to reverse a string\n",
        "ch = \"mahendrapankaj\"\n",
        "print(ch[::-1])\n"
      ],
      "metadata": {
        "colab": {
          "base_uri": "https://localhost:8080/"
        },
        "id": "hSyfktyz-jrV",
        "outputId": "0d7e45d2-ec60-418b-b454-396733321a81"
      },
      "execution_count": 134,
      "outputs": [
        {
          "output_type": "stream",
          "name": "stdout",
          "text": [
            "jaknapardneham\n"
          ]
        }
      ]
    },
    {
      "cell_type": "code",
      "source": [
        "# Program to reverse a string\n",
        "\n",
        "ch = \"mahendrapankaj\"\n",
        "\n",
        "# Reverse the string using reversed and join function\n",
        "ch = \"\".join(reversed(ch))\n",
        "\n",
        "print(ch)\n"
      ],
      "metadata": {
        "colab": {
          "base_uri": "https://localhost:8080/"
        },
        "id": "HSnVP63v-juO",
        "outputId": "6ea2bfae-b8b2-4fcf-9687-b26b0a43fe59"
      },
      "execution_count": 135,
      "outputs": [
        {
          "output_type": "stream",
          "name": "stdout",
          "text": [
            "jaknapardneham\n"
          ]
        }
      ]
    },
    {
      "cell_type": "code",
      "source": [
        "# Python Program to\n",
        "# demonstrate String slicing\n",
        "\n",
        "# Creating a String\n",
        "String1 = \"pythonforcoding\"\n",
        "print(\"Initial String: \")\n",
        "print(String1)\n",
        "\n",
        "# Printing 3rd to 12th character\n",
        "print(\"\\nSlicing characters from 3-12: \")\n",
        "print(String1[3:12])\n",
        "\n",
        "# Printing characters between\n",
        "# 3rd and 2nd last character\n",
        "print(\"\\nSlicing characters between \" +\n",
        "\t\"3rd and 2nd last character: \")\n",
        "print(String1[3:-2])\n"
      ],
      "metadata": {
        "colab": {
          "base_uri": "https://localhost:8080/"
        },
        "id": "xx4Um1_0-jxY",
        "outputId": "80d6d59e-da5e-4625-8dd6-f331fe987b19"
      },
      "execution_count": 136,
      "outputs": [
        {
          "output_type": "stream",
          "name": "stdout",
          "text": [
            "Initial String: \n",
            "pythonforcoding\n",
            "\n",
            "Slicing characters from 3-12: \n",
            "honforcod\n",
            "\n",
            "Slicing characters between 3rd and 2nd last character: \n",
            "honforcodi\n"
          ]
        }
      ]
    },
    {
      "cell_type": "markdown",
      "source": [
        "02.List: Python Lists are just like dynamically sized arrays, declared in other languages (vector in C++ and ArrayList in Java). In simple language, a list is a collection of things, enclosed in [ ] and separated by commas. \n",
        "\n",
        "\n",
        "The list is a sequence data type which is used to store the collection of data. Tuples and String are other types of sequence data types."
      ],
      "metadata": {
        "id": "NOdLR9iEEXWI"
      }
    },
    {
      "cell_type": "code",
      "source": [
        "Var = [\"python\", \"for\", \"learning\"]\n",
        "print(Var)\n"
      ],
      "metadata": {
        "colab": {
          "base_uri": "https://localhost:8080/"
        },
        "id": "R_hnj-8b-j61",
        "outputId": "67b2a193-45a1-4f9a-ebd6-6c7379ec6c71"
      },
      "execution_count": 137,
      "outputs": [
        {
          "output_type": "stream",
          "name": "stdout",
          "text": [
            "['python', 'for', 'learning']\n"
          ]
        }
      ]
    },
    {
      "cell_type": "code",
      "source": [
        "# Python program to demonstrate\n",
        "# Creation of List\n",
        "\n",
        "# Creating a List\n",
        "List = []\n",
        "print(\"Blank List: \")\n",
        "print(List)\n",
        "\n",
        "# Creating a List of numbers\n",
        "List = [10, 20, 14]\n",
        "print(\"\\nList of numbers: \")\n",
        "print(List)\n",
        "\n",
        "# Creating a List of strings and accessing\n",
        "# using index\n",
        "List = [\"python\", \"For\", \"python\"]\n",
        "print(\"\\nList Items: \")\n",
        "print(List[0])\n",
        "print(List[2])\n"
      ],
      "metadata": {
        "colab": {
          "base_uri": "https://localhost:8080/"
        },
        "id": "Zou3wqFK-j96",
        "outputId": "a60ac689-04ef-454e-c5e9-c24c6f1b9d4d"
      },
      "execution_count": 138,
      "outputs": [
        {
          "output_type": "stream",
          "name": "stdout",
          "text": [
            "Blank List: \n",
            "[]\n",
            "\n",
            "List of numbers: \n",
            "[10, 20, 14]\n",
            "\n",
            "List Items: \n",
            "python\n",
            "python\n"
          ]
        }
      ]
    },
    {
      "cell_type": "code",
      "source": [
        "# Creating a List with\n",
        "# the use of Numbers\n",
        "# (Having duplicate values)\n",
        "List = [1, 2, 4, 4, 3, 3, 3, 6, 5]\n",
        "print(\"\\nList with the use of Numbers: \")\n",
        "print(List)\n",
        "\n",
        "# Creating a List with\n",
        "# mixed type of values\n",
        "# (Having numbers and strings)\n",
        "List = [1, 2, 'python', 4, 'For', 6, 'learning']\n",
        "print(\"\\nList with the use of Mixed Values: \")\n",
        "print(List)\n"
      ],
      "metadata": {
        "colab": {
          "base_uri": "https://localhost:8080/"
        },
        "id": "UeRUuDAhFF-6",
        "outputId": "9bf29d92-11d6-4768-9105-d794a3dd3fae"
      },
      "execution_count": 139,
      "outputs": [
        {
          "output_type": "stream",
          "name": "stdout",
          "text": [
            "\n",
            "List with the use of Numbers: \n",
            "[1, 2, 4, 4, 3, 3, 3, 6, 5]\n",
            "\n",
            "List with the use of Mixed Values: \n",
            "[1, 2, 'python', 4, 'For', 6, 'learning']\n"
          ]
        }
      ]
    },
    {
      "cell_type": "code",
      "source": [
        "# Creating a Multi-Dimensional List\n",
        "# (By Nesting a list inside a List)\n",
        "List = [['python', 'For'], ['learning']]\n",
        "\n",
        "# accessing an element from the\n",
        "# Multi-Dimensional List using\n",
        "# index number\n",
        "print(\"Accessing a element from a Multi-Dimensional list\")\n",
        "print(List[0][1])\n",
        "print(List[1][0])\n"
      ],
      "metadata": {
        "colab": {
          "base_uri": "https://localhost:8080/"
        },
        "id": "XBZH0-TQFGCG",
        "outputId": "9c15950d-9b21-466f-e7fb-ca923a338f92"
      },
      "execution_count": 140,
      "outputs": [
        {
          "output_type": "stream",
          "name": "stdout",
          "text": [
            "Accessing a element from a Multi-Dimensional list\n",
            "For\n",
            "learning\n"
          ]
        }
      ]
    },
    {
      "cell_type": "code",
      "source": [
        "List = [1, 2, 'python', 4, 'For', 6, 'learning']\n",
        "\n",
        "# accessing an element using\n",
        "# negative indexing\n",
        "print(\"Accessing element using negative indexing\")\n",
        "\n",
        "# print the last element of list\n",
        "print(List[-1])\n",
        "\n",
        "# print the third last element of list\n",
        "print(List[-3])\n"
      ],
      "metadata": {
        "colab": {
          "base_uri": "https://localhost:8080/"
        },
        "id": "LCtArongFGE7",
        "outputId": "9d1dd7d9-91bb-4a91-e7cb-1e4e9a239c23"
      },
      "execution_count": 141,
      "outputs": [
        {
          "output_type": "stream",
          "name": "stdout",
          "text": [
            "Accessing element using negative indexing\n",
            "learning\n",
            "For\n"
          ]
        }
      ]
    },
    {
      "cell_type": "code",
      "source": [
        "# Creating a List\n",
        "List1 = []\n",
        "print(len(List1))\n",
        "\n",
        "# Creating a List of numbers\n",
        "List2 = [10, 20, 14]\n",
        "print(len(List2))\n"
      ],
      "metadata": {
        "colab": {
          "base_uri": "https://localhost:8080/"
        },
        "id": "t8a-_rvmFGHh",
        "outputId": "d6b651f8-0c47-4c94-d4a3-4dbbf9828b22"
      },
      "execution_count": 142,
      "outputs": [
        {
          "output_type": "stream",
          "name": "stdout",
          "text": [
            "0\n",
            "3\n"
          ]
        }
      ]
    },
    {
      "cell_type": "code",
      "source": [
        "# Python program to take space\n",
        "# separated input as a string\n",
        "# split and store it to a list\n",
        "# and print the string list\n",
        "\n",
        "# input the list as string\n",
        "string = input(\"Enter elements (Space-Separated): \")\n",
        "\n",
        "# split the strings and store it to a list\n",
        "lst = string.split()\n",
        "print('The list is:', lst) # printing the list\n"
      ],
      "metadata": {
        "colab": {
          "base_uri": "https://localhost:8080/"
        },
        "id": "FD1INFZVFGNB",
        "outputId": "0fcc34fc-b442-445f-b473-b5b939ac4dea"
      },
      "execution_count": 143,
      "outputs": [
        {
          "output_type": "stream",
          "name": "stdout",
          "text": [
            "Enter elements (Space-Separated): mahendra\n",
            "The list is: ['mahendra']\n"
          ]
        }
      ]
    },
    {
      "cell_type": "code",
      "source": [
        "# input size of the list\n",
        "n = int(input(\"Enter the size of list : \"))\n",
        "# store integers in a list using map,\n",
        "# split and strip functions\n",
        "lst = list(map(int, input(\"Enter the integer elements:\").strip().split()))[:n]\n",
        "\n",
        "# printing the list\n",
        "print('The list is:', lst)"
      ],
      "metadata": {
        "colab": {
          "base_uri": "https://localhost:8080/",
          "height": 252
        },
        "id": "EGiqCXqqFGP9",
        "outputId": "1f7940b6-8ccc-4892-d64e-372b50b46872"
      },
      "execution_count": 144,
      "outputs": [
        {
          "name": "stdout",
          "output_type": "stream",
          "text": [
            "Enter the size of list : mahendra\n"
          ]
        },
        {
          "output_type": "error",
          "ename": "ValueError",
          "evalue": "ignored",
          "traceback": [
            "\u001b[0;31m---------------------------------------------------------------------------\u001b[0m",
            "\u001b[0;31mValueError\u001b[0m                                Traceback (most recent call last)",
            "\u001b[0;32m<ipython-input-144-afef0e6fe12b>\u001b[0m in \u001b[0;36m<cell line: 2>\u001b[0;34m()\u001b[0m\n\u001b[1;32m      1\u001b[0m \u001b[0;31m# input size of the list\u001b[0m\u001b[0;34m\u001b[0m\u001b[0;34m\u001b[0m\u001b[0m\n\u001b[0;32m----> 2\u001b[0;31m \u001b[0mn\u001b[0m \u001b[0;34m=\u001b[0m \u001b[0mint\u001b[0m\u001b[0;34m(\u001b[0m\u001b[0minput\u001b[0m\u001b[0;34m(\u001b[0m\u001b[0;34m\"Enter the size of list : \"\u001b[0m\u001b[0;34m)\u001b[0m\u001b[0;34m)\u001b[0m\u001b[0;34m\u001b[0m\u001b[0;34m\u001b[0m\u001b[0m\n\u001b[0m\u001b[1;32m      3\u001b[0m \u001b[0;31m# store integers in a list using map,\u001b[0m\u001b[0;34m\u001b[0m\u001b[0;34m\u001b[0m\u001b[0m\n\u001b[1;32m      4\u001b[0m \u001b[0;31m# split and strip functions\u001b[0m\u001b[0;34m\u001b[0m\u001b[0;34m\u001b[0m\u001b[0m\n\u001b[1;32m      5\u001b[0m \u001b[0mlst\u001b[0m \u001b[0;34m=\u001b[0m \u001b[0mlist\u001b[0m\u001b[0;34m(\u001b[0m\u001b[0mmap\u001b[0m\u001b[0;34m(\u001b[0m\u001b[0mint\u001b[0m\u001b[0;34m,\u001b[0m \u001b[0minput\u001b[0m\u001b[0;34m(\u001b[0m\u001b[0;34m\"Enter the integer elements:\"\u001b[0m\u001b[0;34m)\u001b[0m\u001b[0;34m.\u001b[0m\u001b[0mstrip\u001b[0m\u001b[0;34m(\u001b[0m\u001b[0;34m)\u001b[0m\u001b[0;34m.\u001b[0m\u001b[0msplit\u001b[0m\u001b[0;34m(\u001b[0m\u001b[0;34m)\u001b[0m\u001b[0;34m)\u001b[0m\u001b[0;34m)\u001b[0m\u001b[0;34m[\u001b[0m\u001b[0;34m:\u001b[0m\u001b[0mn\u001b[0m\u001b[0;34m]\u001b[0m\u001b[0;34m\u001b[0m\u001b[0;34m\u001b[0m\u001b[0m\n",
            "\u001b[0;31mValueError\u001b[0m: invalid literal for int() with base 10: 'mahendra'"
          ]
        }
      ]
    },
    {
      "cell_type": "code",
      "source": [
        "# Python program to demonstrate\n",
        "# Addition of elements in a List\n",
        "\n",
        "# Creating a List\n",
        "List = []\n",
        "print(\"Initial blank List: \")\n",
        "print(List)\n",
        "\n",
        "# Addition of Elements\n",
        "# in the List\n",
        "List.append(1)\n",
        "List.append(2)\n",
        "List.append(4)\n",
        "print(\"\\nList after Addition of Three elements: \")\n",
        "print(List)\n",
        "\n",
        "# Adding elements to the List\n",
        "# using Iterator\n",
        "for i in range(1, 4):\n",
        "\tList.append(i)\n",
        "print(\"\\nList after Addition of elements from 1-3: \")\n",
        "print(List)\n",
        "\n",
        "# Adding Tuples to the List\n",
        "List.append((5, 6))\n",
        "print(\"\\nList after Addition of a Tuple: \")\n",
        "print(List)\n",
        "\n",
        "# Addition of List to a List\n",
        "List2 = ['For', 'python']\n",
        "List.append(List2)\n",
        "print(\"\\nList after Addition of a List: \")\n",
        "print(List)\n"
      ],
      "metadata": {
        "id": "bFvkYebMFGSg"
      },
      "execution_count": null,
      "outputs": []
    },
    {
      "cell_type": "code",
      "source": [
        "# Python program to demonstrate\n",
        "# Addition of elements in a List\n",
        "\n",
        "# Creating a List\n",
        "List = [1,2,3,4]\n",
        "print(\"Initial List: \")\n",
        "print(List)\n",
        "\n",
        "# Addition of Element at\n",
        "# specific Position\n",
        "# (using Insert Method)\n",
        "List.insert(3, 12)\n",
        "List.insert(0, 'python')\n",
        "print(\"\\nList after performing Insert Operation: \")\n",
        "print(List)\n"
      ],
      "metadata": {
        "id": "YCye7nH1FGU_"
      },
      "execution_count": null,
      "outputs": []
    },
    {
      "cell_type": "code",
      "source": [
        "# Python program to demonstrate\n",
        "# Addition of elements in a List\n",
        "\n",
        "# Creating a List\n",
        "List = [1, 2, 3, 4]\n",
        "print(\"Initial List: \")\n",
        "print(List)\n",
        "\n",
        "# Addition of multiple elements\n",
        "# to the List at the end\n",
        "# (using Extend Method)\n",
        "List.extend([8, 'python', 'Always'])\n",
        "print(\"\\nList after performing Extend Operation: \")\n",
        "print(List)\n"
      ],
      "metadata": {
        "id": "7iwnsVYm-kAv"
      },
      "execution_count": null,
      "outputs": []
    },
    {
      "cell_type": "code",
      "source": [
        "# Reversing a list\n",
        "mylist = [1, 2, 3, 4, 5, 'class', 'Python']\n",
        "mylist.reverse()\n",
        "print(mylist)"
      ],
      "metadata": {
        "id": "cKLpIJruGlcp"
      },
      "execution_count": null,
      "outputs": []
    },
    {
      "cell_type": "code",
      "source": [
        "# Python program to demonstrate\n",
        "# Removal of elements in a List\n",
        "\n",
        "# Creating a List\n",
        "List = [1, 2, 3, 4, 5, 6,\n",
        "\t\t7, 8, 9, 10, 11, 12]\n",
        "print(\"Initial List: \")\n",
        "print(List)\n",
        "\n",
        "# Removing elements from List\n",
        "# using Remove() method\n",
        "List.remove(5)\n",
        "List.remove(6)\n",
        "print(\"\\nList after Removal of two elements: \")\n",
        "print(List)"
      ],
      "metadata": {
        "id": "mwWjM_FVGn7b"
      },
      "execution_count": null,
      "outputs": []
    },
    {
      "cell_type": "code",
      "source": [
        "List = [1, 2, 3, 4, 5]\n",
        "\n",
        "# Removing element from the\n",
        "# Set using the pop() method\n",
        "List.pop()\n",
        "print(\"\\nList after popping an element: \")\n",
        "print(List)\n",
        "\n",
        "# Removing element at a\n",
        "# specific location from the\n",
        "# Set using the pop() method\n",
        "List.pop(2)\n",
        "print(\"\\nList after popping a specific element: \")\n",
        "print(List)\n"
      ],
      "metadata": {
        "id": "F4AWHcDlGqWc"
      },
      "execution_count": null,
      "outputs": []
    },
    {
      "cell_type": "markdown",
      "source": [
        "**UNDERSTANDING SLICING OF LISTS:**\n",
        "\n",
        "pr[0] accesses the first item, 2.\n",
        "pr[-4] accesses the fourth item from the end, 5.\n",
        "pr[2:] accesses [5, 7, 11, 13], a list of items from third to last.\n",
        "pr[:4] accesses [2, 3, 5, 7], a list of items from first to fourth.\n",
        "pr[2:4] accesses [5, 7], a list of items from third to fifth.\n",
        "pr[1::2] accesses [3, 7, 13], alternate items, starting from the second item.\n",
        "\n",
        "\n",
        "![image.png](data:image/png;base64,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)"
      ],
      "metadata": {
        "id": "2s-nozkTGzgi"
      }
    },
    {
      "cell_type": "code",
      "source": [
        "# Python program to demonstrate\n",
        "# Removal of elements in a List\n",
        "\n",
        "# Creating a List\n",
        "List = ['M' 'A' 'H' 'E' 'N' 'D' 'R' 'A']\n",
        "print(\"Initial List: \")\n",
        "print(List)\n",
        "\n",
        "# Print elements of a range\n",
        "# using Slice operation\n",
        "Sliced_List = List[3:8]\n",
        "print(\"\\nSlicing elements in a range 3-8: \")\n",
        "print(Sliced_List)\n",
        "\n",
        "# Print elements from a\n",
        "# pre-defined point to end\n",
        "Sliced_List = List[5:]\n",
        "print(\"\\nElements sliced from 5th \"\n",
        "\t\"element till the end: \")\n",
        "print(Sliced_List)\n",
        "\n",
        "# Printing elements from\n",
        "# beginning till end\n",
        "Sliced_List = List[:]\n",
        "print(\"\\nPrinting all elements using slice operation: \")\n",
        "print(Sliced_List)\n"
      ],
      "metadata": {
        "id": "e0mxmE99GuyI"
      },
      "execution_count": null,
      "outputs": []
    },
    {
      "cell_type": "code",
      "source": [
        "# Creating a List\n",
        "List = ['M' 'A' 'H' 'E' 'N' 'D' 'R' 'A']\n",
        "print(\"Initial List: \")\n",
        "print(List)\n",
        "\n",
        "# Print elements from beginning\n",
        "# to a pre-defined point using Slice\n",
        "Sliced_List = List[:-6]\n",
        "print(\"\\nElements sliced till 6th element from last: \")\n",
        "print(Sliced_List)\n",
        "\n",
        "# Print elements of a range\n",
        "# using negative index List slicing\n",
        "Sliced_List = List[-6:-1]\n",
        "print(\"\\nElements sliced from index -6 to -1\")\n",
        "print(Sliced_List)\n",
        "\n",
        "# Printing elements in reverse\n",
        "# using Slice operation\n",
        "Sliced_List = List[::-1]\n",
        "print(\"\\nPrinting List in reverse: \")\n",
        "print(Sliced_List)\n"
      ],
      "metadata": {
        "id": "fJtSQIiAHDAS"
      },
      "execution_count": null,
      "outputs": []
    },
    {
      "cell_type": "code",
      "source": [
        "# Python program to demonstrate list\n",
        "# comprehension in Python\n",
        "\n",
        "# below list contains square of all\n",
        "# odd numbers from range 1 to 10\n",
        "odd_square = [x ** 2 for x in range(1, 11) if x % 2 == 1]\n",
        "print(odd_square)\n"
      ],
      "metadata": {
        "id": "MKAIftxHHF4b"
      },
      "execution_count": null,
      "outputs": []
    },
    {
      "cell_type": "markdown",
      "source": [
        "**03.Tuple**: Tuple is a collection of Python objects much like a list. The sequence of values stored in a tuple can be of any type, and they are indexed by integers. \n",
        "\n",
        "Values of a tuple are syntactically separated by ‘commas’. Although it is not necessary, it is more common to define a tuple by closing the sequence of values in parentheses. This helps in understanding the Python tuples more easily."
      ],
      "metadata": {
        "id": "S6saRBWtIAqL"
      }
    },
    {
      "cell_type": "code",
      "source": [
        "# Creating an empty Tuple\n",
        "Tuple1 = ()\n",
        "print(\"Initial empty Tuple: \")\n",
        "print(Tuple1)\n",
        "\n",
        "# Creating a Tuple\n",
        "# with the use of string\n",
        "Tuple1 = ('mahend', 'pankaj')\n",
        "print(\"\\nTuple with the use of String: \")\n",
        "print(Tuple1)\n",
        "\n",
        "# Creating a Tuple with\n",
        "# the use of list\n",
        "list1 = [1, 2, 4, 5, 6]\n",
        "print(\"\\nTuple using List: \")\n",
        "print(tuple(list1))\n",
        "\n",
        "# Creating a Tuple\n",
        "# with the use of built-in function\n",
        "Tuple1 = tuple('mahend')\n",
        "print(\"\\nTuple with the use of function: \")\n",
        "print(Tuple1)\n"
      ],
      "metadata": {
        "id": "U7dZUHNBHJmt"
      },
      "execution_count": null,
      "outputs": []
    },
    {
      "cell_type": "code",
      "source": [
        "# Creating a Tuple\n",
        "# with Mixed Datatype\n",
        "Tuple1 = (5, 'Welcome', 7, 'python')\n",
        "print(\"\\nTuple with Mixed Datatypes: \")\n",
        "print(Tuple1)\n",
        "\n",
        "# Creating a Tuple\n",
        "# with nested tuples\n",
        "Tuple1 = (0, 1, 2, 3)\n",
        "Tuple2 = ('python', 'mp')\n",
        "Tuple3 = (Tuple1, Tuple2)\n",
        "print(\"\\nTuple with nested tuples: \")\n",
        "print(Tuple3)\n",
        "\n",
        "# Creating a Tuple\n",
        "# with repetition\n",
        "Tuple1 = ('mahend',) * 3\n",
        "print(\"\\nTuple with repetition: \")\n",
        "print(Tuple1)\n",
        "\n",
        "# Creating a Tuple\n",
        "# with the use of loop\n",
        "Tuple1 = ('mahend')\n",
        "n = 5\n",
        "print(\"\\nTuple with a loop\")\n",
        "for i in range(int(n)):\n",
        "\tTuple1 = (Tuple1,)\n",
        "\tprint(Tuple1)\n"
      ],
      "metadata": {
        "id": "vdCk4nUgIx8Y"
      },
      "execution_count": null,
      "outputs": []
    },
    {
      "cell_type": "code",
      "source": [
        "# Accessing Tuple\n",
        "# with Indexing\n",
        "Tuple1 = tuple(\"mahend\")\n",
        "print(\"\\nFirst element of Tuple: \")\n",
        "print(Tuple1[0])\n",
        "\n",
        "\n",
        "# Tuple unpacking\n",
        "Tuple1 = (\"i\", \"am\", \"mahend\")\n",
        "\n",
        "# This line unpack\n",
        "# values of Tuple1\n",
        "a, b, c = Tuple1\n",
        "print(\"\\nValues after unpacking: \")\n",
        "print(a)\n",
        "print(b)\n",
        "print(c)\n"
      ],
      "metadata": {
        "id": "zj_e1MCQI1pr"
      },
      "execution_count": null,
      "outputs": []
    },
    {
      "cell_type": "code",
      "source": [
        "# Concatenation of tuples\n",
        "Tuple1 = (0, 1, 2, 3)\n",
        "Tuple2 = ('i', 'am', 'mahendra')\n",
        "\n",
        "Tuple3 = Tuple1 + Tuple2\n",
        "\n",
        "# Printing first Tuple\n",
        "print(\"Tuple 1: \")\n",
        "print(Tuple1)\n",
        "\n",
        "# Printing Second Tuple\n",
        "print(\"\\nTuple2: \")\n",
        "print(Tuple2)\n",
        "\n",
        "# Printing Final Tuple\n",
        "print(\"\\nTuples after Concatenation: \")\n",
        "print(Tuple3)\n"
      ],
      "metadata": {
        "id": "i0Un8T-PI65N"
      },
      "execution_count": null,
      "outputs": []
    },
    {
      "cell_type": "markdown",
      "source": [
        "Slicing of a Tuple is done to fetch a specific range or slice of sub-elements from a Tuple. Slicing can also be done to lists and arrays. Indexing in a list results to fetching a single element whereas Slicing allows to fetch a set of elements. \n",
        "\n",
        "Note- Negative Increment values can also be used to reverse the sequence of Tuples. \n",
        "\n",
        "\n",
        "![image.png](data:image/png;base64,iVBORw0KGgoAAAANSUhEUgAAAw0AAAEZCAIAAABaW14TAAAgAElEQVR4nOxdd3wU1fY/M7O72U0PKSRAEoqKNEGKojRBUHyCgvJUrA9FVCxgR/mJIvJUVIoPEAREwSeK/aEEsdAUFbDgQ0kEKaH3Eki2zMz9/fHNHG42Cc/gkg16vx8/cZmdvXPm3nvKPefcczUhBCkoKCgoKCgoKJSDHm0CFBQUFBQUFBRqKJSdpKCgoKCgoKBQMZSdpKCgoKCgoKBQMZSdpKCgoKCgoKBQMZSdpKCgoKCgoKBQMZSdpKCgoKCgoKBQMZSdpKCgoKCgoKBQMZSdpKCgoKCgoKBQMZSdpKCgoKCgoKBQMZSdpKCgoKCgoKBQMZSdpKCgoKCgoKBQMZSdpKCgoKCgoKBQMZSdpKCgoKCgoKBQMZSdpKCgoKCgoKBQMZSdpKCgoKCgoKBQMU7ETvriiy86dOiQkJCQnJzcunXrzz//XAhBRPPnz1+4cCE+899QKERElmXZto2fW5ZFRPn5+dOmTbNtm68T0aRJk3Rd/+qrr3ARf/Fbvg0to1n8E1f4K9M0+bf4sH79+pdeegnX8XRGIBCQf/vDDz9oDnRdT0tLu+yyy7Zt20ZEwWAQd5qmiZv9fr/8RvKL4AoTJoMJ4Ablm+XXQZtCiFWrVoEepi03N5eIateufeGFF8oth3Wy3I2fffbZp59+in7jR8TExOi6jpbdbremaUOHDiWizMzM7t27487y7wKqwmgOGzJ8JY8CtyBfXLBgwaefflq+l/7KiAh/bdiw4V//+pfcLOZ/fHy8PJdcLtfDDz/M/FW+HXLGa9KkSZqmLVu2jMrOUjQrA99OmzaN7//ss88+/vhjIlq7dq2maU8//bTcPj7g73PPPadp2ieffCIzdRhrMOOkpqb26NED5IGM8jeHESk/iydtGHCRW5g2bdqaNWtImtUkcRZfkTlOforcjUKI2rVrX3TRRXJfyexARF988cW8efOoLMf5fD6Xy4UhS0pKOu+88xYtWmTbdpg0QwvoH/wVQoQNENPMBJumya8cJh8UFBSIyFXVHxw6dKhHjx6tWrV64YUXTNN85plnLrnkkm3btqWnp48YMeKcc8656KKLLMsyDAOCxu12E5FhGERUUlLi9XrxecaMGZ9++umAAQNcLheUscvl8ng8QgiIAyLSdd3v93u9Xn46vg0Ggx6PB1dwJ0maw+VyhUIhPLekpMTn87344ouff/75HXfcAcK4tWAwGBMTw82SI1x69uzZuXPnmJiYNWvWzJ49+5prrvnss89iYmIgR/Bo27ZBGJ6Fv2ifn6Jpmm3buq5DWuEGPNqyLI/Hgztt20Z38Yv7/f6YmBjoM26tY8eOffv2Ra/GxsYKIWbMmJGcnAwZp+s6bsMNhmEEAgG8na7rpmkOGzasbdu2PXr0IEc6G4bh8/lSU1MfeOAB0zRBQ4cOHUAeKNE0DW/EtDE9IFh+WfmKbdsy/bpeapFzh+Db4cOHt2/fvlu3bvK4/JURKf6aMGHC4sWLb7vtNp5mLpfLNE2Xy5WVlXX//ffrug5F26ZNG4wOOAifcac87pj2wWCQmQVwuVzk6GMQg287d+48d+7cpk2bEtH999/fpUuXv/3tb0TkdrtN0wQLYzLIk5znGBpnMgzD4IfijTRNi4uLO3ToEF4EZDD7uN1udBHmOYQMPqNNNIWXhZAxTRPE4CshhK7rBw4cuPPOO996662mTZuCQvxcphmMBjbBzw3DkMUCVlbonFdeeSU+Pp5/JfckXuThhx8+99xze/furWlaKBTCqHk8ntTU1KFDh2qatn379lmzZvXu3XvPnj0+nw+jJosaPJG7l+WhaZqWZUEmgEiMAp6L6YSegTSO0IxWUDj1IaqIL7/8kohGjhwJ5v/pp5/mzJlz4MCBnJwcSNL27dtDhTdo0CA2NrZLly6FhYWhUGjixIm6rj///PO1atW69NJL8XSXy3XkyBG0bNv2hAkT3G73yy+/3LRp05SUlEceeQSmybx585o1a+b1ejt06LBnzx4hxNNPP+3xeMaOHZuUlLR06dL8/PyLLrooPj7+9NNP/+yzz9BgKBQSQgwcOBDP0nU9EAhs3bq1V69eXq83JSXlpptuOnz4MEQ8VtKrVq3yeDxDhw5lwXH22WcnJCSgtRdeeCE3N9fr9d56662hUMi27YSEhKuuuuqaa66Ji4u74IILfvrpp6ZNmyYnJ0+cOLGoqEgIsWLFijZt2rjd7gYNGjzzzDNCiAceeICI1qxZI4QoLi72er2XXXaZEGLevHlt2rSJiYnp2LHj3r17scRHt3z33Xe6rj/44INCCCgq0Fy3bt0uXbqYpjl27FgiGjt2bEpKyjfffDNv3ryzzz7b5/M1aNBg8uTJQohGjRrBeXDOOedg4PBG8fHx559/Pj8oFArh24yMjM6dO2MB/cwzz9SvXz82NvaOO+44evSoECIhIeHqq6/u37+/x+O58MILf/jhh5YtW8bGxk6YMEEIEQgEPvnkk5YtW/p8vq5du+7YsUMI8fzzz7tcrtdee61Ro0bJycnDhg2zbfu0006DnujQoUNV5+GfFRHkL2hxy7IGDRpERNu2bRNCxMbGdurUiUec5znGdODAgT6fr3nz5r/99htuuO2223w+35lnnnnvvfcahrFkyRJcF0L8/e9/z87OFkLs3bvXMIzMzEzbtvft2xcTEzN8+PCZM2fCn9SwYUNQfu655xYUFBDRY489duGFF8bHx/ft23f//v3cYCgUevbZZ10uV15e3o8//khEzz77bNeuXX0+X8+ePYuLi4UQS5cuzcnJSUxMfPjhh3Nyci688EL8fMyYMVlZWQkJCQMHDgwGg998841hGMOHD7dt+9VXXyWi1157TQiRl5fXunVrj8fTuXPn3bt3BwKBw4cPDxo0KDU1NSkpCc5jyA3TNDdv3gzjhojAfTNmzGjUqJHL5TrjjDMWLFgAocFjl5ycfPnll1911VUul6tp06a//vqrEOK5556LiYmZPHlycnLy8uXL69at2717dyHE+PHjdV1/4403GjZsWKtWrWHDhgWDwTPOOKNCjkhMTGzbti3/c8iQIUT09ddfm6Y5ffr00047zefzdenSBU988cUXDcN49dVXGzZsmJaW9vDDD2Muvfjiizk5ObVr154yZYqu648++qgQoqCgoHv37omJibm5uStXrhSShFFQUACqbCft378/OTk5Pj5+6NChH3300b59+3B91apVRHTVVVf9+uuv+fn5RHTdddctXbo0Nja2b9++wWBw0qRJRNS2bdtZs2atWrWqRYsW2dnZP/74I6ttIcTUqVOJ6JxzzpkwYULz5s2J6Jdfftm8eXNSUlKvXr1+/PHHli1bduvWzbZt3Nm6deu5c+du27atVatWubm533777a233pqUlHT48GE0a5rmhg0bmjZtesYZZ6xYscI0zQ4dOqSnp7/++utTpkzx+Xw33HADxKIQwrbtr7/+Wtf1wYMHb9q0qbCw8OOPP05KSmrdurUQYs6cObqujxw5cunSpQkJCaNGjRJCZGRkxMXF/fvf/7711lsNw2jcuPGiRYtg7oRCoT179sTHx5911ll5eXl33HEHEc2YMWP58uVQAJZlffLJJ5Dgv/32W1JS0sUXX4x37Nq1q3DsPCHEihUriOj222/fuHHjpk2b1q9fv3PnTiFEZmYm7nzppZeIqE2bNm+88camTZuSk5Mvu+yyr7/+evjw4ZmZmVu2bPnqq68Mw7jyyivXrl0rHFEYCoUSEhKaN2++YcOG3377rbCwsLCwECZjnTp1ENGYO3euruuPP/74559/npycPGrUKMuysrKyEhMT58yZAxu0RYsWn376acuWLePj4w8ePLh169bY2NiePXuuWbOmefPm3bt35/Hq0qXLl19+eeGFF+q6np+fj/fCnDnhGfwnQ6T4q0mTJg0aNPj222+FEKNHj27Xrt2ePXts24YZtGnTJgz69u3bYdDXrl07NTV18uTJ//73vzVN69+/vxBi+vTpmqbdfffdixYtys7O1jQNgT/YBxMmTHC5XDt37nz33XczMjI0TduwYcM333wDFT5hwgQiWrJkyfLly3Vd79ev37p1637++WciqlOnztixY3v37k1EM2fORNxHOEsRl8v10UcfIdRVp06dBQsWwPv1yiuvBIPBRo0aZWVlffrpp3fffbfb7e7YsaMQ4u2339Z1/cknn1yyZInP53viiScsy4KF99NPP6Wnp1988cVCiIKCAp/P17t37xUrVpx11lmwscaOHatpWl5e3oIFCxo2bPjwww/jBcEIWIE899xz27dvz8vLI6Lrr79+4cKF559/fmxs7IYNGzA6WD8gGj5nzpxFixZ5vd6ePXsGg0HwZosWLWbMmLF37960tDQ8d8qUKUTUsWPHlStXdurUSdO0devWwUru37//f//7X1kwut3uc845Z926db/99tv333/frl27+Pj4nTt3FhQUeL3ea6+99osvvkhISPj73/8uhJg8eTJ47dtvv+3UqZNhGL/99tvatWt9Pl+LFi3y8vK6dOlCRI8//rhpms2bN2/QoMGKFStuuummpKSkgwcPCknyKCgoiBOwk4QQy5Ytw3KQiGJiYoYMGVJcXHz06FEiuuuuu4QQe/fuLSgogKOodevWTZo0EQ73zp49G/zfpk2bpk2byqsx0zQh6//9738LIV555RXDMN59912kLCxYsEAIMXHiRK/Xu3PnzkmTJhmG8frrr5umuXr1aiIaNmyYEAKf586dKxPctm1bPGvdunUwOPC4bt26JSQkwGgAVVjFsvtd07TmzZuvXr3atu3LLruMiI4cOWLb9pVXXtmkSRPbtmvXrt2qVSshBKwfLDofe+wxIlq3bh1e+YMPPrBtu6SkJC4u7tJLLxVC1KlTB2vKQYMGeb3eAwcOQKl88skntm1PmzaNiOCGsSyrpKRkxYoVmqbBYQ5/eJcuXYLBYK1atXr06GFZ1sSJE9FvoVDIsiyfz9eqVau33npry5Yt8Akhnnj33XejTf6LMA2W+1jIrlq1yrbttLS0Hj16CCH+9re/uVyukpISIUTfvn0xlBkZGWeeeaZpmt98842maQ899JAQYuTIkUSUn5/P7+L3+2fMmKHr+p49e6AV3nvvPSHE3Llziejdd989fPgwEQ0ZMgTEKAAR4a+2bdviunDMGiFEKBSKi4uTo2O6rn/33XcY8TPPPBMDccYZZ7Ro0cI0zeuvv56I4HN94okndF1ftmwZ6+/vv/+eiL744osHH3zwpptuatmy5ezZs1988cWYmJiioiI4LZYvX15SUsKUr1mzxuVy/eMf/xBCbNq0iYgGDx7MWtmyrBdeeIGI5s+fD8/TnXfeKYRAguCQIUNwcejQoUII27bdbneXLl2EEH369CGi4uLiQCBw/fXXN2/eXAhx8ODB3Nxcn8+XlJS0efNmy7Jgsnz66adCiClTpmiatnPnzqeeekrX9f/7v/+De8ayLHk2vvfeeyxP+vfvT0T79u2zLOvbb78lomeeeSYQCPDNGRkZTZs2xYtccskl8NZjhfD666/jemZm5gUXXGDb9ksvveR2u+fOnVtSUvLuu++CO4qLi3VdHzRokDxwpmkmJCSQEyUkotTUVDR46NCh77777sCBAxjx0047zbIsPPGdd96xLOuNN95Ayy+//DK/yMKFC+GzXL16Nd7dtm2kjr311lsRns0KCqc+qhyEFkJ07Njxs88+O3r06KpVq0aOHDlhwoRzzz0XZgTSU3RdHzp06LJlyyzL8vv9OTk5iJQTUW5uLofDkThMRPD/wwJA/oRt25mZmRBYe/fuJaI+ffogtyAQCGzZsgUZMBkZGYZh7Nmzx+12jx07dty4cWhz8+bNRMRpTCz4duzY4XK5MjMzicgwjHr16n3xxRdFRUW1atVCkAI/6dWr14033rhixYp//vOf11xzTfPmzTVNO3z4sGEY6enpbrcbCRDIsElOTg4GgwkJCW63OyMjQwgBoVZcXLx7924iql27tqZpiPRt2rTJNM1+/fpNnTr1yJEjCxcu7NatG9wwhmFcfvnlbrf76NGjmqbt2rUrPT3dMAyv14u0gx49etx8881CCNhnbrc7Pj4+FArpuo5Mqdq1a8PCe/XVV4cMGXLdddfhWbNnz4auEk6eO/LAoIazsrLGjx8fDAaRxnHmmWciJwnaC545vBc5ae+2bTds2FDX9bi4OCJKT0+3LCs2NhaNY7z69eunaVogELBte/PmzUgNSUlJISLOHUE2cTAYZAWgEEH+wlTBlEC6GFgsJydnzJgxyAsOhUIYcbfbnZWVhUbi4uL8fr9hGDt27PB6vfHx8UKIevXqITKLvBa32924cePk5OTvv//+iy++uOWWW5KTk5cuXVpcXNyuXTvsD8DyAHnEuq4Hg0Fk24Dg1NRUsD+oAqnITEIyDRFlZ2ebppmSkmIYxtGjR/fu3atpWu3atZFwk5KSgmm5Z88eIqpbt65t24cOHUpKSrIsKykp6YYbbnjqqacuu+yynJwcIQTEAsLc4KmtW7feeeed33333VNPPfXPf/6zdu3aM2bM6NmzpxACuUFerxcdZVnWjh074uLiatWqRUT4u2XLFk6pRHpTnTp18LKY6keOHMH1unXrcpaV1+vFIIZCoYyMDE4pQ9oWRgqTgbOdLMtq3Ljx6NGjTdMcMGDA2Weffd111xHR0aNHn3rqqSVLlhw8eNC27UaNGiEZ0eVypaenQzoRUSAQ2LVrl9vtrlevnmmaDRo0AIPv37/ftu3Ro0ePHz8eEwYrK0i26pv0Cgo1G1W2kz755JM5c+aMGjUqJyenS5cuTz31VOfOnTdu3AhhIYQwDGPMmDF5eXmLFy/u0KFDq1atoMv5Bt60xfvFWIJDPiJNEoJS07TGjRsLIaZNm9a+fXtI24YNG65atUoIASlQp06dUCh0zz33DB482O12Q3/bts253rqu43rt2rVN0zxw4AARWZZVWFiYmJiYnJzMWdhEFAwG69evf/nll19++eULFiwYM2bMwIEDa9WqlZaWpmnad999h5RPl8uFpZ7b7UYuZCgUQq63z+fDQxs2bEhEW7ZsadOmTUlJyeHDh5s0aeJyua688soXX3zxpZdeKiwsfPzxxyHULMuaPn36+eef7/V6IUAhy2ARElGTJk2Qx41uhBEDcVZcXExEPp8PErZPnz5///vf165d+8Ybb4wePfqqq67q1asXOblo6BYI31AolJmZ2atXLwwQESEIgqxwTdOysrLi4uKWL1+O/uEuLS4uxiBC5aC1mJgY27br169PRBMnTmzXrh3uz8rK+vHHHzmHFHqiqKjIsiy3282Juic4hf9ciBR/CSHAR+Sk3vPfOnXq9OnTh28Do4VCIXli43pGRkYoFCoqKoqPj9+wYQPuJyenOzY2tn379kuXLv3hhx8uuOACn883efLkkpKSXr16ud1uuDCx4YCTkcGVvMtSCAFLGhYzOTlVuJmIYFqVlJSAeNjrBw4ccLvdBw8ePHLkCAzu7Oxsr9f79ddfo32YaLt3754wYUKzZs3eeuutu+++u0OHDmeccYZhGBMnTuzevXsgENA0rX79+rZtv/fee0ePHl28ePG999573333de/eHUwdDAZN04STyTCMnJycxYsXYwGzbds2XAFPsQRbv349EcHggImJDGuPxwNSwXRhOfIAp4HHxsbiiRgODFBiYuKVV15JRF9++eXEiRPnz5/fo0ePyZMnv//++4sXL+7YsWPr1q2Li4vRmaZpwrYTTpZ3enp6KBTCQnHTpk2QdXXr1iWiIUOGDB48GFyckJCgjCQFhTBUmR80TZszZ06PHj1Gjx49bty4oUOHWpbVqVMn7Pj48ssvlyxZUlxcbBjG+vXrZ8yYsXXr1p07d7L4gFwQQsTFxW3duvXDDz8MBoO8vUXe7Q++PXz48CWXXOLz+d58881du3Y98cQTd911F+/GgnujcePGLVu2nD9//s6dO19//fUrrrhi165d7KkiIq/Xu2HDhnnz5mVnZ3fo0GHmzJnvvPPOpEmTli1bdvXVV8OKIkdGYx8NKBkxYsThw4dHjhzpdrvhnpk7d+6GDRtuueWW8ePH834uyEoseTVNKykpwfW//e1viYmJo0aN+vLLLx955JHDhw8PGDCAiDp37pycnDx69Ghd16+44gohRK9evWJiYj7++OPdu3c//PDDiMcREVQd3gU5T1i5QmPxbhfQj5f97bffUlNTH3300UAgULt2bSJKSEiA0fPNN98sX76ctytjG1phYeFYBy+88MLbb78NyU5EwWDwhhtuOHr06DvvvLNz587BgwdPmjQJstvj8aCLsLGOPxiGceGFF8bGxr777rv79u178sknb7vtNjiNWOKXlJS43e6YmBgEPb/66isktShQRPmrsLDwgw8+KCkpGT9+fNu2bRHldLvdGzZsGD9+/HPPPffCCy+MGzcOwVC3211cXAz97XK5DMMwDKNLly6WZT300EMff/zxrFmzcJuQdpW3adNm3rx5aWlpjRo16tat28qVK9esWdO5c2d+HdM0fT6faZrLly//6quvXC4XXCb4StM0j8cjO5X5h3BwsuUHKyQ3N7devXozZsz44IMPRowY4ff7QcbVV1/t9/vfeOONnTt33nLLLWPHjnW73bfeeqvP51u2bFmrVq0GDBhw9OjRHj16eDyeefPmbdy4cfTo0bfffrtpmkOGDMnOzl65cmVKSkpCQgIcw5ioHo8HXtIFCxYUFBT079/f5XLde++9ixcvHj58uGEY/fv3DzN0tm/f/uyzz86aNevbb7/t1q0bTB9ehAhnRyEbtVh+gM2xrwJJYCtXrgwEAtiq5nK5sF8P3TJixAiv1/vQQw8ZhnHw4EFd17ds2TJlypRNmzbt3bsXPjM8i3eqWpbVsWNHXdfHjBnz0UcfoS6Dz+erX7/+WWed9Z///Gfbtm1z5sy57LLLduzYwdQqKCiU4nfG5xjI7W3dunViYmJiYiIyqbEAHTBgADaSFBQUNGvWzOfzXX/99R988EFiYuIVV1yB3KMvv/wS7bzyyis+ny89PX3fvn0cJkACwfLly23bnj9/PhG9+eabpmnOnz+/adOmsbGxzZs3x3Y25Lt89dVXWKKtW7euR48esbGx9erVYx8ywgS2bc+ePRtBsZ07d27btq1v377p6elpaWkPPPAAEjB548/KlSuJCPvscKVNmzaGYeTn5wshxowZk52dHRsbe9FFF23evFkIUatWrYsvvti27R9++MHtdj/77LNCCORYYEfbl19+ef7558fFxZ155pkTJ07kbhw4cKDL5brkkkv40Xl5eei0Vq1aoX5MWB73Qw89JG9Q8vv9derU6datm3ByINC3pmm++OKLDRo00HU9JyfnscceQ1M333wzNsVw50CbkmNmERE2xAkhMjMzkW1qWdYzzzyTnZ0dFxfXvXv3jRs3IseiW7duoVDo559/1jRtzJgx6Bxd1//73/8KIY4zXqZpzps3D9aAaZqDBg2KiYnp1KlTVefhnxWR4q8ZM2bExsZmZGTs2rULewh27dolnBHngA4RIRUatbjw23bt2jVu3Biej/79+ycmJp511llPPvmkYRjY5CWcyYnaV71790aSX1pamsvlQroM6EHSz2233RYTE9OhQ4eCggLDMDAni4qKiAi5OHhBy7KgwufPn//LL7+43e6RI0fynchkWrRoEfa7jRw5snHjxtj9Z9v2008/nZOTEx8f36NHj99++w15OTNnzhRCfPHFF5qmPfroo5Zl5eXlNWnSJCEhoWXLlnl5eUKITZs2XXzxxXFxcfHx8V26dMnPz5ejlkeOHGnbtm1MTMxjjz0WCoVmz57dpEkTr9fbrl27RYsWheXVZWRkdO3a9frrr8cNyPJG3SmMC/LAkFQ+ceJE7Ac0TTMvL0/TNFiit912m67rzKfIBktMTDzvvPO4lx588EEimjp16tq1a1u0aOHxeG688cZ58+bFxcX169cPdbMgG1GKac6cOYFAYNy4campqfXr1x8/fjwRjRgxQgjx66+/XnzxxT6fLzc394UXXuCNkJGe1woKpzBKHelVsquQ1gDlig/CqU0inBWtXKREDniLssVXwn7OP0QCBHwn3I5MKq+becVZXFzMKTJogQsdCSEQveIwBLuC5FgSScWBQBj/hMnmLAp28/BP2OMt51sg20C+k7tO7gpulm/gyjH8IJkGkpI6yVmac2yFaRBO5oQ8FlzoBe3IAS/288vVU8oHxbioldxLomxxqbBVadgrMMq/y18cEeSv8jdXGN8UTryVzWVyEvUQ0eOfhM0r+Ajl0B45hZSQ08MEhL1OGAE8aeFAYl7QpPpb3L7lVOeSnTRh84efy43IbMivzNyE+C++wp3w8ci3cQ/IlZxIYgEhRHZ2drNmzbhuKr8siwKmU64AV74ryKmuJL8Oy7ewsZB/KHcvHiGP+P79+w3DiIuLW7lyZefOnV988cVbb70VYU2kCsgUKigoMKrMFcIJ9MC3wSpflpK4E+k7RIRMRluqHstbZpDHAB0vnGqTRMTeeJbCkF8wCKBIyBFh+MtChH3m+BVvXmOvPgsOLkAnf0uSzoDdw2LX7/ejKdgu+AkUBjml3sIaFM6KkKTqc/gWS3C+jYUp9CLsFRbKwgl2QCuwlYMcLwRKEKrgTmOyOeMEw8TNIrZiSzV8Qbwsf3Ezp7CABkhwfhfeG8jBONZMFY4X/HzHpqCTvatAkeMvcip/WlLNQJ60plO9GpFcNhR4roJ9kHFPzsTDBCYn6IZMIPyEJwliZLIlEQgEOF0J78X04wMegbkHywxGISwhfMuvzwyIRDoQz8/iPGikFnHkTmbYsK5A2J09Q2ifq1aGiQW2/5hzefMgWMl2ql3zagejQ9JigNdmQiqnjrcAF9u2jUxHcuw2IQTkWyAQwIuDQj5OAFFvLgrdm1oAACAASURBVK5LTg4Zh8X3798Pd9fKlSvHjh2L3b5YicFI4glDUv6DgoICnYCdxFqN7Q/ZOaHrOuta/ixXgJWNiTBXB6tkiCFuGbISz2JBwKKNHIXB4tLr9UJg4Veww5h+tkhYo0OOyFtLWKKxPOKWS71wzjIdP+R99Wy3YamNBuEYC3Oc6LqOaryaU8BadlDxzSywOOuT3wVNwa9jWZa8uY+HgxyRx4v7MD8E38yCGzYNOhO5EUQEecpWEWhgncfOSeh1FBGobLygCNlyZaVY1Xn4Z0UE+Qs2EPct9hVqTro0xho1ozHKsruIJyEmCVrG/UQEI57nP5vjpnNkEGYdWkBeHfaFYWIw6/H0hhXFmYLs6+VuweNAA7usYJpwQX/bSeImIo/Hw7YOnDHkmO/oFpKMLXkGMnezpYWlCB5kWRYSwOGmEk7OEHMlXlNmFu5SkuxXcjiaMyNhIZFjfXIKJi9CyFmisA8PG0fwAaYVaIDdw/Y0rickJLz11lslJSXdu3f/8ccf33nnnYYNG6IrWIqyf668z09B4a+MKsfdGLwAki+yQx57W+yy25LZqc53hsWqZL9xWDyLvwoLbIWFEthLj39WSB6VDU+QFJvDPzmMhVdgrSOfNMImkRwIwM/lyBpHTNhSYd0AvxFfD1v6lyeyfC/xeQtyaBK9yhqFKSx/G7cjv0KFYyF71GCZMc3sewuL2VU2XlQ2KiekszIUZPxB/gIQv2ZXIkkhJ8uyTNOUz+3hGB/PuvITA8YuDyialWPcPPFIOkyDmxLlQoFhMUGO9AkpZscOqjBbv3w8MSxOzRYeOcsPNp5k+cPPAv2y2SQHyGS+JudwD7nDESwTFUUbyVkzyEyHR8tMwZ0sixSmAR9YqoRFBtnQCYuks8HNsdSwUZalEJWL6CkoKFRZP1nOEZJYA7HIwLcsxMHMvI8DwgtMy1Eq4VQxgaBnjev3+9nJL3smZB84u6NBA9aFsnkE8M1mucMgQTZbLRD3pmlim4lhGKj55nK5/H6/pmnQTGwksVriUBeTx5G1QCCAFlhwQ7q53W4UYWJjy5byJ2wnlRKtYZsSOYEJaD7oSN4Thxt4JxGbRxxkkR1jHJiA7wfROhbKsreJpNAMLvJZe2gBC2I8hTUW/lY2XvBq8MIa2kLF3RiR4i+OPpNz9h/chLgN9SbYA8ExPnblwq2rO1k18KyQw1nk6HXZ20ESF2jOpnQea8PZTBoMBsFiHOrl/ZJy+5oTzgZVfKorOYwAM4U37YMkXpAIaZccu1S5YBs5axg2cUynHAbzIHc4Se4uHiZunFd9cOzB20Rlj0gDv+MRvPbAs3jyy2axLLionI9K9guGWXjoPchPtpkgY9lLxKsXkrx08gIShloVp62Cwp8ZJ+JPElLaNS/gZNdC2HV5mSI7FUjaIkvlUqfD3Bsk5TaGLYCorOuFbQVeQId5fcL8NKJstqbsK4KJIKcKlV9tc8tCiFGjRj3++OOlPetIWK5Ex08MBAKcgAWUz29FB3KXym4zVkVsDEEalvcloAYML4j5hgqTQHk9Ctkt3+D3+1njUtnlu0wVk2SUzUUNGy/+wDdUmF/8l0VE+Auwy+YvU0VOSnliM7NoUhGdsOC4yzlXNcwlQ2XnPAdV2ZIgictkxwk5dgY5cw/MK88lKpuqXKFvUtM05OjwE7kbcRssDPZ6sjlVvn9keuTrvL+kvNBggRPmDQo7yZscz5ac4s09ydYbUyVLBh4sljy8zpRlkfygMKHHUjdMElbI0QoKCsCJ7HcjKeMvTGSIinagsLAOC/RQWUe6LKnDnMNyRrNsP2FVxE54o+xWFCZYbpAcAwhuHjkng5wlqSziZbnJ8kjWRjLZ3BvsEJKFjqy0wnSM7FKyy2YyoSnN2bZDUpa0KLfTh8ruIAszH/WyO/XKv7L8LtxXchcJxwVoSRuCSFIY5Y2hysaLDTjl55cRKf6SDR1RNqTL01uesfLP5QeRNBXLL3V4xvIVIe0tDQudkzToYfacrLB5fgLlLQA2WcKaYjGCKR32QzawSDIU5A6RPUz8Lf9K5tzyQyAzmjyfyxuUfJHflCOSJPERlbNdmAZZWsp3hhmm8lfljWM5RC5LDM7OLC9IFRT+sjjx/CSFMLANEW1CFBQUFBQUFCIDlT+roKCgoKCgoFAxlJ2koKCgoKCgoFAxlJ2koKCgoKCgoFAxlJ2koKCgoKCgoFAxlJ2koKCgoKCgoFAxlJ2koKCgoKCgoFAxlJ2koKCgoKCgoFAxVH0/BYUqoHz5aSKaOHFifn7+pk2bCgoKMjMzv/76a+Ectywf3vJXBpdF5SKQuq537Nhx6dKlVW0KjXTp0mXJkiWqh6sfuq537ty5sLCwWbNm9erVa9my5aBBg4R0yg1uK3/GgILCKQplJykoVAFcrRim0qRJk+66667hw4c3a9bskksuOe200xo3boyjBlFzWZ0CwQgrGF3+QI/fA/kYIip7Tq1CNYArrW/ZsiU/P3/dunWbN2/WdX3KlCm33HIL1+jH/A+rA66gcIpC1eOOGFQ97r8C5DPqO3XqdPbZZ0+aNEk+GKTCMwQV2HaUjwc5ASsHFpJpmsFgMDY2VvVz9YNPItI0jU/cGzJkyLJly77//nvcgyOZy5+qpKBwKkLZSRGDspP+Umjfvv1dd93Vr18/2SnC5waWP0hVQT6uESr2DzZY2cloCicVtm3bti2fyYgrc+bMmTBhwqpVq3BROVMV/jRQQlxBoWqwbXvatGmtWrW69tpr2UjiI2D5IGG1ng4D4mVEBFOSnDNlqwq/388NhkIhjoEqVA90XcdxyEQkhAgGg7hyww03tG3bdtKkSSSdrh1tYhUUIgAlYiIG5U/6i4AHGvYQB5I4/wYGE6lUVgnoCvloepI8TFUC+lmO2anoW7WBp7QcPyUiJOZjeWBZlqZpck63gsIpDTWPFRSqhqlTpz788MMIHpGTimGaJowAVhVEpOIODChXKE7LshCpOYF2oI+R6oQrHOJUqAZgdwIMUxhDGEd4Ui3LeuSRRyZPnhwKhZgLFBROdSg7SUGhCjBN89dff83MzER+hmmabrcbyd2wijjoptbTYQiFQkSkSzgBJxCiOdDK5KQ6qX6uTnD8FDOcneihUMgwjMzMzJ9//hlModYJCn8OKPmioFAF6Lqen5+Pzf9UNk0bmpsLByjlHQb2AP3BGJncsXI2sUL1ANlIJLlLEX3G+DZo0KCwsBD+pGhSqaAQOaiprKBQBei6XlBQ0LBhQ6TIQOUrba3wFwecTEKI008/ff369W63W9d1eBAVFE51KDtJQaEKsCyrYcOGjRs3DoVCnEccDAajS5WCQtRh27amaY0aNcrJybFtu7i4WG1iUPhzQO13ixjUfre/CHgjOhQDV5hUUPiLg/O7wSBclFVB4ZSG8icpKFQByMMQQiADQ9M0riWjoPCXBW/2FEJ4PB7LstT6QeFPAzWPFRSqANu2Q6EQtlxx2R6VsqqgQI61xHl7Cgp/Dqi4W8Sg4m5/EXBYASczqP3/CgoymEFU/U+FPweUfFdQqALYQuKi2yropqDA1T7lv6rOpMKfAyrupqBQBWB9LBfQU0kYCgqy34g/K9ZQ+HNA+ZMUFBQUFBQUFCqGspMUFBQUFBQUFCqGspMUFBQUFBQUFCqGspMUFBQUFBQUFCqGspMUFBQUFBQUFCqGspMUFBQUFBQUFCqGspMUFBQUFBQUFCqGspMUFBQUFBQUFCqGspMUFBQUFBQUFCqGspMUFBQUFBQUFCqGspMUFBQUFBQUFCqGspMUFBQUFBQUFCqGspMUFBQUFBQUFCqGspMUFBQUFBQUFCqGspMUFBQUFBQUFCqGspNOELZtW5ZFRAsWLEhNTX3ttdc0TcP11157LTExMS8vD3eapmnbdjRpVTgh8KiZprl48eL4+PjXXnuNv5o1a1ZqampeXp4QQo2vwl8cCxcujIuLmz17thDC7XYLIWbOnJmcnPzZZ5+ZpklEkJZCCP6soHCqQMPEVTgxWJZlGIbb7dY0LT09ffv27XXq1Dlw4IBlWYFAgG+INpkKVYZt27quE5Fpmi6Xi4ji4uKIKCYm5uDBg6mpqYFA4OjRo0riKygACQkJmqbpun7o0KFatWqFQqFAIFBSUqLrOovBYDDo8XiiTamCQtWg/EknjqNHj4L5n3zyScMwtm/fjr8lJSWjR48mItu2cYPSpqccINyFEC6XKxQKWZY1YsQIy7KKioqEEIcOHTp69OhTTz1FREIIrJgVFP6ysCzr4Ycftizr0KFDRLR///5gMPjYY4/pui57W7HkUPJQ4dSC8iedIIQQCLRhhRQfH3/06FEi0jQtPj7+4MGDQgjDMHAbOycUThXwwBERxs6yrPj4eL/fD9EP+4kkh5OCwl8chmGAZSD6LMuyLAtOJiIKhUJut5skZ62CwikBNVlPEJyNBDfyiBEjIAI0TRs2bJiu6/AkaZomhFBC4ZQDjy/Gzu/3G4YxcuTImJgY27a9Xu9zzz0HNaAGV0GBiPx+/9NPPw3RFxMTM3LkSCIyDIMZBBJSsYzCKQflTzpx2LataRoUqmmaKSkpR44ciY2NhWOJiLCiIsfbrHAKIRgMIu2MJI+RECIuLi4QCGiaFgwGLcti0a+y0BQUiMjn88HnCtFn2zZUjK7rYdykoHCqQNn1Jwh4iTg043K5HnrooZiYmGHDhhFRIBBA4MYwDJfLpeLxpxw8Hg/EOuKnRGSapqZp//d//+d2u0eMGKHrutvtDgaD5ATmFBT+ssCuT9M0R40a5XK5nn76aSIKhUJwLyEMx6Iy2sQqKFQNyp/0hwBjCH/9fv9tt902ffp0bIvVNA0rJ7V+OhWBiBuEu+wrsizrpptumjVrFryJnIIWRVIVFGoOAoHAHXfcMXnyZI/Hg/WDnOQnC8YoE6qg8Ltx6tlJQoiwjJ8wrqu2IAgoQeiN1So7IcjxOVUDJcdBWMqkLLPC7gHNUVT5Mm08pmEdW80IBoMul4u7C6kVTIlsJVc/bYywvQJh9ESdPAYzZnmGxb5CbBuE//VkszB3FycX+/1+r9dL0t51fIh6B4IMJEQD6B8QxnMy6snRoDNMwshU4XPEjSTuB8yZMInB4yvfxjSE/TNSxKDB8pxIZTdBhxFcE/QFgxPwK+xJkMrzEC91kmT18ccXXS1LjPK2+B9njZoyKv8TbM9h8MCNuOhyuRAF560W1UYSJJScmWjbNoiR6YxiHULMZhAANzjveBdCBINB0zR5P1cU9QH6kBegkDLkCFxN07C5DEC062TDNE2siVEXgKSpBQKg12EqVQM9lQFpcDyIct3LYDDI5EW3HqbcRWwBIxGeY9Ms16qBhSFqA4EARD8RwUiyLAu2ET6AKaJY90EIAeMDCdFgW+4fKAB5bRYtgFlIWhyigBwve1hXRdyTxGLfNE1+OnoDWYZgCjCCYRiHDx8GDaZpoicjSBLGQhaklmVBdsHGNQwD/zQMgzeCsL5gWypS9JwYeL7Baw46mVPIGVbDMPx+Pzn7HFkERZwYKje+0AhsDMlmkGxUCSGg9f4gDaeMncSZQPIckqejrA+qQa5hWmCoMCRI79UdCAcUVRGGGQ8COJ/GMAwwrcfjwTwrKSnh26ICcBpUVxi/Qawwl7JEPtngmYaEbpibSMIAAW63G1ei64RjTcm2JlbtROTxeEKhUFiBg6gAHcg7Gzh7zzCMkpIS1hawj6thHmLUsHuRJUYoFGLxig+RdTacGJ0krRNYsCBbjveRgPIo8i9vdECPhUKhmJgYcrjY5XJhEkZ83YgnYhDZJQltGgqFwKeYeOToiMTERJKGGPZcBOkhx9DnlR4EBW6wbVve/IFR4xkY9f3R6Cu2bnER+oKIQqEQi7tQKCSE8Hq9sqdANuIjgsrGl4hcLpfL5QoGg0ySXNuZPf2yeXfCOGXibuxn411mcgYJS9ioe8ixMsbY1ITis2EOSSKS3cIyT0a399ipS2UdvHAzQI643W58Jd98UhE22cK+qjC4UP3AwHGfsOsrLMwR3dlYYYwyEAhAmwLwflXbyFYWA8LKh500sqMrKuBOCwQC2F4A4sHafr8/JiYGTM0e2aggGAxC8eOfGNzyARGKNL+EDaX8xDAm5Z/oul5SUuLz+SJFQxg9bL9SJbNaJkyOKFUmbaoT6El2BHC6LQ+frDiYWU7ecqLC8Q0bWbbPIOVAdoVq7sRwyviToOO//PLLiy++ODk5OSYmpmfPnkuXLuVVKUUjssCnvI0ZMyYpKSk2Nvaaa67B6gF+e6wCo+hHxXoFZjjWoJg9H3zwQfv27ePi4mrVqnXuuedOnDgRy4Jo0Qk5Ajpnz5599tlnJycnx8bGnnfeedOnT2ehA1apBlUqpM3MHJo0TdM0zRYtWmDWLViwIOp+GowpG0kQW/369QOFmqZhwadpWrdu3aI4vphd27dvv+GGG9LS0uLi4po1a/bhhx+SszAlIo/HI0+Dkwo5OhMKhb766iv4PDRNi42N5c+6rn/33Xcnm5jjgPfVE5FhGNOmTTv33HNTUlLcbvfZZ5/93HPPcYQ66pnRHo9n1qxZLVq0iIuLi4+P79OnzzfffCP7bE6GkURErETZX1VYWNitWzeXy2UYxpo1azgwret6MBgcMWJEbm5uSkpKTk7OsGHDSkpKIkgMwG+KAnuY1QUFBR07doRzeu3atQhmgX7btjds2NClSxf+NuIk/U5gVcASb+vWrR07dtR13eVy/fjjj0QUDAYRySoqKrr55ptzc3N9Pt9pp502aNCgX3/9FS1EVt9VOL4XXHABOPSHH36ArCMiIcSOHTtuvvnmRo0auVyu+vXr33TTTevWrYvAfBOnDlavXg1ZwMuFxMTEH3/8Ub4Hkw+BzJMKCHeI/gsuuIBJ6tOnD5yTfGc1EPM/gfwAIYRt28FgcOrUqehJTdPY8nj66aejSCH32NChQ8kR+rpTrvPBBx8UUk+i8082PSCJc7lQ62HUqFE46M3lcn322Wf4iu+JInhChkKhLl26EFFSUlLdunUzMzMbNmyYk5PTs2fP6E7F7du35+Tk8MhCeL311ltCCKwrQF61dSZH3IQQMIZ4vpFjSOm6vnLlyqizMJTTgw8+CJKys7Pr168POm+//XYhhN/vj+4ktG17+PDhrFYwyj6fb/ny5cLpavyNLPNCoDGr2rY9ffp0OCmh3deuXev3+4Uz0FdffTUoxEDHxMQMGDAgsl3HoiwUCuFlQ6HQlClTkpOTeXb98ssvfI8QYvr06bGxsdx7P/30UwTpOQHgFV566SVQBV7473//yzf4/f569epxqhDIzsrKOnjwYGSZ5Tjji3UgqMIIrl+/Pi0tDV/xWjo9PX3z5s1/kIxTyU66/PLLieiss85at25dYWFh8+bNiejGG280TTNsostmyskDpninTp2I6IorrmjUqJGu6/369cO35amKFjBxoYqEEJZlJScna5rWuXPnwsLC/Pz81q1bu93u+Pj46um3CgHasCIxDOPmm2/etWtXQUFBy5YtXS5XWlqafFs1gLkdH/A3Pz/f5/OdeeaZ4MBFixZxr0YdLE2EEK1atdI07d5772VTAKnoUSTPNM177rnH7XYnJSUtW7Zs27ZtF1xwAdgZKV+4TX6Lk00Pf7Ys6+jRo7t27dq1a1dhYeGePXv27t07YcIEXdfr1at34MCBaqCnMliWVVJSIoQ4cuQItl7ecMMNQohQKHTttddyVlDUUVhYCH3Zt2/fPXv2/Pzzzw0aNDAMo1evXsFgEPecJHMTEwa9tHjxYqjGgQMHgkl5IR0KhX766ScQOW7cuCNHjowZMwbS5ueff44gPVir8D/9fv/ixYs1TUtOTr7xxhsR+/7xxx95nufl5YHmwYMHw8RcvXp1BOmpElA+VwixcOFCIqpTp87AgQPhsGHrLRgMPvPMM0j0fuedd3bs2DFz5kx07Pjx4yNOUoXjO2DAgLDxDQQC1157LRElJycvXbq0qKjohRdegGE6ZcqUP0jDKRN3CwaD8+fPd7lcN99882mnnVavXj2IiXfeeUdzzg+C14Sqa3M7/JOpqalvv/32u+++GxcXJ+cqYhrJeWfRBSfSbt26tW3bthdddNHo0aOzs7MbN2583XXXhUIhv99/+PDhaJHHabwvvfTSv/71r/Hjx6elpZ1++um9evWyLOvw4cPso6Zq6U/Or0QsHP8cOHAgywhN05C5L6K6j4wc974ci8TxgikpKbz7Bio2inE3IcRbb70VCoXuv//+jh071qlTZ+rUqZ999tlHH32E7g1L+D3Z9PBJZEIIXddjY2PT09MzMjKys7NTUlKIaMyYMbZtP//888nJyVHkX13XvV6vaZpFRUUY6Hbt2hGRy+Vq3769aZper3fjxo24OYp0rlixAk9/7LHHkpOTmzZtOmzYMMuy5s+fz/51uc8j9Vzk9AghOCW0T58+v/zyS58+feTgAwI37733nhAiMzNzyJAhsbGx9913X0JCgmVZsFQiRQ/8WCwWPB5PMBi88sorCwoKrrrqKqQryfPcMIz+/fuvXr26R48eiPJXT4peheA9K263+4orrli1atVll10mhMAVqDO32x0IBLp163b77bf36dMnMzPzhhtuiI2N1XV9/fr1EJuRouc44wtdwJF6j8fTt2/fyZMnv//++506dfL5fPfccw/u2bNnzx8k45Qp9rVx40bk+rRo0YKINE1r0qSJbdvFxcVbtmzJzc0l6TDqaquf5HK53nzzTSwRfD6fvFmANzxj3kQrRdp2KltAlZqmmZOT8+mnn8okrV27Vtf1mJgYRJSiBSFEgwYNBg0axPUUfvjhhzfffFMI0adPH6hSrWxJj5MK3l8KRp06dery5csHDRrUoUMHUIJppksVlaofXMtUl0qwwN5dv359u3bt1q9f7/V6b7rpppEjR0Yxj3vjxo27du3Sdf2iiy6C7DvjjDNOP/10zuTg8xCrJ4mV01TDiqwg6eHxxx/ftm3beeedd9VVV51sSn4PnS6XKyMjo3nz5j/99NMXX3xx9913E9GyZcuI6PTTT8/JySGnrke0piKHQsiRw6mpqaD/+++/79ixIzlzNbL7CTi/GC/epUuXHj16kLTrWc51W7NmDRG1aNECWTiGYZxxxhk//PADMm8iRY/8AQKka9eu3bp1k/No5RVL165dQTOLGl4nCKk0WvXsuxTORtTOnTt36NCBz25CEiRXKhoxYgTnUxPRzp07i4uLNU3LysoCwZGah8cZX9Zr5Ey5K6+8kq3PoqKiyZMnQzD27t37D5JxyviTdu7cCcuxVq1ayAqsU6cOemTXrl2IYuLO6pEU7BLEZhNychVRrgPDwywaxTxfXsAhD44Lh3Avvfvuu9OnT7dt+7bbbovupi30GLTX1KlT3W5327ZtS0pKhg0bNnPmTNsp6YHTo6qBHpIGbvv27cOHD09NTX3uuedE2VoPWtnaTtUMGOJwd3HSz/79+zVNe+ONN1atWnXw4MGdO3eOGTNm8ODBUbTnEFG1bXvfvn09evRITExMSkoaNmzYwYMH5U3FPA2qhyqoAV7WQyj/+uuvkyZN0nX92Wef1TStpKQkiv2mO8UwdV1/9dVXzzzzzI8//rhu3bp169adN29eixYtXnnlFcMwAoGAIZ04W/1o1qwZEVmWNXHixEAgsGfPHt5+ceTIEWSWQPhE1ljnoRFO6ROePPjK6/XaTj22Q4cOYaHFC+nk5GTbtg8cOBBZeoQQqMfBhiM4tLi4GE+X93/wUgEKhWt1srWhO3Wnqs0fDMsMnQkbRfYSyfvLoHn79u0rhIiPj7/uuutEROsaVDa+LpdLruJBkudJ1/W0tLSUlJThw4d37dp1wYIFLVu2/INknDJ2kt/vZ5WPtQtrsiNHjui6Xs1rZVZLSBIUQoAAHkU2gasnjlAZeAXAi5KSkhIu9PfWW29df/31RNS0adORI0dG104iSevD+yWE2L17988//1xYWAgnE0a/GuILcoAgFAoNHjz4wIEDr732Wnx8fHFxMRf9Q25NFP3ktrOXGDLCsqxgMJiamhoXF9exY8f169fn5+d37NhRCPHKK6+sXr06WnSy9rr55puXLl1KREVFRc8999x9991nOOWJWSZWw7pZd2r6UdntqJZlDRs2zDCM888/H14Qn88X3bg51xlJTExs0aJFKBTavn379u3b/X5/Tk4O2CEmJgabMaNFZE5Ozg033OByuV555ZWMjIycnJyvv/4a/Xbo0CG24U4GhWxzYAqFufBhhcNq2b9/PwQ1WzPx8fGapkUw3wAyQZMKASDsSESapvl8PmQ0wnMvpCMQQJhhGCivwFMOGXskFfc6qWBibKfaDgQL3AFcpgu+dmiTiy++eOXKlZqmjRs3Ljc3N+LMUtn4YlKFlUfG0zkwsm3btog4C08ZOwmBZHJ6jWcePDr4J5iQozbVAOEU2tI0DZVJeZsuEaH0ahSTQgBNql3mcrl8Ph/SDCdPnty/f3/TNJs0abJ06dL4+PgoEsliFHLtzjvv3Lhx49dff92yZcuPPvro0ksvRVzfLlub5OQBY4e59N577/3nP//p3bv3JZdcIoRITk4Gc6JXo3vOsV62hi/o2bFjR1FR0aJFixo1atS4ceNx48bh5iVLlkSLTr/fj7pw55577uHDh/fs2XPrrbcKIWbOnLlp0yYuDVCdyV78IF4ZCyHy8/M//PBD27YfeOCB6K5wGCCvqKjowgsvfPvtt/v27btjx47t27f37ds3Ly+vW7duBw8eREwkiqUBDMN4+eWX77nnnpSUFMuyzj333Llz5+I6lyniSlQRVKXIDSen2jVfR3EWrhwGqwU7zmzbLikp4egMESUkJESKHk2q3s7ZPGBSkMplfiDQ2Jmq63pxcbHsSdKdUpn4OSIVkaKzMgjnEBJOZwSdgUAAa1dOazEMY9++fZ06dVq8MLeBRgAAIABJREFUeLHb7Z44ceI//vEPvE4Ez0uobHwhddl25EK18AWsXr26sLBwzJgxBQUFw4YNmzp16h8k45SxkzIyMvDhyJEjiM7s3r0bPdiwYUOr7HEN1Qber0hEvBoAc0L0u93u6PrDLelIMu4ft9s9adKku+++2+PxXHzxxd98802tWrWinoxMTolVWEtZWVnt27cfNWqUEGLDhg1fffUVSem31QBkROm6/vLLL7tcrpUrV9atWzcrK4tDDNdccw0+V08+XGXAOo+XVrpU/xdbjbATU9O0gwcPRovIhg0bwuFx1113eTwer9d7xx13aJoWExOzatUq1vHCOTeqGkjiYB/7fTVNmzVrFpwBvXr1IqdoZxTjblA5tm1//fXXmzdv1jTtiSeeyMzMrF27NjLN9+7du3DhQjhfo2ivY7367LPP7t+/v6ioCDu8cB37Q+WcmwjaSSwxyHE5wHWEUHhYJCs9Pd2yrAMHDvh8PnDEnj17hBDp6emRoocDC/JYIHqF3Cx2UeM2TjMHL2DhjbQbNu+4IlE16BHZHJFTQonI6/XCLoFq27VrV+fOnVevXp2YmPjee++BnfE6EYztVDa+6F7YoCQd5wAfWFJSUnZ29v3339+2bVsiev311/8gGaeMnZSdnZ2cnExE33//PUrjr1271uVypaSkZGVlIc8AwxOR81z+J3gRoDnnpcB1xOn3nAEXxeQVKnskGWxt27Y/+uiju+++2+VyXXfddfPmzUMh/ygac/z0SZMmpaam+ny+ffv2gWYsRl0u1/79+6tNWDBJzI2mae7YsWP37t27du3atm0blHpxcfHOnTujG+8gIuFsBgFVq1atuuuuu/r37797926EGH799VesrXmxUf1o3rw5iNywYQNGEDoDJ6zJSa9ULUMclmoqnJrmb7/9thDi6quvhpKQEyCiAo/Hg2Xhli1b0IEseWBCaZq2a9cuknLhowLbtpcsWTJjxox169bBD4c08/j4+AYNGqC32W8XwfFlDzQRQYOil/A4zvPFDS1bttR1vaCgALmkoVCosLCQiFq3bh0petg+Y0+zXBAfCxjDMPgMQQ5vIX+DiBCXQCYJG1tsskSKzuMAwwfTzbbt2NhYjuSgb/G3d+/e69evz8zM/PTTT3v16gUDy3IOs4sUKhtfWeeS0+1nnXVWbGwsLDZMubi4ONu2I7A+FKcOrrrqKsMwzjzzzIKCgvXr12dlZRHRrbfeGla4rNqKwgUCAch6zPX27dsTUb9+/bheCBetiXoJOCbJtm2kNei63qZNm02bNm3btm337t3btm0rLCxEjYpoIRAIfPvtt0Sk6/rll1++fv369evXo2QiEf32229CCH6Rkw1bKhbHF1HFFDYcEX3++eci2nVE2ZNqmiY6Jz8/Hy6lXr16bdy4EflJkNTbtm2LFp2hUOiKK64gokaNGq1Zs2b37t29e/fGLsstW7bI71I9sKUqTfz5l19+gSp6+eWX+dvoMi/q2WDXGBFpmvbII4+Aqscffxxr/UWLFglJ6UYFoVAoLS1N07TevXvv27dv6dKlCGYNHjxYSD18MooAc+O2U8fStu28vDwMJar+hEKhYDC4YcMG9OHYsWP37t37xBNPEJHL5frjdQjDiEFNWuFMHn7lBQsWQL59//335en/+OOPwaeonciSR64SHCk6KwNEnPygDz/8ED6I7777DhLGsqwxY8bAXpk5cybUx44dO7Zu3YoMMH79iKDC8Z03bx7Gd+3atdw5Xbt2JaKEhIT3339/y5YtcCNxybE/glPJTlq7di14j1dUKSkpW7ZssaVaf/hQPfWa8eH888/PysqqW7cuDGqPx5OTkwOvuIi2Eg0DZvmsWbPYSubNenDFzZs3L4rkoUuvvPJKKhfJGjBgQPk7qwEsF4SkL7dt2wZp+8knn+BKFEeZZQdfCYVCqGku7+shIkzIKGL9+vVJSUnMvKDqvvvuw7e2VB27esYXzgYhKbP3338fI7tkyRKZqqgDiufSSy9Fp2VlZeXm5oJze/bsKcpWQ40WxowZgynHg5ubm7tjx44w8iLbpawj8WHu3LkNGjTIzMzkmZaZmVmnTp06dergtkGDBoE2DrY+8MADEacHMwrSIxgMfvDBB7Vr187JyUFpLk3TMjIy6tWrl5mZGQwG33///aysrKysLFRS0DQNNNerVw8Wkswa1QPLst57772cnJyMjIyUlBT0ZO3atevXr5+VlRUKhRo3bix3Izb0EdHZZ58dWUoqG1+ESjVNS09Pr1evXu3atYUQ3377rdfrZaoQ7fF6vVz9/IRxythJmCXLly/v0aNHbGxsQkJCz549cXZPdNGgQQOSDgDhQXrssceqwVz7/WAb/+WXX5b3owKY5fPnz48ihbZTd/X5558/66yzkAHavHnzsWPHyn47EW27hCMgixcvriF6tDymTJnSpk0bTdMSEhLOP/98HA8SRWDIfvrpp6uvvjoxMTEmJqZFixYTJ06MIklYOstXpk2bBnZAQeQasshhMoqLi5955plmzZq53W632924ceNRo0YVFxfj28gu4k8Atm2/9NJLp59+us/nS0tLGzBgQGFhYTU8Vx6m6dOny+UlOTUTMXTsBn300Udzc3NdLldOTs64ceN4w3JEIC/U+Sih2bNnl4/kAMFgcNasWWHLQvksYREluYfldPnicAhpZWdnU9n4OG4755xzIq71qjS+a9as6du3b3p6umEYaWlpV199dUQOgSnNrTklwPvbkQZUbfUkK0T5ql/y4edh27IiG5KvKqxy51GH3SCcDVNR7E8hBBLLUBgDhogtnYuOHT1RzKiVIaQNvRTt8f2dsKWqJ1EEUkF5WKNFhpBKlQohAoGA1+sNK4EopCp/USLzGPOCtjCyhbPBh7Pgo8UgfLA8ORtseXfbyQYmdphGR5/Ic6yyzols1iOeiGdBxyMnqbL2caesTeQyLuSkomOUq6H+CEsJ1rMsjYVTDoC7FITJb4d7ZFUYKZJ+//jKWkOm84/QUNOFO4N7AaoUSj2K+bNcgsh2ilvwzEAxMU3TUPqCz16OCoRThNB2yg0LaRs5UpdgPEV905bH40FVBeYHTu8lpyQgVcth8seBcCrIMU9ymmGNQvmtT9E1knhdCG0adf7VnNJ5WDzExMRgCxIyfEEYC2hcjAp4auH4C3KqOfNGpEAgEMVyAAxe2JSuvyX/+kkFuA81QjmJmM0OnvDgWZLyrJlBeD9XRMCJ/7ZTRQkbaCq7H2S7XC6eY6CNq9uAbdFUNTg1OFiPJx7HBJc7kBO98TmCRtIJjC9HS5jCPz6+p5I/iZz9k1FfE5NTFi/MmpY9NzVEdwqp3hqXmpDPPGKlVVxcLJ9ZXc3AnJbnPdhD5k8QXBP6lpcs5FRaimKpycqAPsQUrSHTkqtURJ0SkhgBw8d+BdBWfqEfLSBJpbK91qATyjiKpIZ5HchxgJ3s51rS6Rm8KwqjCbVtlz36kCrigsjyL7uUYGT/ftcaFl3wtjKRtnPADmyF6vEXsgcLAoR9+RhTrK6RCSQDSfpYckSqP09gfMNUM9LS/yA9p4ydxNOOpI6Iop+ZHGcMl7uAzQGW4BkT3eACEBYkonJqnt2k0e1PoDyPca+Wd/xGkTzWoDVBlZZHheu/mhCnZi0S3TrmIInVQBglOBuHC+HUkPggsy0r4LCFRNQh72On6rLLOTwKIcz+XTlAqWlaSUkJjuCU/etCOjssUuDpZEm1645PvN/vhx4JU3CRDWD9Hsi8AOuEi91wP3OPoXQ43hGvIL9UpEiq0vhyxBNfRYqMGuHz+D0Ic6NFfTFKzlHeQqqMB28z4gt8MCTkWrSItKTTMbkEPodvcR2HHpSP1FQnuO4qV+kEPZj3vLSiaNd5YscDPFtRp+f4gL2Oz9GlEwKOBSjmZHRDqFy/jrUaM4jX6+XihLp0wkn1gx/NAQXDMFwuF8tArWYUDcdMMwxD3u9WPVNO3txEzjl9mqYhoRh63e/34xwCDirhfv0kHN7AZ5Dx8SPHLykkhICFoTtHWYMwv9+PypO2bXO8KbKkVkg8ObyAOaY5J5kg7KtLxy+iPBt3O0wZv98fWbuzSuPL/GI7x72xZvlDNJwq/qSwVTtHi6JIEpfe5kUAZ97pzuFfUXcmgTAhBIeZeQnFkYXjePWrE+WXzlR2SVo+hhgVQGzBDpbTNqNFT2WQu4scqR1d/yuHIdhGjxZk/xZVVFEdy1OK9mQjyZ/K/yzPBbBRasIklDm3GlLihFMglH0e6KvyXl45MzqMLyJIj5x6UT77uELAr8l9xR4RCGfhVJGtHsijJodQYZpTWYdT+TwT2UsXEXpOYHwtqYa43MgfIeOUsZOAsLleE7IcZEcfz292TpaPeVUzKpvKmGeytmBbKirgqSz3GDuuuZOjbnrWTJOo5oNHkKPnUR/NsO2fVtkTfmqanCHJtpO7LixQEi06Zb74PfGmiD9XzgeSIzJhF8t3UcRFdFgY9/ghZnmhdXxrw66uoy1J2k0mGxxhmQZhKd6c7RpZfqnq+IYtHiKl0WqcnST3QtjePwRrRTXuOP2DKL9BsWaiJtDJogHzvoZopuOjJvTb70FNoFON78lDTaCzZo5v+T32NXCRI9sZVFOJpJpHJ4aVU7hO6pSL/lQuD4Q5MR5+vx/mtrzbEHYrRfXcpcrAVbaICKNYM4VsTaNT13VUKBBOiiU8wFEkqULUtH6rDDWNTjW+kUVNo7MGjq9w8tzJ8ZdHkZjKwNlRqBsnRydqFGognbquFxcXs1Wgn8zzs2vckJR3kLIXlzeaypGjKJNbOZi8Gp7tW0PoDNukHfXFyv9EDem3/4kaQqca35OEGkJnzRzfCguHRpGeCsGb7WvsHANqFJ3C2fusOUX1TmqKbfRfOAz82hiMkpIS5CcKIXB+MvZ9oKJDtImtGNibgNJhmFU1YWKVR42ik4sOs5CtCbt4KkSN6rfjoEbRqcY34qhRdNbM8fV4PCUlJfjMOrVGAQperkUs71GtOaiBdPJ2EF3XUar+5E25GudPKl9XauHChd27d5dFgFzLv6bV95PTyuSKjjXNe1/T6JTTe+VqSTVtfta0fqsMNY1ONb6RRU2js6aNL+cgcxYwMt9r2nwDmDa77KkJNQ01h04Y4kI6beKkzvyaOB6yd9S27eTk5GAwOGLEiIceekjeylttWyqqirCTmKqnLu0JoKbRKYQIBoOIN9fMCtdATeu3ylDT6FTjG1nUNDpr7PhyqKhGUcXgEeSU5OovL/l7UKPo5HAz01C+HEAkIWoejh49KoRAqSshxGuvvRYXF+fz+Xw+3zPPPAMjCRKhZtpJckCQS2NFj5xKUdPoROBAc+oQRpGS46Om9VtlqGl0qvGNLGoanTVtfEFD+V6qmdCcaooU7XE8PmoInSBAHlzebnkyUBP9SSTVioDZmJqaun//fiJyu904PrOoqKj8+TK/s20iItLx2k4dBvxDim4Knb8WYbcdu25r0s1CIyIynLN45Hy34+W+CSKNjhEjjj3UeY5NQpcpEWRrpBPZ5PyVh1CTWy7z7zLQK6Wz9PuytJU+C88VTlpbKXnl2pZpq/jx5cBk8AlBpW78Y91iHyOM5FEpi9LrttQBunx/mY6VG/x9qLzfKh9fIqGhL2yNnKkFejTQqTNJZacYVUahINKOS//x6RRkk9wzx57HbdoS+RU/okz3V0S3jMrGF19KPVCGHqfVY3NMk2iTZ75Wlgb+oXayx1em+RgpNlG4DCGpzwXZDm/oWsXcW3aMfi+dpl46pC6psbA5Fk6yxF86yd1ftj/R6ZUpxuOObwUQZWfvybBfRNms7f8VJDo2qcpJzipLs6qCS4vhMGZxgvnmdumUK200jCmdFyx7z7HfluJ471ieToJZXNoyTxWb2zom8ShMyBDrtdLfhpP0vyF31EkNAp5IKnSY1OBz6XRdHzdu3NatWwsKCvLz8+vVq7dkyZKqNo63xXEfbrcbsoD3+3EF99tvv/3VV1+teu69TcIijQTpFpGGgXQKnUvjh//pJGQNpx+TFjoJnWyyjdKpoRORrZEgElQap5cJO54ShQSFjSVKLwqNUOjeI1EljvGrrZcSXPpXMlV0nWXccWeeEBXSSSTLr1LabItsnUgj2yASZIM2o1Ro2uCPsnaLLf3ldw2X1DKYDLlsNF4ZVTJJs0l3GnHeDrapJss1x+QVZNmkE2k6VJFkr1ApA1uO8VSFKVRJvx1nfG3SyCLdIjLINog0oZcSoREZliCyiIh0F9lEtl06/o5RVToQOreHH9pEOlnOS1dkSFVOJwsyAy3bsNigumw6JlWFILLLjFiZB+myfKxE2ZfvorCy4MJ5ayIqHSnuHA08JVOFhzqdpOk2kUWkQ5CJY9Yw/9Co3NSoEFUbX576vB9Zh8Fhl3aIs4KyHLZ1kU5EIbKw2jGIDKGHG/0aCSLLGaMK6a+cfwOCyCYXsTzRICJ0ksWdhpmma6W32ZioLBiN0lconTCWhle0ddIrZOHKxpdtjmPSSID3YCmWyoRSwuSVatnln9Mxx5qUr1SIik0Nm0grIzeERtqx1ydicaGX3sbSrOzCoJIp8QcsPk3T/necRDCrksYmHTmzjpWUfkzWEZFOtqOgtAqI1+yysvp/8AvTSZqGie86phfJ1myTbIuETuQmMkq7VZcG1yYhSofdUXlO0474K+s1OA4lxyc1UjgRA5ljvXyKDRG98sormqbt27cvNzd38ODB8+fPX7x48Qk4uFCbAfXaA4EAPqekpGiaBoPJ6/VqmjZt2jQ6rvw6HsQx8e7AdvSlswQs2//2sQVQqTi2yRalurcs41YVznJTEJFmk5DX8dInAdp0m8gZNV0j0iDpSkkv7Q7Br1DuRX4njr2TICJdLxWyOgnSnKc4XV+qLrXS3pO/1OUGw3jxdyJsgEtXKhJ32WSTZh9TTmx6ki5KbTinH0TZlsSJ9s7vh3ZMx2uywgsfGr101SXQ1ZqjOxxTBJNEI/6sE2mkaSdKPwz6sIt2qTbViXQSLpDhDKSO2YX/jFL9za95wvOttH/0UgtSmnmlTUG+64bzXyk5QiPbsZpL55VJmik//eSPrgTJiHN4WZBWamRqApYHGVAMgnTSNNJ1p3vLNBI+UasKXSOXXoZxRLhilC4IzKtSUnWJQ23SShkK9P+x/gznflaSGpEuHOtN2L/n3f/QsGqSAeHIhlKUeiNs+TaWseHWaqnMqXaE2zS4SOWXpjwlw91HFQ2k4D9VxLHnCSgvrKh1/diUKUsCZItWyhVCc8SwZpNmys0KIhGVHq4IJ+JPQsIgHwhKROecc067du34gDOi0gqQJ1BrwTAM1CvD/lIimjVrlt/vJyKfz/f4448PHTrU4/FwaaUqhkh19h84PzNJs4h0QW4qHR4dSwfDkXG6s/oxdEnPHZts+okzbvn5rcEWKX26IF1zTDfnjrIeI2dua860hJFgEemaTfzz3w3hGIVY7JIgQ5RSVfqdRi7DWUaz401W5PJrkcyWVY5zlb6m04jFCwwNfhrbImGT7bhebNI8RG6yiTSXrpFNIZ1II5NIF5ruWBimBh+EVi0ZnbogYRtCN/BwTRf6Me+DQZpGLtexodQ1nQytbCyGiDSyHCV6zCVgu9Bk1aafgHmlI8anaaWcYDkOP9tpUpALDRvi2G/LrAp0Ses4Eq0yf8NxUDrKtuNWKTUUTShzjbRSp5dNpJH2/+S9Z5glV3Uu/K61966qEzpOEggFhIQkhCJCAQTCBIMFNh98gIHvuSZcfxhsLhYCIZlkDIhocMDXBPtiEAiTjMHGBgzGBiELoQDKEaUZaRQmdfdJVbX3WvfHrqpzegR4TkMDfryeeaSenu46u3ZY613vCjsCtDp2SeQdgsAHgMmCbPw+VwGB9RYhSKUjABCHmgfiOLVUzZhRALZhvCxPKN4KMlSno1pnhaHJ2Nk+ioVaYDXDWn3pjdrJ5TPEkQgLNVMyubDjcxfHH2Cm3WlA7X+G+u1cQ4GYZouPWUAPKGp2bTUdUr+NjpWLQKILt++DUkhNpEHAhlF9XHxkvGiqot7itDCEIdyMQCtyTqqtSg2vw81nrCc8rxxpIm7ImImJUiahxrtRmDqWWrnZTfyUpNqw1VJzqF1QN+Xw68hGpHgFykScEJRq4n/yZxVa8XIGCAG+WkESEyMoCsDGBSrhAXUPRKi/CJkaJ6lq5NyaS0VOPvnkM8888/nPf37ELvGW4xg+WxvfE58fw3ne+zPPPFNE3vWud5199tmxbVIkmSYvpt7XwU/wzwBq2AqASCvvptYMFZ9f++yqQIA3bCfP6tgvWp03MaXIBC1djcgAEj+aVkWdV4Gk5ucfMA1r3Vm89xeNd6sTs/VAI1RrB5lUss0XFUD5KbY7MSaSTprHythfqTVCDcsIMDDx+zo2/74ZXERdZl3VWjX41etVTdTYLjaMHICIklf9cI19x/lwxHhgsGZfpAY6hhpwv1e2WfVjOvnzk3tg8qXGvxPTqprAxL4vdG3kpP4gqmxkDFUR7N5PWzUzEreiAStYIqQHmEBaR/PWWcfqBCkh1VkcszIVEsUDeLK911ekQlfjEdMa1rf51FVCtT7DKoWvIJKJvckTpFht4qLyqbaNr3fnVHMqE+8RqZoJTblqR4UqzK7jYJxUIEUmNydIIrzXydj0PghVQEwkOgd1VJTAq0ZVccATard+B1qV2CpSket7UzY/N9HxxzGqUKbE+al/gicnubE0dXS1EgLrmjycej8pqFa0ytAJhLTKgW9sCEujsSe5RlJADDiMtfkvhUyNk2LfAhGJIOmjH/3oySef/IIXvKC5YbhJr15b7LCp94sFnNbaCy644IwzzsDqnptpmq6tMWjUFrXjGneGib5stW84UhdS+RxRXRAChMEBnsdkOU2eEIp7dCryUlGRW1SnXEgVYCZTb2ISUADAMDK5lXmMkHTC0GBM7//oGOJPlhhWC80rTb6eiXlCANVUBEX7NB7RKpPffPHTOPc1UTFOb6ott06qpxq11qli8Zt1ZINgKm81TkeqBD/xWuskEfFKHSIlAPCksFBQTGthDxCBCQSpkkKUf6Tqjy8d6szJSEmswcOvH8cgAQtVFnriQ/devjpJqdpsvNofkNrZ3jvYuk/SGCMWEDfOsamCyaR14I1MpYKjPwOq/fhgK7TEkXUTIICkigCsp39fO+KILK+ZcKC1Rk6AMEUCIP6KyJigQLMejblVCNV8wBoG3zh7E3+3gK8ia8RQrn8mMnYkYMBWc12hVYnjVIBITIUhYl4iTbPE9ZmtnE1boduxXayQC4DIJxGVzYmcOJur9Wo9Z7H0ajr9JgZEhmwFF2o9kDBI64woHQccdJJOUtRmImqVMQRZRaWvq9CP+JoB0grqKUSgkcAzYJp0IGuHEpNkQW34qnec6gUq+M0wAtJA4+3X5NrG5Q5AU1tQGynbDL7+cK00eAVjbYOxfuGylhRxnWhu1iSZ6+qOZ00PqDWMqWn6+cAS05jWHRuDruFW6kk8MY5fPHACWBQSYClaOYKSD9Cak2iAElOdcABU+oXIxGK9fR1TRStIjcQnknyrPz5yW1pv5sZBpUrtNi9R/avBBPfzY9jyiHd/xDgFIHgCmtzY6hfG2m3Co6qmNGIks+rnsVc9YPP9nyxNFj8RxWOPeixocBIilq2+tNpMIzwJECwIMcoQR0IglIBATVTWdWrt1Dzzj523H/ku9TqYaiBSh2UQEWkYe04g5AwhddCJxJVoXyaCs3G2G9T444IhP3qcOl4wIC6aR5VUWTuHupfSb9g7Qa0YmxCwGQ9gX23nqvUdnx0BhQAKMQE55hFDAARUJs3AA5AJ9UqNa1wPVw0EnlESgGYmp7KjU6+vRODIqAdab0Wl+K9CEzBUVmXqaP0uVGE+mih4nCiX2/dxTlCnWD29JSAKF1e5SppWAU3g4wnNoyjrwFaDu+JEu5+81qvP7wO0K8UDIHXo3k5g7pzhJ9Ic9wJkMn6WUqUqp7GjRKSi4/TxKlm+wkm2Nu2Vm1dDxjBRjDzectgbwv6UOGmaWi1pHOAJtbcK4waEesxUVwmMfwWrFQD2soM/8RzvPc6GpmSAxU/4DFUuAQko1ON0aNBn88C97UsMdFajn3p9f3nq3RokxMwf/OAHX//618cAGRH1+/1Op+O9j+2e1tzxKcKvRgvEL+IUWGsjGmvadk+Fk0hR2fLIUlS7iaNvFTNdYoEJwdJECInI0ngBtT5Nk+UGq/2kfZOIvoXqmBTx2Bek5r8cbRcRT97yx0BMj5jYeVKrmMlfn3JANX+mTf5Kpb5lXAAD07w7UVkT4Dw2AQylGEpQjkD3x5WH/GfDEShAqxAYBBSjRTxWpfWJMggCKOy44IYA+ApARqupIFnlzqyrUKMOYmSBGUpQC4GhiQ1JqxChxr1fj5GAmHrS+No/uW78R4pSZbRNo4nAirDKstZcHKr5Z9DYrafK44u/LZVjXccvZA3kXGWNJMDHLPLae4/OcfQEquiGQDw8wEmVGSKg6HvaiO9JYYgDrIJAlujH4sifiVQUIKTJ5VrlQ0CAQFX+nK1ZCgZxzdY0Tj/XrByDJginVU/bR6ncdwIzce1XMGBCzSLUioorMuaBBklBcIbq4LAyCMp2vE+mkkklWRHDshcMYoDgUNVeMEU/p/6t2t8QxCpHYiKeUtc2n7QqAkCQeCYsJtwqCGoKkKtIfRwt6yRXR+NXIzQlOHYdN1wkm5tDSqIIUUsYcqjDCIbHmQa1YplwJuonSZVbwkRYQ1phfJjaRgux3XvDVpEQip6A1t+EUBVUtuM5bEh0qvdojFpM8ty/OJkaJzXohIiuvvrqI488MgbIVLXT6TQNT7W+pXlaSmny3hLUNFWU+LllWcbatzXmP036WECDheo81hj5FlSJt/WaK5hYwIDnBiQ1MlaLU+PZyWLTSQq++ZLAFZOuMHUHAAAgAElEQVSlFYuKSW2ljHiqx+8nq7jo6diSxpuMQ6vzYJTBkTuti48a9wUGCHtXctUfu0onrQnrj+nb8SfGB9ZKP6IzAmpe19QWv1mX5rBV6oNAtDoEu27SYOpajcZq43FYf+LnxpqicU+5Gm8NNBs9tKZQpgA+kgSxSjdaUJKJXNYqAA1Ck7pUn5hYEyDNmq4aFY2zmaeQ8X7T2kBKXbZZkWdUBwUIzBBCAELFunGliAEFucbtmYBW6y8KjN97sgYqOlqNrlhFrhAxj4mfiSzgSV9rLedFCIEhUufkTWBcy5D4dEN1AKbZTjFHqjlTjemKJUgUmbA1jWhyS9Q+GNegZFVipjLARBE+Vha0CV/Whj82jmCuXLi1Ht5a+XOD+7X+w7ETirpxmVvDo0fnoTqkNH4OoAKKvSpkHe36hJYHQMRm3Ihr/P14hOOmDACg9R6IOoNNnX0bhZtyhBoO7uNwFFJCALjKb6nLiSrSi+O0aDN4BSY/SCe2VI38mv+GWieup3reV5l6RRt0EkK44447jjjiiDzPgSo61nSFX3N/2IasakJvDWM02YJzjZ24CCAEASiaK63UV4BVGAWrZVhAoUNEjokEEqAghVEY2BD8Kt+xefL0aqSCzgGkQhCflwp4lCXyAqOAMkArY6Yccwxi+E19gALCkgvUQmKdS1Mg44ESVEayfaohKSMQpKk9kWoaRFlBHlxAY8BLPKDx+9ERRGAEg8Ao1UPZgElNzHwMkECypjrP1fq58qgsScWTC1RIQMiLEgqo0xJQaO1BqbIEjuEiX0KBElKggCkF+c+huLcIpcaySgGCgVTdRjSW3jGUFAxoCnFeEAgaK7GVCSzlmGmvlFiFahjCU2468SiqRBNfZ/KEqPNXW2ghBBBgFLZuYeQVCiZleCbhMWSqfQlagy2tQKEQ2ILjJo7GUaG+LAxgFBRqU1kWCZoIUayuqJjO6OuIArDQYBXG71Vx8zMXBnHw9byFACjKIaBQCSMhtYRUNRG1EvMPFaqAgpSNWCotQlPoVzFMvFdAfzqRSESqxlo2hDjDApKqsUJBUjDUImhlrQoJJUJArsgDSiVRQiDf931PZUlFSYoaDOy7KCSg9FSOD77ARDBZAgFBqjBuNIwIgDBpFfCPTZviOSawFKUFS+Fj7YWorAWQxPJ1bRhuHruGCii0QKyiLbRUQMFaVRFy3SDAE3wII8ArgiKICIi1CpevIz5XYEilj0MOQAny1uQpaQpleK2wSKjQSDyOo9IrjHhGsAgWJcOzKdkKW2Gr1YTXBNN0wggG2jixMe8zgKuOh1LRqB5liULJh0g6q4Vw3APV8qsqlYrg4eO0QxzD/jIUu2ENfFJzE54x5sYbbzzwwAN/CW+i+cliXDyEkqOv0BKkxhVghRJGjNKiNMwp2gzHsGKQwEAQSjWWrE3GQWIAmOiLNb1Q9EPKnBJrUxphuAP3M1jgDaxDwsTRZCnbUHH4Yq21MJacyRIH+DI4l9b0AGoz8tN4NhMHhgDGiPL7sINhFeKQOHKUsFZap2QErmyuMmxmklk4qy4mCUVrblDjy30eFVUpk3vNr4CgxCVkgIHAB5QB0k47OUYzaEmM0EAJlCMvqYChEvAIli1DE5gMHBnqtc7PvkrhfWId4EWFBTAU4EuSEiFH8OQVGihnUEIJKFJN6shmsA7EBYxxNdFTs4m8dvNvYQKCiDO2Uk/e6hD9EqVH6UkYJiELwCMHSEgMshJgpIacBc1QZs3YhI9b9sU/03pGFGMfxoDrNJ34fRYpU5cJgpIEEwoUgYrAhSLAECMpURYoEyQZ0ow7iUsBEEEglmL3hXVmCwEoG8dQ9MqRTcIIfU3LgD0BzmROgYDApCWUKSOwNeLAFsYiSeAqX08AK3UAtJ4EWtvYGQpDhhRFne1EyiQAwcP3MCjgc5QZUiQMcIAoSsXIgQnUQidFFiNtiWuVCAJvYY2Qm346Y0IQgQytzlIwCGa4B/0CGpA7cGadAUcdEiChTu1ysBbOwaRJpkDislB6ImJL9c0E+yyEVcqnKpaspq0sxSVcuHI77iYYSwZgA8dAXT8pqDQwk2EDq9AMmWFnwIaMrnM3CoEQJKAUTwlbAMFLyEKBUYmycEUbM47TFDZ6LBJAlo1Ll9EXGwQekJbpJEit2DGnNB7ztPowxp3H2qAiLAFjgQC1GCL3GJXwCipRghRgR4kQWknmYAU+QWLq7W5ApQYEdZbXXvL5s5a1xN0AMLP3/pBDDjn88MNjs+xf5itpJkVFyMhAi4KGA/QvX7n8wusuuvr267bv2blnuLtf7t68OLffzKZjH3Lc00941pHZ0S2kGaUOKQHGEgAtPTn+UYGk6WNLWoUWyDlFuYLRl6748vu//L77+L4yGWUuoaFjtoX2gxMFC4moxygs2gW74k4+5MR3/s93Z2h1XJdhTJ2HC9i6bujH9s/9cUI1YUHNXxgDGn7u2s/+2Rf/5I6wjTqwgTgQsxEwJ2mZD1uqzCgT9iW1w+xRi0ec/zt/OU8zpG3UVSSktsob3fcBaewkxJHl4op4CAG+BFYwuBV3vOgPXtS3gyxNN9LCZ9/wtwbUdplCCRrgc/Tvwl2v/shZV+64NknT1nLy+INPe/9L3o3QAhwUMD9F+6v/TAhoG+uDlkSOHawsF0tIsIL+ZcPLvnnlv1/+wx/c39uxZ7gs3m9qbVrM5g7afPATTjjtSfs/cRYzM9ROkzY8NVazDn0KE0zMPplGtTFYIQYp17HcnMN9uO9/f/kDf3/ZF0btIRx8CFoorJacw2giIoGV26ZIZ4q5FzzhOa98wm/PUduhBXWxcbwClqbPTIqiwLiBZPMdoGRjU1UU5Ifo97F82cr3LrrhO9+98ZKVore0e4lhNm7etGV+y/GHHP/rRz39YBzcpa5Dq8yDSx1F4gIYhzDXQxRQLYtSUytJuFZvfNlbXnYvb9c2hiPfbnfLYhS0sJmOilE7ayeSPriz37EHHff0xzzj+NlHzdJ813YpVGGv0Fh9BQBlkaa0ap9FApgNlCMNUsU/og0yZQ9LSxhclF9y2Y2XX3f1NffvvnfXcGkYBrOd7gGbHnzcQx/55BOefJw7dgEbM3EQMiZREoYoPPlkTWscfZFxfDYwPEo1/c9f8fn3/sufb8c9I+q1s6Q1SvKh5yz1jNKUwgLAedvOO51R99QDT33ny85LJZ3hWWOtQhUhQKfqtx45KsTKRKnGYxiKoEBIyyFGX77un972j2+/F/ezTRHEAVXKF0vtErALLivbtMKnHvGYd77kHQ7pHOZMFSRfV9MuioLAJkkVkoeyzMof4ubfesNvLdldWdbeKJs+8YZPbcGWTDMDcgzvUdiwFdte8b9/587eDxEwP1h47MGPe89vv7fNHY7TUeFpo6Cpures6i1c57wzPAPwRk0YYdTHykVL3/33q759+/Y7bt5+8/3+Hlidp7nFbOMjDzr6lEecetIBp27B5gxJF92YdW5hyf48fJx9l7X0T6p+09qvf/3ray5q+0UJGeQochpdU17/zk+cd/V9V/W0F1LxpGpKN4+bhzvuWPnhtduu//zX//mUQ079vef97iPToxjW5MYZCwbZJEhueJyDRlUcfRzJnk4UUBUSBmk37HD3Lc3szpMRBWTaatl2T/ueC2utTUxZlq3Z1u49ezbOb1qhYQmfVnXaDUga50KsmbRclVRAKFEOWr2d6Y7RTL9wOY80RcqBvUBsIiiVOYQyNyiVg2W34HxkVPfCjWvY+jK+2y4AMXOWK8zgR+gPZ4e9dKWnywtpe4hejlnjNbWUIy8w2o67XnP+WZfu/F7RLVvcOeHYU1717FcaGGsSiNmrH/I6iWUSmIDAUJO4u3HP27741m/d/O0lXrKJyeELF5SRl8U9+fZrl67512v+6W/nj3rby95ytDmaAiXkUE7yNFGp6dr4QlcfeS9gRoAS7J5k+b72/b1uT0mITFqmaZr2ZOCLop1ABEze2o54XQq7FWVV9qAidY8AxVrchLFM7NvqOQIABcluLG3Fbe/41Hnfv+vyYTLIuRiFPElaIYQ777mrvbt78S2XfvQLf/Obj33eS5740gNwQJa2o2Ee+pGzzqy5Z/m+jlxdkgRIQOjTaLu9b3lhqe+GrcXuyqCXpRk0jHioLb+CoQZdKXbeet2t/3DJ3z/9hGee++tvMDA2uMTaVYoj4gmIVJ02932VmVirNg4EC4rh+YDSGAzQ/0H/ynd/5o8v2/H9gRm2rA2hDIl69d71t2/fevW9V3/6a597/EGnnfWcsx7ZPqrFs0UeXGZKAKrEa1jfxknj5ugHwEM8yrw72kZbd8/vQYaVYtgBdTuz/dDzLIUtlTyAJCRKYsUUPAwICacESAjMXIQShg1NZ32aAgZD9V80tn0JMSGqSEZ3+7v6G4awTkufBWMEwqJAYAGYlV2ZesjM7MyIRzmKNjoAxFfNgddPGEhgUSc5GsNL6C9hZU93aU9nF9FSy8yUKAPEGJI8UEoDLm/BrWf9zSuvL67tZcszNHPCoY9+zfNeW02GIY1pJSADy2uBJrEqpdqmoUk5cyFHfg/ufcvf/tGFd3ynaBW93sC2jG8V/VGvdPmufPfN19/8xcu/+Mj9j3vDi954HI4r4Y0mCFXHE1+W1rlfEqi0ln7cMTEoduWebKf0sx7beskQxZe2feVNH3vz8txSMTvK2PKI5zXjQv0wn3FZrqPSFb35nd+671tbP3jne17+nmOzY+basyhjYNyzMZOKvcrpWxsoYSDERGyN10EEI6UpycKMsFDOuUHWMm01KqUvy7zrZp0mbemmA7cwu7GNBYtMNKmsy4QiM2uPBkZ6ucqQqMp7SQfFqAheoJ3QmQ2dYsm3sjmvpEFmmMswyi1CsJl2eMkkSGmihFjqiZpaCKhStZtkbEMwqVBmDEPZe0rFgmweOsja6Ebamdjfhh+++iOvuWL3D9xsOjeaPekhJ7/32e9bwEKCtnjDRDFhdB1FK5PPBuKDWh0if90n3/jtuy7quRUibM7b3ZzmNmwkawZ7RnvCrt7CYNQKNw1++Lo/fePHX/PxB5lWGPZbSSdm/7i6yoerlIpxLcK+CAGsgZRB5AygCMGL8arBtsgmVOY6w123ktEOXnCu03a60lclSmY0d7ZnF7AxQbvwsMaA9rqBq7n8Z/pZkkrfSpNHbDAqw1K655I9l7z+o+fcpdtCuxQfOkW769sJdTxkhDz35XK6sryJ//qaT/zHHZd94CUfOBSHoGwlbNhmOcoM6+zGEasgBE8JMjhnNKC0gCwVG3TB9l3KCWwofJ+gaMlOs3M5GWabzT/c+IVer/f+F/zpQrLRF2qSpitVc2RUITLN+BUAGWGp1JOAIcSao+hh8NXb/uUdn3n3jmz3qNMvwsjBObjOKCPhfFi2Zjr3F7vSxdbXd377pg/f8pHf+8AR6eGdbBYgX+apa4GxGq/vw9wAk103o3YygCAVGGdSUVXDCMIjzPsHmV3cdUngUNoicADEBpcVrZlRNx26NjIHDnlhXAKExNrpzXpMjBKGBSZtMBs4QBy8LU2X28ZwrzdooT2bz6RloiRSpVcKKduQJKVNR2l7zs2ia0AuLtP6JsOB1BrUlfMeLuMWdQ2SMnjOkl6vFyAGjmAh4FT3YM91uOnV57/m2vuv6i62Osszj3noae991p9uxKaOdkjhOfcoBWSQ2JieZKedU2o6kRLBkAhQwg9Q9tB/3Wff+G93fnPQXglSbG5tzPL2Bt7Ppe6ePduG2WCn2+Vn9bI9l7/2g6/93Cs+neLBiSZMEAEb2ITqDfeLT1FaY5/J2JW7LMtYffZfBSQF+CH61/WuPe+Ct++e3eVb3vfDBj//tBOfcvJRJ22cmbfW7O7t+uqF37j4pku2045hNrpzz9Y3/9mbP3fOZwNKQw5Dj5nIk0gsHAAmaZIpVzT+llGACEZQhiDK5CVgiCc/+km/f+qrN2PLCKVAWrAGpkAAmGFTdR3tONgWUkvWrPbI1+7bxxvcxhXFtRi0O9nADEcjOf2Y01/xK6+Yx2JsgkyQDPAoBFZgAHoQtqRImxJZauZlDThp1YxKldIuAGyCIoExxpRVBiMz2Gtw1vaxtBW3n/3Rs29Yvt6kzCt47EMf957ffE8Xsx3MhiBs1lbFPr1o1fObLA3Qu/SuS66/79phe6gWCzT32mecdcZDniawAPcx+Pa2b73j79/W9z0/0p2DpX+94lvPO+F5nVZLQ72wsZV2nIqYjobp4oYExKtUQq7G2sy2UiSGbFGMciln0+5v/dr/+PWDnr2AhRwDgjcIDskyCofWDGZbSA1cy7aaJG5a9ejpp4fqCC8gkHglcOWXp3IX7njDh8+5BbfYeWtHZhGLT3/00059xKkb5h9U+LD1/q3fuOxfvnPHhUtYWbKDHyxf9caPvekvXvxnB7iHxMoki3VOQCMEUcOUcFKiLFHGDiYW5qD5A9770vdtwKaiLJ0zDJTo37Tjps9c/LnL775imVaktfTtm795ye6Ln7zw1NQ5VA2hx6AidoBcw/gl1jMqUCpBkXiP0RXDK9/+t+/c5u5bLpc6lG0xG5947BNOP/a0Ta0tlt2d99z59Su+eeEd3x2mfne5Ysvtb/6LP/rYa/6a1WVqUtcqyqLFFsnUw6Ho+zV/qTeJQtUHsoaUXeAnnPDE1z727AUsCrxCAnxAUAjDJEhSpItYjNwyJS4aUhUtyjJNp7p9SOq07cbzqveeAMwEY2CJqCiKNElOPfzUc550ThudJjkJ1ZGzCWwbHSsuhc2QSVkaStUrrTenpKxDT6mFg3jAkYGx7AaDQWLTlDOCZRjP6GHpTtz++3/zyjvLrZzS6P7iV49+6tufcd5mbJrVDnz19vWGo7UaDJ5cVgKbqqukXLrjsu/d+b1hd4gWOqPWuS889/T5J81hI4A+dv/jbV/6ky/92Yr0siTdteP+f774y///qb/NBhAQo9AyIYKuNxu8r7IWfDN5iVsscFtba+yfv3iUA/Te+3fvvCe5U2YUe+jY1iM/9Kq/PIweZsAKBag/N/qVZ/zGFb0rz/3YuXf17yptuK+874v/8XcvesxvGXLILOBHPk9tRsC4Jet4k00xDwoISd1awhpkhJQpddyh4Odk4QgcuYANCmvAKRBQenCAt3BMmpJjEIO19LB1346qtGTyEol9HlId3KIJ+6LRgKkfjUZC0vadzeXmw3HEPDY6pIqSIFzFHmP4QA04jY4JC7QqgQahag2371LlpDMqSFMncBAgCDAlZBByn7IKDb3kCLMky1i+Hted9ckzr166EkbmBgvPPO6Zrz/jD+ewaGEJSAxHojkENWvqGzKVSIi50iNAb9p+w678PnWD1CfPf/KznveQZ81jMQcF6H7gBz1kozzN/9UnPzLLs5vmtuzevpyjbEG8KVzdgKcCKKsbUe67KEAQJZjMwkNVhVS9trOOR8E93qJbjsQjZjGrKA1IY90ZlMAO1oItjASNdx1O4kyd7P61z4MRoL6Uqiq3UaSBwM4Pses9f/fWe5I7zZxiIA/TI9//yj9+uD2kjQ6QwhIfEP6fA37tq3f8w9s//Y4dsytIw1X3XfXFa77wske+NOFOqhSCkEnWT9UqAENBQKJqq6JwUlBBdmQOwSEbsaXlOgoE5A44cuMxp//60172sd+5rHfRQEYyi8tvvezxj3piGo8vcbTHMdPF8tSdeKJvw4pAMAQCwRgg34097/v7P9/W2TVoFV2ZexgO/tOXv//hOLSDrocw+LH7F8/e/1nfKS8+6/3nJKmTQFt33vu1y7/9nEc9H2SHRdFKbF2QNo1/X5dBxcxCEGoOsjQQYrVQWwAjmunPHIGjZjDjQFRV1DYcNDPIgBk2to4gw1AQ2TSZzn7FniaEuqNvXe4XIMIQiId6I6XVvuSs3HbdQ3DYAuZRKfimCJ8BsWBiJHAmdi8Soelx5HRCkBC4Y6EoQ7DOAJJjYBTtpI2SuDACKeE9RrfgpjM/9KqbejfCUWu59RsnPvONv/bGRWyYQacKjAAEkyD2WLAT7uwUEgPu4/wFZSgbVsbo9ttu6o+WkJX5rtFLnv6KZ84/dw4bAS6Rz6L14oe+uPu0mb+44IOjcnT4fofbncEBQFmqChhE4okjEfFLAJXWgpNii6MmUanpmfTLLx7hB4MrL9t6ebE5L1fCQ3DQeS975xF05Kx2EQIM+eA7dtYDj+3OnnXGWV/6jy8dc/wjj3/oMU9ony5QqIBZoZlN47GZ9EjWlptUAgyGlkxQsPe+8LmqWkkwsB3MdNBmOIOIYFrKCJCgwZIxyj7POQVZrvrKVluqIZemr1OlVf9D5XsFZVXWxLrEp3Zku5jpoJvCKixB6v6dhhRVkbmiagZDFf0eSbM1iXDV8njceg6mbrBhDTEXReGydIByGcvbsO3Vn/j9q3ZfKal2i+7/e9JzznryaxexmCCzIFS9IGKEf/0rKqhJVU4DysFwqFbgoMEbUzEpXcwAALyBvPCwF5z+xicsusU2OhbGwgrEwlXNiRo4vuZ6KCIvoqwWQsSG1MIY4l5/aGbTRJJ2aLWRdpFSSFG34WtUqIpwbfdQswVNdSXWksYqQNPuJx4oCZASo+t6137v5u8NOv3geaacedfvvvsEe0IGR+AA62BQhE7inn3Qs7Y9/q4PXPyhXmu04nZe8I3z/8cjfzODc3DG8Pr2s4nrwGCKzm8J8UmS+Fwy7mZot9HpolVKMJwyhGED3NNOesb3v34Zp6Nev3/Xjm0lcuvGkGL83J9CBFCoMwSWPvp35lt/cPdVe3inNRn6/Nbf/8Mj8fCN2EjBqonBFikweJQ74Z0veusnvvLZE5940mmHPeaY1tHxaa0kERVDCBIMT8nBTvLcPLnEqkSBAWPn0pmsTDtI59Hd67fqDj1qYCQIDAeoARGQ55i+0rqqC6mGVDFLOqG5OfelktjMGm+N2BTtDrqo7gNpNlLVC9TBSggUQ8UTDfnWTYQsKbxCnONCS09lC5lqKIdFy7alKBnSx9JW3PHaj5x1x+jOJMmoT8895TnnPOUP5jA3g259YZOC48m244jhlColdhysfODm7AsMjIXxRWmZXOqMMamNRBcU1EbbQXLwc4547mPf8vg5M5/CzaAV05vYmByFQ7KqpPwXLWvBSU3idiSZ/6uAJAAe/rs3XzZMvQi3qHPagU88mo8HkNMgNQlCsEaAEMow57IXHvLc5x7yLI/SwqVIGQaGVUBiDWt9jU5Z13KvEQRYMABLRlECJaeqpgCLIpHAdZOcUkHBUHQPCRzIK6AeNk2r9jOK5lLoEOllmVAH+ygUL2pBcxcPAGhpqAjI4eBD3iIH8rEaP56TXEegrEDpkDEhASPEzHauDCwhwrg6228afxQTh7BO9wGj1JGgAIwKowidtFWWZYHietzw+g+f88PRjQkb28uee9JvnvOENy1iYwobCq/RBwxxYKpNyGedhEQpMBsbSNSwTR+y6aCEO4X0Jc0/d/EXTjrgxMe3Ht8GUrSAIkXikC64eYUoAsUScTA1SfpNChpJXTw+JX8JViaCCmCMCHJgpOzF2VLKjjGAV4wEbZDliQ70kUkg4uDF1N2nI+g0daI9ppxNGtdzCapO3ASwIgyRX3LD5QWrlmmHOo877PHHpUd30FIIwQg0IKTW+MLOJA964an/8xP/8dlc7h4lK9sHd147uOGk9imFjDqmPc1wfgoRGKOEksl7X4CdD4RYUq4hYQnwpRIRMXQ47JdKnhzbxLnUIpkASYrasQgEhZjp6lUFJEyaIxCsNXYE78HfvvI7JY+Mo2xkn/yIxx3PR3XgYi4ZKUTgDXvwJmw6Y78znv6SZ8VCAQtKQaEoTeLiPamGp1T19dClsqlMVUt3EXDBlENKyEghSgY5MCxhCNYQoLFktcyRM0yCmaqzQOxwQEiyak9OIfU8V5VrDJDnxt0FM4xVB1UL1lI5MFd50yUgAhsjCFJ17AwONiaSSyiZDETWO9IbO7wTAdCEjIUpMFLyzMxQ58ocu7fhlrM/dM5t+Z2epb2cPevkZ537lD/oYibDbChjl9Gy1iiRpl+j3xUVM0MEXoEQ6ToFhC2b/Tfsb9mOipXQks9c+OlH73/849q/kmA2RSpgRjqLZNbMewgAE++xFknYtkEREXrJLf0n9+T8fOS/Rl7Rz0oC5Ka7bloJy4bQkexXjjk9gTUxj6b0MDZQniNnZwICgATOwpQo0dSUEkjAxEQw9TU6VTxoTS7gxM6M7Isqh2AKl6Rlq7her92CjaH0cEbICdQKMaOApsgOdgcaOK8gIlvHiXUyGWjqIUkspwoVeouahYkYakUUTodmsMet3IibZrFo1BjyIBRVG0513sxS60FmU4oUoSooiz1UDDA1v0WNs8cS87gq10/YUICWCBBlYFj083R4G257y8f/6NblW0J7kGj6jNOefuZjXj2DuRYsKYyzoBLqqysRaP1DbrWwIiPjkTzuiNM3fGVjT4bLYWnryraz//y1j5h7xHEPPeX4Qx913MOO2oCNDimBGSGBNbAMJhhp6o1pFfGw1vFTzZQLxyo8FQMzklIQRjTqY9nCglOFDShLFBnSgJAhNWSsY8XqBk6x6nPt/nQMzFL0OAEEYAR/zbYbC8dkHBfuxMNOaMFaNSATAEUgVZCx1hlgAzYdfcgx92+7F2mZm9G1t91w7FEndk1blWidSxobYk2qF2GAlUQy6WNlgJZSyRCFBOI+Rruw87s3XKQcbGG6YebhDz7CwgQvxjCqnKTxc9eyvkpESGBLaAkIaITy1rtvC+QNscvNiQ9/dAudNmY1MBGCAgZ9DICCAQN2SEpIjj7BAmqdAxCoGtnUMKB2cpqGbAaiAIPLssyybJiVhRS9tHcDbu4ULU0ywBglElUOgYKHb6NzMA5N0aC0po/YWgbT/L4Z90UlBrzAMDlnvJRFyDtJd9mv3Iof7okjkZYAACAASURBVEDLYAhIQOSvVCA5tIPOQ3Fgog4QZoYqzM/Bntbc7kTujhAba4cyGmaj23H7m89/y039Hw67JfXpBU95/pknn5mhlaFlFWwQypFJzd6PxJp2W5W+zUyxaK7uyKQwSH7liCdtyQ5cKfMV9Hbortd/6NyD0oNOecTpxx16wmEPedj+tL+FS5DGYKhADchxgtjYAhCSqcnLdZP/XjgJCPcv39WZMwMZUj56yOKmDJTCGHUgC+gI1MdoBYMShUPD6lKGooVWGy3L1jDlvVHaycbZGJO3N0wzmiacEW9NMeCq54uRYb70tWu/fMml/55pOggDTp2Qy8uCubRKqSZbwn5fOfcrjEWjqQFFwxWVUeUjUFN/tO/8TQz8R1IKoHgFumO0Ep1xprsr7EZafunWf/7H9381S9qhCE6I4TLbKXNflmUHrf2TTee/7vxN2NQ23cgWhOoGK1Qgbro5iu8l44TB2kIXyB1skiS5DLmN3bzzTZ859+Zdt7c2Zv1R0EF+6P6HJrAl8oCM85ITDjIyxgaXKKBQIPD6HoHqyhHNQQ5GaINbeN//es+ZH3j1tryQll3hpcvzy6645hpc9TEOtNDaeMojT3nc0ac9ZvPJm7ExE9umueiJa936pTY8XN8ZN8VoKnZPao5C2bJJQam3M9welH1vwk7atRVb78Z9gAtQhgSUKbIgYYbmNtBGq3aGZgzVdH3liVYIuzaL+yR1VVZFjJm6n7CSySF37rmrTL1H8EV56GEPCxgBHmopUMs6oKLrCvHC/sH7HcB3Jiq5qNl1/w4LdnC0zv1sYthRASF4pAFt1Ta0H0zZd3tuxY097MzQKkKhBDDdsvuWCy48/6LtF9oOt0etzaONZxzx9ATO2Ma1sYyK7TAxaXgqL1853mRoDQg+XsTrodt23CtQ9WrQOuhBDyd0IY5iYo5FjryH3QWGQLBIPVYCAhASuATG5mIy57VwbFBdTjMVHxxzipqroAGFJbHQlIzkQ9FB7vCV275+yV9cJgMP9gAgVoXUqqombPYrt/zLud9Y5DlbPTVQ7Au/Bhak6hU0+QrV10G8sgQWcUEcVoa9f7/pX7973cU2MKFkiAkpwIELISZK9/NbvnbOlzaaBasZYIRV170yhMe3I1Nz11aimuRYLpJym9v5e588e/uOu7LFzId+lmXzczMMjh3MOdLIaZYHn7IFYEgUXknjbRprGVHVRZTjxZqxigBAWVLbzZ33O+9+/Ydff2dxR5EO79J7lsKu675/RbhYO8niYnvL8Yefcsqhp55x0K+2kM2jG6/OVV8icVBmNVMv7rrJfy+cJMDKaLlEoQpSWDYWzsBCDRTB6Jev/Oq7Lnh3r7WCto5GQ8vMajOfLZSLF7zzUw6JgRFPaTurq40mZHUJ/D5KzH/W6upKMkokBgrbYSnL3dgz0+rmMvI0UDHUQh4GCRnvk1y6ipLR1FSzwFc+VnUvaViLmRAGVzHE6OMbBcAaOB9psjhb0PJIiqSdLoVlTmHVaDkaloUxlpx6oRWsBHhfk1KoQzbjmNFaRCReQjnGCpwiA1AURTrjhuj3wp6d23a0k27oBWJjXHr+Zz5x1O8e/bju6QGFzRgKw4lUV0TFt7TrfQwVLKImIyiIrYM5xh796Vd/6hPfO/8bl//L3YM7NaG+H3CWgHnE93zums9/+Yp/PKz10DOf/aqnPvgpuQxTagUPw2D4GL8IYAIcraUrNykmAZaCI+TKh6PWYpaXo7/+0l9/ZvRpU7B1aQmfy9AZ25JWOkqzvPv215x34uYTfdx4zdWhAKobTKccTI2cKw1LXCX7kii8aMj9UExJnCWcEJJY7cih2tajYT9rZQlbA8qSlgTyytal4oMBVW2E1lckFkx4siHehiuWlIX8tpU7Xvq+F3eLeVu4JMlUQy7FKOnvae1EW1orbrNfOPv/e90W7EfVhYQx3s2rSLm1Zc8JYGCIPVShAKsqMVtjTUHOpZVHxYCDkHz9yq+86ZOvC3NliqTXH7pu10O8FovD+X897xsLaafwuTPVVWjTjSTm5muAmhpdRXBjASIPG9im8ES+GNzvtZWlzCNVpZAomWBVRFSTugyQ4xWX8bITs5b+YdJQ0pHorm+JY1I4awuUuS9GvgQhbSdU6sgMWCEcjHDilZS98YGAIAX5SM0iKBieKq90/VVKZTVqxGQAsGOBX6Lh7j392Ww2X+nDwBr+/D99/sQHnXjK3CkZMsBFdpWNrSlhJojCTzDUU0KCyuPC+M5pAhSZswI9tnXMx8/8+CcvveAfLvzCkjgJA3aBEiwVe3aPBndede/Xr/jGh/0Hzn7ha5520FNmqWPgKKbxEE0E+39WM7d2+e+FkxRoz871l4Nrm8JQrhrAHtYxBYs+hqPFfGl+93J7z8D1hi7vthNbJu1Bx+8pc/SBeRLLbOAfMHPV9Y1TKhJF1LMNac/BGrHWJ1wiGfEGbMQu6ZiuJUYhTNa2XFH4JNBc2NBC1yIFx/sOBFCGUCybJ35Ae5t9HpKA68wiQMBBUICDY+dHlLU32gF1fJp6m5L14sVL184Ne/0kdfCSqWujkyK1tS5CU++2Fml+TaSpGCcoNLaOpQBmK15HKBZb84d1Hn7ggQd/7ap/1Rbuye8950Nnf+w1H38EPULRJrEpp6QQKY11Px+NFgAxVaJnWRRp2tqAdAbzbzjpTa896XU39q+/9KZLb9x+w9V3Xnv38v27aVfR7o/cypXDPa/9P68ZvfAtz3zYbxA4cSngY4etAFGwQgKCoUj5TZvvVd9YGxOPAc+QVPthCQmGFiHJUaoXbzJTaEiM3b2HF9qLXS1GbrmP3a4iKe3kgwMsTdv/Xatsk9gTGYjZDmwRWqBF10qCBAsh2dlbkW4m3jIAgqqAg0sdAApsDUsZAgM2PkUIQjytz7I20ZjVq8gr1kEFJNLGyI6We/eY2VRVvRaqpWtzGfwcuo/Z/6RXnfGqRy+cZmEVWqKIU9rwwZW9mXaDEmAgAUQeUKsuJZvDdkxWSokMw+HKKN9N7QFcWqIUSIFylO0ZPri3091rSmtmkhF2BGKBlgjLGHTCTGJdxb3SGkZVd70EanqMPVxAmrXnMAIPeK7VkYJm/VyaswldIwx1yqY0PoSQIV3wc110bYiXqbCHIeiqi1CmlMmz38BpBgJURFqtTk5Fvlx0Qmu+mLMhKY2Q2KxMjZA3QQkq3Bp2Opg1aAEskZ1GMOvcr0sbXBJtRnUNqigKEPywnA1zh7QOefgjD/nmVV8bDPs7/M63ffS8j776wzPoloFtyIyFIXiqwwWwBAV8VQk0VfwhqqTqdmoZ9+RnAGIRFjEzg/brHn3Wax79v27Lb7joqguv23btTffcetvKVpqjHWFH2e71y/vf+Jlzh8/t/cZDf2OOZhyay9fxc2rdsg/y3wsnGZj9ZvZvo5vrUCzdcNfNpyyeRiBGEm16oqYVsmHfzs/Pb1jQHb37feKJtD3MDMhjZLmN4gEgt2r5F9M0phyTIlpSj6AQiSUhypbcr5721D845ewZzABswBZqQAVUoA62jbZDSzzYwBiEeJt6s8PqGwan3ma1HmSAICa2z0XJRr0vEmN1oE85/lff+MRzZ5Fy9VEGIAsba9YtTIaOq5JYJ6ql1hL/rlymJkDZUEoKEKyFTW0aL+3tupnTjjz9zaf/YQvt3fcvX3T7xdIJS1g67/w/fO+L3n8AHubgVECExFbNLBTr3s7CQ2p77W3KCg0BqUlZjOXkUZ1HH3P8McPjhwMMb8fWi27/zgX//rHto+3DdBQ6+lf/+FcnnXnyAei4ptOvwpCGWGOytvVVgVbOZKw+KmNqKBPSDMXIiWuH2TRwmReaqybW52VHZzpFuxu6PDIdzJp4T8lqKzVVxG31kKI/WvWnATkDSWA2djYm91tvvRblbXf9UA4nIiAHMgh7QJkpQFRKMXLj1pu4ZQD1uX/wfvtzZKmmuiRnbaIE4njNskKEAgBW1qFkacf2wWxcN1nyO8u2lvCwOOHwR/3xae/dhE0O1sFxtbjjfPbqyWvK91JEsKgEMUACssDG2UXahdwPnUt+uPVGPvxJQBmkZDYOtus6Ljdt6tiQeADZKOcClgb9AcEa67z31lh4gZ1+PqnOSUCjJxHAHqHX65nEZElarORPftRT3nL6H86ia6EWBnAKDggCsaAu5tpI43aP8EDj7W9Tr2+sjKnCf+MZq2PGBDLGkicMMdOeffIRTzzvcX+UopNDAE6RMkiqtFTuoNVCC4EVlY5a935dFX9ZI4lYKw0FJOR5dy7BMHva8b/65tPfCMjgnj2X3vG9YctvHW593Qf/4P+84iMbzSbHSdHzSSdB0z9OAThURwuYhqVrfOC6j+AYYwUUBupRZEgydAX+uPT4Rzz6qP6j8wHy7bj7wpu/9dnvfurmXTcOE79D/Me+ev4przithY6FUo0Ff3ngyS/NQH4uYmGPnD/i3waz99KA2vjODRc+++hnpViItZGu0GceeMZT3/SkAj5H3sPye//t3Z+55lN99De3No/QS7EZGmCruPikmRCwxmvYpxUFlI3hAPHQwpalLb0tfM6au0XsN4tZQsIwDoVC4uWLBDJgIxaxi7HEHV9dRB9hflgDIieBDQoIDI13vzB50ZGxofSjVNJZaS+guxmzKdwKPCMhkIIYSiALY2O7tjoR4KfSHRrjZdXrhHi7WQwsgAJEvKacFEW6X7b/m05/6xbsz+B3P+9dL/3LF9+CW5d090X3feddX377e57xZ5tNt0rgUhSlT6ZsvrImEdbCkAllkbgkoPSQkQkAE5OBZdgu0ha6syhnsXj4wYc+48VPfOUH/9eV+c33Lu+adbO39O/Y0HlwiqxG5gLhhCMsXhM0CQwoTBCoggLEQwJDBDTgOd34e898xQsPfMEGLDgkVEVNxMEwjIDaaDGcBhgeGz/URAamHU+Df6ttkgPRsjIjPfKgY+WmL4W2cJJffeOl+eG7iTuagUys5Q4GJkCCk7uw/dqtV4X5EUbS4c7RRxxLoFLLhNb5im7leK+OYUsoAuCNeBbr04OTgy54+QX7Yb8EyU7s3IWdz//LF273dyOzP7jo6msOvf4p+x3gkFiY+qbk6Ep4QAg2NkdA5a5MMaWRuI0Xn0Wk5UBHH3rkF+9MRswm40uvuXR4eDELzXQWAQp56iFnnHDuowAQ0iX033zR2778/S/noz3dTmeIoQKwtoDYNNSlYftuR7muCIlcu4SKYxYLyVoU3KiPoTUulXQDFufQZViDGKSLO1wASiJPWLtwtUITkExrwsY36FWhpsqLYYZHAGCROLRYnSxra9DeggfNopsjhIr3rOBsQGnBVhkAGYDgFBCh9e9sWgerq2pTAATJElssFYenh7359HO3YJMBv/157/zdD7z8etyw3F7+fn716//pzX/y9He1yCTdDjwMiwFIG07Ogsqpk0YAVCWr9caodIIAElCUCCVyg9TCJpIYsWxbLcgmbDjksAOeetjpL/3gS24d3WqtvfGOW7YW9+6XHGiIXXwl9hyzAn5GU/fTyDrD318ysTBPOf7JM2XHCveLlUtv++73et/tozdArwiDVpIlajvozGNxBnPzWEzyzJDL0qzfG6ZoAfA+kpNo3HEApDCAwQN6WO+LENfNKjlAlHz0lbMk4ZLaSGfRnkF7BmkHMzOYaWm7rZ0WOg4Js43e2vhsUmV7arw03QJHICJjgxeRT1S+SiytNCEvNpgULkNiy2wBsx1kbbTaSNvodNBOJLU1SEKdEFPVA60tL0+rfMVG6jAlElhjdDjsZyZNRmkHnXksbMDCg7H/O37nvPlRFznCTPjGDd/85CWf3IVdhUERGTC2mFjNdRICLBmCGpcUKLaP7r7oju986ooL3valt/7NxR9bQQ8IBmxKTkM2j04HyYOw5aiDjkpc1l6Y3TPsL/V7BonEIJdS1WRS2WjUcVOe3yrvtVkDJjDDQlk1ZGlKPd2oG/fDlkXdvBgWF4rFjWHDFtm0KItzfm5RZjNxziOlVSCpevL0EpPTw7jawFTRZ7gMM485+vS2dJHDk//ejf9x1c7vL/NSboZD5AIFzAh+gPw+7PjMFZ/tYcWPiqzMDu4edJA9WGENGZH1XV+gholaXSCqBCU2knTy7gLmt2BxsZx7KB68P7a8/Ckv31hs4gHD4C8/8eEeBj0MBEhsxmpqYjZW+HhUVMHUXgZXwXIPQESCBgt73MNPSAYmDa2l0cplt199Se8HO7ASTBmLNlJ0NmH/eWyewXwbbR0JM2edbq/Xy5BggjbIpVxjpEurRMpmzggK+b/sfXmYHVWZ9+8sVXWX3tJZyIqJIWBYQmSRJZ8iIsqqwAeoCCIqijiKMqPAIGJmSBRG4ANlV1kcHBgFEUQMOCrLgEAQgeygIiEh+9bdd6mqc873x3vrpHJ7obtz7+2LnN+TJ8/tunXrvPW+Z3nPu53YGAMOTwYIZRa5HFpyaM2gJUDOQyaDXICWwGSY8cA0hAbTAjo5+5ab4a1f2wMlOQ2BRNugMDETh6HPpADzjC8RSJ3NI5NHpqUyywU5ZNvQklEewMCMNmAAiyPGhjkQhkK8ABU0TaklAMI49pnwelg78hnINrTtiqmXnH1pS5SXnG8Lun+99Dc3L7xlEzb3sC7jUVm0hBUmsUNCDlcl4KAwOw5wxIg2m42P/vUPt/7xR/N+Nf9Hf7x1G7pDrqTwAwRZZLPI59HejtH7vmu2J3ylVL4tv3HLxhAxKuVfDANF3DbCd/6meHvpSQJ8qpw8a9qePNaQqpTtvvyOy54Ln+1GV1mEZYSKsRhsC7p6UFqBFS+tW2KMh1KQ99pLiA0kGBV6oIoRmqccGMywIRY7ARgMM4Yj1tDQQGx0bMplXxtPaV9rH5EPJZSRFVVDR0xFzIRQEXSMWCECYkMHW3AYURlHHAiAYIhqCQM4BIfg4LySeSQBX0NqMGgWFQvZwIuisgaLIcEFYCSURCQRA5FGxHhsEIPF0OQk1NAxoA2reCWGg4qyVQEH56C6AOVIlHhGGygZegECBiM02jFqf/Gei/7vv46PdkHJ2yoLV/7+qgc3378Nm2JRjhm4hNaxlPXu/5wbT2sRAT2IVvS8csEtF3znwfl3Lrvz+ievewHPdWFTD7bAU5qVGEIg3Iqtf93y6hbdVYb2vfyo/FiGoFKVxEhwtl3L0Umq2ODBAIZYVTzEuqR8eB48qZngJlY9nm+0KhpUMnyUDyWgOCj0x3CAayY1ePKPpdXf4ZgOlc0YN55BYJCB9pjmHrxdvWkfnP2hoJwxHFuzXf9y5788Fj+2GVt60G0gFFBCuA3dv1z7wI/+50eRLGVKYpfC6LOP/CxDIIlpQ6VmqGAwDLHWjJFFjYeFMOBZoYXQdNBqGbJsUGpH6+kzPnXQ2EMz8EpBz3K8PPehy2LEETQMKoGEBtC09BlAM8OFHs4rcGifjnnlXDPJEOyem/ne3Q7LFfLCz23MFr5x17/9Tj21Guu2yC0hj2OgDIRgPdj2Vyx/ddPistlc0j2+75VRZICnwcpgEEOtn8QAqSF1xWpu3e8CXMI3ZSl1RsaeLsmMbNWQHAGDbyANpAYvAyXoEmNlhpCriAwehpuYCcMVuMKQQzBN+pMBDAQV7tLGQGkoxWMmmTJRLFVRFLehXOBRCGWgNGK9fdhpJrhhKjZlDo1YQSjwyBZ2qAsMRygRSTCtWBwbOn3EU5pD+opzDsagJYTSxkNur8x+559yQUepg+mo1Fr43u9/8PNND/agO0TZgCKqDKLKEI4iGAy1WJG2gU0GXAEhUELUg57FWxZ/7frzr378+ze/9OMfPHvzH/H8BhRKjNKVoIAy2FaEy1f9XQmtTciUGtvWnoWUgI6MBJOGSz2U5Mp64u3ld2OQAt5XTj//he+/tLq8KjTFlaVXv3rFPx114IcPnTln2sTdSsV4a2Hbup6Nf3j+d0/95Ykuti3j51kXOnhnOzp1UmMzcVGnXLkUOs2HPEjonFkmyM+sOGetudYNZotC2GO2/QUvb8O2suY6hmGx9EUEDYhIhRmRjQvhxNyEVgSS+VQsnOgR2yeDJJ1+CCwC7VNM8reBADwoHkiPC3TH27qCrqVYtgGdOR4wQ2dNMDrE1IALw73YG+ONahV5piLoSsVXpRUbaj2MNOWU60LkgasYnhRlFIUwsSlL5XkQAoJBIxKeL1pY6/Hv+Mgr7/nLT579r+58aVvQc+mdc6ecu+t+fDYDhPHZdi2jbkPRUBa0KEPHMHuMnrnrtF1f37C2mAu7op4vX/9PZx768WNmH92BcZKLbfHG5WuX/vTJn/7ptedlOxcRRgej9szv5SNgyWFMFLxeifYd3uaVgUnyyzDhe3TQPWNM6xg6RBwyFVIAPmeIjRGMonCphJPu5XBmiYY0TPD0ILLTkYFQyAr/S0d/8bllT71afrksw9fM2i9c86UT3v2Rw/d836T2KeUofH3b6l89/cvfrHhE52Jfiw7dfuikQ4+eclQb2lUMQYFDw0sZGxwMAKa5ZKg4g6LOjpbV4VqmWGhiDhFCZSE9ZBR0K/L//Il/eeaa/y2Jns3+locXP/yB2Ud+aMKHPeYbnTDS6O3eFLvRHzT9VjAiMXhzSIAHaP38R859/qol3fH6Hll4pfiX867/2ikHfOSAKftNHTXdZ5nuUnHJa4v+9NcnHl/xh66Wbl/znGlvLbZ0oJVGrOfzSIWUWTVEBm1/BfolAxTiEJHwfM59A8EDsY11LcWS8RifnGQIAx1Xyl5LCc5DPdEf24qchOHCA4AYYsgnu6ASt23tSSaZgoGyKUcs0ohjVdI89nLZzdj0Mpa3oTUAREUnq9jojY497umQj/PHdEJAJ+adeuvmHBAITWyYFkIqqILplsJXmulYZ/ycgYkQZ7mQQCvaTpxy4isHLv/Jwp+URKnYUvr3n8yfdt60WZjVhlY/lpJ7FMNnDBiXGmzoYdM0JXBGxtREj5w+arfd95r5xNo/mjH8tfD1c35w7teO/spBUw58hz9Jg3ej9PRrT//ipV+8uGqRyoQdfuskOWH3zHQP0oTG9yjZLWJSNIKlg8DbS08SEHl0zsDe3zjxkv93z9Ure/6OVrbJ3/BfS3563/JfFnrCTC4falWIerxAqkwoItFe6JzeNu2iT12URRAgYIxpE7Mk0qwS/VOx2w59tTCVAxu4gIIxMFqbUoSIG5ZlDy7+zbMrni5vDaXI+n4uUqFCbFCG0gFyraw9szV76ecvPXrakR7oEI8I4ByiEuUnyN88tC2Cob2s3YsbgHEGKZQXlmLWyYqi9JtXfv3YK78PNxdbM/lQG0AKLWC44poZHkRBW7Fl7pmXHjnj8HaRBaMzOZmOjT/k84+0YWTb5mRSSk6BrWSV5JHVSulY+4FX2lwElEEZvjGMC/DRGP/1wy9eturvj61+vCdbeMOsu/iHF/3w8zfvjt2Y8SJTkvBSMeL1gQYMMp4n0RoBX/zIF5fe9LewvKGc7fmbfvXKx773vYf/QzM/57V6IdOIu+QW0w7f8GxJnHvaZ7LgElRAO7HZmEohpcpZp0OcROgAegMW68jjUkEp6JgbLhljTIIFTHCAGwMYnzGWlB61b4NUs0kECXbwAA6aJAYtK/OqNMxW/6u01Ap/d+x65We/8+Xvf2VdbuvmIOrObrz9+dt+8ef/isM4jrTICB2wsDUMEOS6/YMnH3j56fM70SEhJafgoXhYJ8kOHjqKy0J4gGQMCsVyqSvMduVzbabMYnCNrFYBuAk4l8AMf89PfejMHz32wy2ya4vZ9v/u/t7sr87ykdEIJCUfcQVQyb1kezNE+arEYMMAUanrxjO8ZVZuv0s/c+n5t35ddpqi372u9OqtT9985x8zkmXikspIDzLq4VtUNuJxtr08erqcdsX5l3eiBbGGhIEWYohbLqT87BQlbQDEgOEsBBD5rCcOQ4ShKP16yS+eXvZoaWtR+AE3XGimGSIZAZBxkAmzbcX8JZ+94JhpHw6Y9CC5ltIEiIeWN24qQQVGcFS82NZ9zJlggiMMMp4nwIGuQteTKx7/v4uOl0p4igPQPDbMMKMBMM0yaBPd+bmfvezEqUdlQp9l6niSYAUMmlQycvACHKaVtUghPJ5hjDElBYIYRiE2kAGC0Rhz4fsuWv7aX5954ymWVwW95aJbvnX92TdMRy7wAhQVBIeAhmacR7ESciiaUiW8aXshKwZIeAJ5H/L8j379r9eft3LjG3FbcZX+y9wHL2hnreiJYWRRR6LDWx+vl6NEoGW80Zzx8dPb0JaDh4r3M2TS6MpsMPImpZGnoJHg4Bwyh7ZjJ3/kO5++/AMzPpjtzopQCo9vK28tyVLRLxZFkfmMa5MrZKf77/zSsV+47Su379fx7iwyXGsASlnnURLCmvhlMeQCI0luWqwNjAeZYS2Zci6PTq+QychctyyVR8WFluImuXGr7CrnSiofox1Fv9BlukI/LrG4iDIAOvQHiBnsydZIxVANHmy7hkRvZyDAW0RbEAV+UQZKxOWobEqiU2zxu7pzhe5soScT9mRLhWyxkC305AqFTFlnGCAVuI5jbTQAz/OHyh0DaJraWIUS+wRV8TRyPwxG81F+j9fmtYDiq5hWJuQwATyhvMtPv3z37IwxfHSgvZVrXrv69is1FEzMhacaEE4QG3BwDR7zPFoOGnvI97/xg73b92kptOZNK2NMZxG1xJtl1xbe3cMiDy3e1tw0vevln/u3YycfmUfCNbvkbLdEa7Ah+u8ZmETMABjBWaRCA3B4QnuZMJ/pyeXDfCbKCTCjNasoSdsbZ+AUWSmSD9tPoWE6+TdUBlXLQDF7AI/2FT+k7cA7L/7P9088bHS5M6dygQxCGeqWWHQa5cdxqHLFls7S2LPe95n5p18+BuMCk+P2BCuBuvpBGLgvAwFpIs3BWtAmVdCKdlnwsiYDIELMJDOcKwWpikkROQAAIABJREFU4UN+et+z3pXZvaXcxiO2qWfjLQ/c1I0tTMQaWiPeXhvWUA788Oii5I4kL1TDN/CRPXziB2658IYD2vdp3+yNRovQMBmzlW2OWqMe010sF3mM0d7YKWryN0688M5/vmt2fl8JH4bBmCiOkuLVQ82/04pkmvwNaMqyLJe0H+Vb0d4h2nxgW7whai2WM92loDsMimHQU8p0lYKeMCiGfkllVeTpMiKAGRuuGA87ME7voMMZwFDWGi9vKwZl2WqynbKFlwxEOfZKxUzYkwkLmVIxUyhku4vZ7p5sYRPfErfyoowUPJbxDBAPN6xg0GQj5DYXRQnAAzOIeBf8nqA1blVbjQePDpnglPAYBe0Y9Z3T5+2T3cvfLDI6WLXu9f+463s9KBR0iMADB4xizHDAG5KSRGA7fOSABwTwcsju37nfDRfcuN+Y/dp7Wtp4q9HR5vLaQqa7nN3GWsJyeWubyGS7g13Z1H/73Pzjpp/IjUDMwWlyZxF4A+bnQeLtZU8ivcGDGYWO/9N+2OxT931u/TNPLXn0hZf/XObx+o0byj1xS0v7pDGTZk/f5717zNl73N5ZZBl4FhkJSWfLe9IzyfGflaSf7S6coefNKgPJJO3h4bNuOaZnrChsC5iEMEX0MM/4LBCaq0iBguU080UmKiCDFj8OAuRMUqnPQyUYGwygeqZDm9d4qrKAprIgjDEGiG42NhwtN+rxbbuERcSh4kJDMs0ZwLxYAohkpBmE8nKlLOthBuAQzPNiXWRCwNpEhoPEO5M4frgEB/dKor27zcSKc5EPWgyYgoghPGYoT7tV5DjGzv/4t792zT9FXpBH+9I/r7iO33zeGedF0FQyf5gUDQYMLGAAoth4Ho/LcS5ome3v99Oz73pqzZOPPfc/f3192RubX98QdYvAz8hgUvukPcbuedAeB8zZ44BRaGtFlmvJuNZMV8wijCOprsuGrAHDQEdQkSl7THvwpJAhdASdLbR0bhkbmvxY0xF0t0gEXAggLpVLmaBle7l57FjZMtHbDKMCQpWJcij1mpM7k5chzTiGBoeACUSLiIv7yj1v/tg1z3UvefTPT7yw6IUtpY1rt61kAru0T5w2ccYhM9/3f/Z+72SMy8DPIAfNDENswESsEHnI1HGTbwDFYWAYV5CxkvmwM9rIW2SuBfk8Mj5YEV0CkgupldeCDDDhW6f8+3n/8dUe1pXPZB9/4vdH7v7hw/c4jEEakH2EM1M5pTE5322w/GRkXqFQtvTprgYZ5in4h4j3/OS0Hy7e8MITf37i+VeXvN69fmNho2DeeH/ixPbxe06fduA+75k9bv882g0Mg1epw6GFz7OVcBY5pDGsk/okqROsGZXa8n3VsYvetWfDBhkVuWiNRMQE57Fk2pOaa67LXhmAjLNelOUlj/d4EjmDoIRyYIwcelIIA+egfSQ3MBXbNFXcMjGHlNCZMDdej1u7bh2HP0rmWHcM8Jh5BhwsBlPcxACklFERHnJelGfwlaqUs66rm0gDDDpGGABMSygVeF6LzreFLehGYIJdxHgPQQYZrjinw4k8CO3N4O/8zicv+/J/fLlQLnIu//rCsrtb7vrScV8ygClrnhEmDjXXjA+lGBsApg0UYxpGVnwjLClfqbmnwpn+bj/93K2/W/vYHxc9+drKl19f99rWbZszXiZjMrt0TJg2Ydq+M9/zvnd9oB2j82iRRlLmnJZcQ8RQAqJJKigxY4abwWCMEEIpxVgdJ6LatmugNVS5VMp5reAosihEsYTuGGGISMJLMoB4gKAFOR8SgNKaAUYzIYQxJgzDTCaTPJEjKRxK01LAmVZ6sLQlW5lYae1pzVQRpc3YDBgPPoAyygoxB6OWRGUmpNWdAzIDvwWZDPwIBtA+AOVBcQDwoRDzfuZZxpjWfdFpoyJ4TBW9BUQItQ09W7DJgzHQBh6Hr6A1YjrV2YMAdAxFVYkDBG3oyCEjY0ghDYsqMZ2DOCYyLV8KAtOVkifSenjIyBQhVIhL6CmgoKHzaPOR8ZHj2mQ4pdRIw6AQldGzDZt6UAjQ4iGfR0sAj2zXEnJIoYL98q3f90EYai/gAEysuBQhUEasoRTKCsUY5SJiKp0cIJNBLodMDp4JQ49LME9pzb3tZZqTSA9rKew7erpPOg10EUUJ7oPDMAXeE4fCE0UUu9ENIAPWinyAfFyKMhl/+8NtoEna/JNYmQzTFNkKQLxZifMdxm/qUfRzDW1gFGDAIlVuZTkYg3IROVlAuYA4hglRjFEEtIAnELShw4fPtPIgOZMg0wBHZEqCMQ6vjvI1QAhSHbpZscjKPehW0BysHa0eBGU6xFAefM9kjIKWKKLQha1lFAootiDfgVEZZAV4ooVKqQFA8djAJEnyg6Zzu4C0TX4DEEWhF3CNOEbEYcqIuhCWUA6hGHiAXBZBAGgTt7IxzCBmGtA8iiT3oQEmQKrAm2knO87P2kBpMEBygJlKwksMVoAsINqIVRnoDMChyog1ICATVpgQIcB9ZDkEwD34OWSpXIUAhJaIE5IGATq1nRQZhQi0izM8mVVUyGIDUUDPFqzS0AxZVnltRJWjW6k6o+YwGpGBYMj5aBmD9oxG2WgpMLw89gptbwZTqRZhDLQHAS1LYSHMxN3oLqDgQbaiNY8cLwvP88FQDEvSz0gGrcsxjzdiW4gyg+aQObRk0OLD5zEdrq4py4wPqJZU0WkqejBjSWn+yqFzBogUBIPQJZTLUGWUIhQBFSFSUBn4PjIeAh9ZjoDD02Wd8RM3KEcMo8H4UNyqg+Th8PD20pMADYQwEiUJiViioItSQCOmDHgDLiBBYTrGeBBMeVywRBlSpKPrSAuRHOFeWSoq2xKPiyHoSYCJYkaP4iiibBArlDTiDFo5ZBlRDCMgDDQQmcrOjGcgAB1CcfAcAh0xeBL2pFgDcIRcGygJ0afJZKB5ljxcLA5hAOYbaRhCRAplgbKGEciXwSJoBkZpul7lp0oBMTjAJHwAgam0brRmjA9mweotXwMSEGeag0GxymQBQMXKsMqZuAAP4COGFFxrxJHyyYwsozKKBZQowd5H1ofHNIyO5dADQYehJ8EYcKNNxBhCrQX3NHhsYp+ROTIOEUVQHF4MlUWGgwtjBJOVs9UBwyuKOAcEdGJ8of1b3zztj04NxSEQkuIKBR2zkoEpQQnwAB4MBAtAtlKtdwy663cNGPw2ulq+1r0L2IrAlDvD6A3jmAkOZmImQiBGbBAalH0IgYCBaxN7jMwVLNLwuGRac8aHV6dxqPI10EaDaw4BxaIYcRHR9j4GZUzEBePgJgSXdKasjlhBIdbgAiIDj9PBzODkn6Jz7sCIIX2b/AcavwBYbIAI0gCyktgRAdAaTHhKAYL2YBHJQEAyaEBlEDAdACjxmMN4QBiG0s9HsfLpqN43Y0yVfE0qTp9VllUYCA0eA2VsY4gkJIcXwlPQPmLAqIolSkuIDLICuoAuBhYgw42MNYQQcogGasaYoUMTWEUHBZgAZxU9SSsIAaaAMrYoKCAn4QElhVjDo5ILHBzwGLREBEQhDIfMIW9CQIascpDdkE3Ug13jDRAbCAauw1j58CAQMmhEGuUYoY+AQQTwoZkyGoIZqNjEGRYYoIgYMJEpZlngQRqQric4jI6VlL5SRoiBGNoPndsHmvVsGBNKJrTSBtwIL0QE6BBlXqltySUdQghISKViX3AGvn011CrZcA3amOr0pNq1qyvHxZONRiZni0LDxNzwil7MjOEmRiwhmeagQFZhDEwYhxmZYemNtd1VQ2tADlVPUppxrkPDfRYxoxFJhAICKgtVmSRNxScdG2gDKcCF0jBKSa0Q+yYDCKpnzxKqDEcIDWjZj2upv3nWzjwGOoIGuG84bTSAiEFDMTAfBrFAqJHlSHFDU2hE4kE3EoKZHdfCIc6ziaONSjhxAIpp2ldxwDN+eq7UCpxDhZp5nDOaazV8bVisIcoqCkSOmWRAo6JQDklVGo6eBChVElJQDzHgDEKAx6GSUlTMKILHKhZSGihjDB0bw8C0MlwwbSqFk5DSk0yl+suQ6TSqcloIWSdNpV8xA0jjGQ1NW0pNx4mQPY/rxIrVW9utDmgbmB8D6UmaEr8BHilICQYopQQHqDImh2IQgDQVJwQAcK1MbCouZm4MPEbnlw3nnNQhyZdOjwEglaikcTAAUAocYBzGUAZRDKBSlJLe0ouVjsGkYLKi87PkFnonVJIf+lsnBtznaEArIIYE6UnQoCruPKB7FIUOQDNNNel1pEJPCBjAeEYjliZG6EOYys5eGgM5iHO+e+lJKZrTRlDNAcS8xKG5zgA8ZslpkgwxNJ1iIykdhcHISCGS8En4ACjqUQw6e2a7ngQYQYJjrBLtrg3jBoxrphWYF4McWwYQoJho4uT2aT8ChNIiZEwwJcG4NiUuRN31JIrZ8aCMpok9DI3vM60UlyaCAuDBg6FqfEYhEhDCcKWYFDyOIQVFiDEIoxhiGEmp2m+mJPVNZ2X8bt+5VYomQBmjJLxK70sFzccKXEDFxpOMOhWgGbQ2mjNZWe04oCPKWR0kP52eBNB0KYQxhjFm5wit9dAPntBIHTSdMvzrStw+kjmrUiE+fcV+3HECSN3AE2kZY7TWxCLxpmf+GEuMRqUCWMqjD/sVKjVIKkZOuln2fhQSt3t/dmA2CDppL5j6eRLxkHgb++bGDlxNfftm5nrGWBzHUkpLG/1ZfWeKEtY7FzfdVmoMJySlXmdw63oVBsO3vqDTbSKdTrj90QP9fkeWvrml5E3otEoGqzwtYQZHL8bQQNhuZxyIzP7pH6x8NfWuvh9i3676D5uRx/v6dggYqnzTGnz/LfZOCUxJsK+x86ZUvxmddOArx/aNQHWLlZ1VFZFIj24b4WQNQv1iCPKlByb7HwZNc12aHoMd9UWQY0hvzxsYBIghdo3Y7nfD9q0XSHbV+mg1kdv7FarklZLs8M6ZSVY0pRTnPIoizxuwSJXd4fT1XXoUIzVV7mB1TtFvkucMRv0dJJ3J4ymPgPe6Xg27yQXdX83efvmptSYlpHJvPfWkt1IcdxzHxhjP80hgb96l+gZP9zOWvr7j36yPK+jnj+3XOOdKKaWU53k0eQ1Kk9s+R/DelKS+qrq/r1kj+aGo+smOGAydvXw626Nuqwnsg9oB/u4DcRyTZAGQQlwul7fHgVU/rP9lifX+3I+7YFgL/jDl299KM3ivQV9PG6i9genc0ZuGPtm2/c/tNwx7SzRo+Q6UCdF/l+u1GRguoUOVb+9Zos+n9rqn3w48SMLfjM6KB2iAFns11Ht0D2HJH4J8d2iFW4lX9UCR/gPAUOLZAZRKJWqdGMUYk1Km99VsB0oGnuh2/La3HFPzzDBAam4cx5xzz/Nose/X+jBQI9WjoG8h9rei1YjO5O9+rM79YgeeV1/shXK5HATbTyWqn4ZEeMvYk9KgjcsgNvEjAOpJVTwZrkpXRzQnnTSR2Z3B4Ew1DUVz8q03mpNOJ99aoTnpbEL5Whrqam/YSaStg/S58avqYNBUdNo+JqWMoiifz5dKpTodbP6WsSfRhol8bVJK6vpN2J+01mQPtFsrAM02yaL56IyiiPZ8aZk2m3DRfHzrD81Gp5NvbdFsdDabfI0xURRxzi1JQogR1yP7BFkcaOcfRZGUsk6L/U6i2eg0xpB8yapK4q5TW28xexJZU0mTpU7fbFsEElv6yqBdMw1Fs9FJvSi9H6XgBiff4aHZ6HTyrS2ajc5mky8topYkcgsaY5qtvxHf0lH5Wms03xai2ei0gTfWgCKl7OnpSTvjaoi3jD2J9k9phzf1+2brT9R7kDhQhxLq21A0G500/ChCkK7YsP0Roac/NBvf+kOz0enkW1s0G53NJl+KzQBAgeTpaN8RoWcAkCnObv593x9pivpGU9GptSYFgCRLsXp1UpIAwAwXNuNs2E8YanPGmCiKTLJRaLaZKw3ScJEQ2bSkNhWd1iRu4wlGkJiB0VR8GwBNRaeTb83RVHQ2oXzJ3Uafm9AoCIA0D6Ktjsv8TqPZ6OytA3DO66eNvGXsSTbpNI5jMjg34SYvDbL3hmHo+34zk9o8dBIlpH9bcY8UMW+K5uHbwGgeOp1864HmobMJ5VvFENN89ksAJDukyig4OgcP61c9/fTTKaa7Hq00o4rdH4gFlhFNO3MRSOGljtXMpDYPnUSJ3SKP+CQ7MJqHbwOjeeh08q0HmofOJpRvFUNGfFHvE9aBZTnm6BwkbMrn9773vZ///OdXXHFF+isk7mmz00Fpb7E4bgcHBwcHB4e3M6xNi0yGpITk8/muri4bO2WMIQvTzttZ30r2JAcHBwcHB4e3OazjTwgxf/78fD4PoFwuz5s3zypJVEIItbCzOnuSg4ODg4ODw1sJhUIhl8sBCIIgDEPSQ3zf37p1axAE1oZEdZWcPcnBwcHBwcHh7QJjDClJc+fOJaMR55yMPldffTWSgvX2YJ+dbM7ZkxwcHBwcHBzeMiC3Guc8m80yxtra2tatWzdu3DiKTyqVSrUtv+7sSQ4ODg4ODg5vJQghHn744Vwud/PNN69du5ZzvmbNmhtuuKG1tfWxxx4jSxLlu9mirMOGsyc5ODg4ODg4vJVAleh7n3Ns/6dCFTWp4+X0JAcHBwcHB4e3MKyeVA84v5uDg4ODg4ODQ99wepKDg4ODg4ODQ99wepKDg4ODg4ODQ99wepKDg4ODg4ODQ99wepKDg4ODg4ODQ99wepKDg4ODg4ODQ99wepKDg4ODg4ODQ99oRj2pqgqC1jp9RSlFH+I4thfpszHGftsnBv52eIiiCKmKn5YG+t8SaT/Qdbq/fvUe0uj91lWMsoW5tNZp4o0xlrE1pGeo8rU3pCXeAPTZwUhwlsi0NJsclsn2vcIwbCQBaYH2/tZebLCUq0Bcqhod9mK6ozaMTtvraKoxCewV9BpEIwKtdZqMqpGCvnhbV1i+UaNVY5aI6U1k42HXAkJ6AmySQYEdF6z0ekG0WaGnefuPhKarM2mrZ1LPEELQ85VSdNAd5zwMQ9/3iQbGWO+Cm1prSxXdU/NimDQp9Fno01YIpQNo7EuFYSil5JzTbLLzh/MNlWAijNhIDOmTdUSzRQ1PycHQ5au1TjOKKLccrjeIWksz9SvGWBRFxhgisjlBE5YQoqoT0p9pBpI2XEMRDwxaDGgUEGH0wfK2MWQMQB7RQB/67IH2SgP6IZHRe1Smr1iae9/WMKRZEUWRlJK4R4Sl5xB7sWFUFYvFbDaLZM6hsWwnmZFFeq4D0HtajuOYJslG8q1PpAds77UvDEPGGMl9RMh7e9WZtJ1YSklMV0qFYSiEsB3F932lFGkbxhj7EwDlchkAS4FEW3MOcs6tMoSUXSGKIiFEuVyOosg2TRT6vk9KQD3oGQD2yEDP84gkUi7pLewJOMQ6UlZon0r/21NyaoKhypd0cWvZIsoboCSRQKWUNOkDKJfLnHNatKSUvu9bLjXh/kkIYZUkrXWxWLSnatPiYbetYRg2QEkigSI5T4D+j6KIhom9iEShrzc9/YF6YLlcJjKs6kajg26go8gBNKAfUuuc8yrrpt1upa10I6UkIaGTJjfP82icKqXSqolVBRojX5qKAZCSZOccAEop0k5oCFvhNh5WV6NlPq0tAVBKWY0TI2qnod5F8uWc07afviIe+r7ved6bunTeomg6exKSWYCmBqu00o4kjuO0DmR/QlKs2gv2JriGpFKLb2proTNoaIWo2scT6+o9tVUNPOrTNPYs8ZYSWhvoIjGf5praEjkk+dq9KVL7mMbYkyx5aSbY1ahUKmUymXrTsDMgFYR0O7piVU8769E03bAllqTcp/joYm2Nl8NAFStIymlG2QHSmE5YNWvZodrnbDaCqlLatF9FhjWJNd6IbglIK+JVZsKanP+1M6COZAVKf6Z52DDz+SCR5pglvk5+m8Hj7WVPAmC1B2vq0FrT3GT3xMQUWvVLpRKpIHY1tdpS2hBSWxEShTTpWyKRjEmVIAgCskNYQw79vFgsWpdTXUF9l0giNtJuzxpOab6wk4h9IxqZ9Vi0hiRf2qMQbbSPsdvEekNKaSdWznmxWERqNJKSRDvRJtxCEeusvdAy0NrntNZp53UDSDLGkJStPSaOY/vB9reRNc7ZFR1AuVwmKfu+T72UemZ6gDSAHvpQ5TenK+moxxG3J5HxA6k4qnQAnDXAoyHRNunIJDt+7UJudwtk7B/B+MK0DYkCktLbmPSdTTLJkFmOPqcVX9st8RaJ1xwSmlFPIo7TPE4LPKlBxH3qRgAoqCIMQ5rLaI5I27fsxqtOMy/1YxupkG6XvB70ZxAERECxWLQTWRAEqLXq1ifIMk8k2dYp8o4xZlVMpNQX4jApBGT7qa1dekjytaQiZdVvwFJq3XylUonmhWw2m1YpiEiSY1Pt9gg0NOy0mw6wpRXLmg9JM6g3PXaAWIcmaer2g/2qYX6Z/mDVdGtDoovWFtt454J181kWEYXWi11zo+8wYOMQaFCQb8vamZAKhG/AeKnyVGqtyftGrkDLK2LjyLJOSkl+Xms4J3rIs2+95Glf+UiBBoWVJlFLCmjVCjiSVNYBzagnpeOKKHgiDMPXXnvtiCOOoPV+xYoVpVKJLB++7//tb38788wzp06dKoSYPn36GWecsWLFCjtI0jKr7frq+/7LL7980EEHMcby+fyiRYuoOZpPu7q6vvCFL0ycONH3/WnTpp1xxhnr1q2jH9J2oTEpDMQx+kyEKaVWr15NzGxvb1+8eLE1nNK3L7/88gc+8AESwYoVK5BoAzUkafDypZXgX//1X6dOndrS0jJlypRLL720AfMFLYdxHJMWTsak22+/ffbs2blcrq2t7aijjnr66afRxJsn3/eFEDfeeON73vOe8ePHZ7PZWbNmXXHFFUh6AilM6aSH+oE6YRRFL7zwAnUAWtqJBrrywgsvEGEjqHeSBv/GG2+ceeaZEyZMCIJg//33v+2222j5t9E2aZ2v3vSUy2XK/yAjtDHm+OOPpzmH+JbL5Rhjhx566Ah2Rdu0TlLzaPnff//9GWO+7y9YsIA6Gy2rDSCJhjAZL2mLddNNNx1yyCFjxoxpb2+fPXv2j370IzRBKpkxxnYtxtg999xzwAEHZDKZ0aNHf/CDH7z11lsBkNxHUJ/TCZBscm688UbqgWeffbYNNqf92D+enrQ9HXGooOnVBlPXEOSxSjd000035fN5JKv+888/T9e11q+++uqoUaOQuGzow6hRo9avX18qlewTqj7UBNddd11LS4v1TL344ou2iXK5vOuuu9ruQvP+5MmTN2zYYDf39WDdALDR0DfccENbWxuSXcuiRYvIZkP/33LLLfQtYfHixZbgGlIyePlqrU855RQihiZcAGeeeWYN6ekP9NaW1G984xuWDEImk3nuuedMw0U5GJA0v/rVrwLwPG/KlCm77ror9cNPfepTJqE5DMPG0GPZ+PjjjzPGqiJCSPN4/PHHq24eEaxbt27XXXetkvXdd99NLCWOUfB+A+RuOyG1S2Pn8MMPF0Jks9kJEyZMnTp1woQJU6ZMOeqoo+pNzMAol8v0wc4n3/nOd6yIH3nkEdvZGiBfKxrbFo0FpLRwzvlFF11kRnr8Wj+4Meamm26iVcN6qAF897vfHXEiLZ3lcnn16tXHHHMMkmzlj3zkIyY1k4zU4N0ZZebNHz7sX9ZPT6LxRiZHY8xvf/tbAKNHjz7rrLNo5nrhhRfoziiKTjvtNCllR0fHY489tmHDhu9///s0AK699lr7QKsiDIOY3uONOsTvf/97AJ2dnWeffTZR9eKLL9qbr7rqKhqK99xzz8aNG2+55Ra65+qrr+79wBrC6ha2Cdt9iatE9pgxYz772c8ShZaZ6ZciVgNYunRpzUU8gHzJzkQaJ93z4osv0jp6zTXXbN68+dprr6XxuXjxYpPIlPxHZrgiJtjXTD8kDEP68y9/+QvNXEcffXRXV9fixYvf8Y53SCmPPPJIM6LrelrHpVegJdwY09XVRerI6aefTvd84hOfQJLEZ+o281atl1UdPoqiNWvWrFq1au3atW+88caqVau+//3vc84nTpy4detWurORS4Jty/LkvPPO45zncrknn3xy/fr1Bx98sO/7M2fOpDdKv9TO9LdBwjZBA5m6+uzZswF87WtfMwlXrRZVb3pM//KlK5aGZcuW5XK5mTNn0oD9n//5H/J51Ymq3uOXBErUkl3c9/1zzjnn9ddfX758+axZs4QQo0ePNo3im52K++QY7epHjx4N4AMf+MCqVatWrFix33770YTcMCLNgPKlP9///vcDOP744/fYYw8AJ598cnrnP1L6XF31pKbzu0VRRH5ZMjUDMMaccsopixYtOvXUU5HkFVsD4NFHH/2DH/zgF7/4xZw5c0aPHv35z3+etLeuri5rCqb7h2fMZ6kUemIZrZdRFJ1yyilLly495phjbDQDNV0ul4vF4pFHHvnlL3/5pJNOGjVq1Gc+85l8Pm+MWblyJWOMjMDpkJGdh0mlcpC3mOJ+PM8jnxH5lY0xJ5xwwpIlS0488URaRDOZjC2iGIbhSSedtGzZspNOOglAEASlUqm2RtT+5PvSSy997GMfM0kJAyvfe+65RwjR3t5+7rnndnR0fO5zn8vn80qpBQsW2OCbdGTVsAmz0e70EJNEtdOfCxcuJJfQ/Pnzs9nsnnvuefHFF8dx/Pjjj2/YsGEE7eHEAXIuVAVb9PT0UGbKwQcfTIbxOXPmAOCcr1y5EjumH9eKHgo7s2E0JhWegiTPeZdddpk4ceK4ceN22WWXXC43f/58rfWVV17Z1tamlIqiqDF2exqGNFhMEutjjLn11ls55xdffPFBBx3U2dl555133nfffY8++iglENhAeDTEPyiEsGF5xBnO+ZYtWzjntKbahJIaTiYDoD/50hVypBaLRa2rR04pAAAgAElEQVT12WefXSgUyM/bAI71Hr82ykdrnclkbrnllu9973vz5s2bNGnSbrvtdsIJJyiltm7dSgOnTlRZVCUXWx+WDcwPgmDZsmUHHHDA0Ucf/a1vfauzs3PGjBmnnXYa53zTpk1dXV3pQOn6oT/5mqTSL2Oso6Pjpz/96f3339/S0lJvepoFw9aw6mRPSm84CoWCMSYMQxpm999/PwDP85YuXRpFkTWc2E3/2rVr586dS/csXLjQpPZ/lubhUZX+IW0L7ObAUvX888/btuz9FEv7+uuvU4jPZZddRrucmm+trH3eKvVaa7sH7enpSTcax/EDDzxAHWDp0qWWEruTuO++++jbJUuWWPtETdCffLXWRBLJ125lPvaxj3HODzvsMPvD/fbbjzH2iU98Iv1A2mfvzJYrbYejeV9rbV239913H7n8nn/+eWLIz372M2LRs88+2zDvVW+oVCGxdG+n19lzzz0BfPzjH6c7Tz31VMbY3nvvnTaH1Fa+/RlarM3Pkk1M+8IXvgBgzpw59tuG7ZvtkEmbZJYvX05ifeKJJ9LEWN5as1PN/dEDoMpG0tHRIYT42Mc+dsghh+Tz+cmTJ19wwQW2r9YVAxjS0oK77rrrOOfnnXfeG2+8QQrob37zG5PMMPXgW9X4TX9FZbpMwr1SqbRw4cLddtuNMXbqqac2pr9ZktI9ilYxGsLU/aoo//SnP80Ya2trKxQKDTBemgHHb3oI023vfve74exJIwIq0kivTRlGtjqiNeRQ4hjFDdBGWQhB29O5c+e+//3vX7Bgwf7772+/spIb9r6BjEBEFQ17ij5Gsp+L45jCZpEo3bSHpmDkk046iXKMzzrrLApvTGfJ1gTpRAmTlLIgjlGkp/2WYIwhgilZRilVKpXI0kM8J/IohrSGB1z0J1+KPaKsokKhYEldt26d1rqlpUUIUSqVAHR2dgLYtGkTdqyblS4UNCSY1FYJqWpJxhibubPvvvsSE66++mpjTFdX10033USa05o1a0aw5A+9tQ1/Zkk9X/pw991377PPPnfddde0adOmT5/+3//93zNnzvzJT35iks29Ssqf1IoeapfsW2bHCddG7hPZnuctWrSIXNLz5s2jzAbTqGBVk5hdbc0OmiheffVVAJ7nbdmy5bDDDuvs7BwzZsyFF15IkwnZw1RSf7Ixdi/qkMRMmnx6enqUUnfffffChQt7enpef/31yy+//JxzztH1j+PuT746qfMex/GaNWsuuuiiSZMmffvb37amJspd9X2/5nHcfY5fk8pJpLRKsmH/8Ic/zGQyBxxwwJYtW7761a/+6Ec/akx/s7UwWKpoJIXlESg4mjoh7fx/+ctf3nbbbcaYT37yk9lstjF09idfm3wTRVG5XKbb/gHjtfvBSNbX6hOLFy8uFovUpXK53F577WUT7+1hRplMxlYBsJmxFAKslFq1atVLL700Z86c9OrFhluEiqae5cuXd3V1kbbU0dExc+ZMzjnZJ1lSkMMqE0SSTe44+uijn3nmGSnlLbfcMn78eFp9y+Wy1f9qBaqGx5I0b2PM4sWLe3p66M+WlpZZs2bZYWDrcxB7SaFMp+KrVJGYGhb4H1i+RGomk7H5RGkVjVLPqM6CPVYvHRE8vHFLvYh6Cz1w69atS5YsieM4m81GUbTnnnu+4x3vOOuss2699dY77rjj3nvvpWoU9Bbd3d07wY8agFaIzZs3/+UvfwnDkBb+d77znWPGjGlpaZk5c+bixYtp+ZdSvvOd78zlcjwp8llzPck6PmwR8xUrVhSLRc/zyuXy7Nmz8/m8Tir9XHLJJUKIAw888H3ve5/9iW5IHSDqKtu2bVuxYgWZlDKZzIwZMzZv3gwgiqKzzz5706ZNNK4vv/zyV1999a677ko73eKG1CfcsGHD3//+d+rtjLF99tmHPNf5fP6www674ooroij60pe+9L//+7+33XbbBRdc8K53vauu9PQnX+Ln3nvv3dra+ulPf7q7u/s///M/Ozo6iF0syRs3xlTV16gJSb3H7/Lly01i25g9e3Y2myWybRBCT0/P0qVLt27dms1mdVK/ra5I12MDsGXLFoqaout77rmnHRq+799zzz2nnnqq53m77777VVddZSvJ1Vs16U++QogoiigRD8la04T1UOqFYVui6uR3I1MeYc6cOemvHnzwQdJqKQnLqrrFYtEY093dvXLlyssuuwwAY+zHP/6xMSaKorRPZNih3Pvvv7+du+fMmZM2MN53331CCCnlSy+9RPdbM+/atWt33313GsNXXXWV2dFLUlfQm1K8JwDO+YEHHmi/0lr/6le/oq9onbAeOrrn3nvvJb1z0aJFxN5aYQD5PvTQQ7TGL1q0iNQmY8wRRxzh+/6HPvQhkxjtjzrqKMbYEUcckf4t+ciGwdsqizF9+OUvf4lUBuUjjzwSx3FXV9eFF17Y2dlJ9NjeuGDBguGzoxYgWZP/1+Khhx4qFovTpk0DcPLJJ69Zs2b16tUnnngigNGjR69fv74qmLTmJFFXtw5cmt/TvHruueeIwwsWLLAOX0IDXCG0ZSchWnP1r3/96/vvv592BSeccAL5hT/3uc8R8cuXL7d02pj0etO5YMECpHb5Dz74IF1Pz2zPPfccjXGaZBqA3vIlBj7wwAN33HEHAIo1NMasXLmSzJwk+j5Dg3cGA4xfO2M/8MAD1joSx/G2bdueeOKJvfbai/JAq/penaB3zLEwxjz00EOWdZxzK9lSqXTNNdcQ8TNnzly/fn3DVg2LPuUL4Be/+EXaP77//vvD+d1GBDRJWRuDNSeYHZ30tIoTd6iaWSaTmTx58sUXX0yr74033gjA7jNMUo94GCSlbVHpw86s3d4koT90ncy8a9euPeigg1599dUgCO6+++6vfe1rOqnnWygU7EsNk029YHY8i9u64ez+wxZJst4Z+p9KTZLVlyUFzcnWRW9X29M5+pMvAIrlIg2YSAIwduzYOI4pvop+u27dOmPMlClT0twjJ+MwNlsmFf9uku0aKUCWmaS9tbS0zJs3b+PGjeVy+cEHH8zlcnQ/TbU7w5OdAckISd+2zlYACxYs+Nvf/ialvPTSS8eNGzdhwoT58+dzzjdu3Pj73/+eXjntO64JTHIiBPU9S5VJDo6wUrv99tuVUuPGjTv00ENtweudGadDAnmWiR6dlPwB0NnZGYZhEARnnnkmWRMprQzA0qVLyYRM72KN2XWFdSfZ2QaJN9x6/KdOnUpGkW3bttWbnv7kSx6ZTCZz1113Afjd7343fvz4d7zjHe95z3tIrJ/85Cf33ntvG5lQQ3rQ1/jlqVNKgiAQQpDRSwjR2tp66KGHXn311VEUrVy58vHHH2+Mv9KSR6m+9jxNm2ZEZNx8881f//rXtdYnnnjiwoULx4wZQ69p3Sl1xQDyZYzl83lyRNiAhwaQ1AxoOr/bk08+mQ6yoYv2c/o8RQBxHM+aNWv16tWf/vSnr7nmGns9rYsgdSD5MOZf+tWzzz7LdzzeyyQuW1v23hp+aQ497rjjVq1a1dLS8tvf/na//fajuZVs9blcjuyotTWiksmUmiBWLFy40Ko+VW1V1OQks4ylijLbV7AXa+gKGUC+1EralmuMefe7333XXXetWLHCGi+XLVsGgKK5TepUKb7j8XmDBE+OOdOpEwOOO+44m/EBgHacjz766KJFi4455php06Zxzn/zm99wzrPZLGU+jxRsEeRjjjnGJMXNifLbbrtNSklKZ1qnB7B27Vq7x6itn4sGBfU3xtjxxx9vF7C0xMmWY4w5/PDDKWvG6uX2dPe6gqg69thj0+srgEKhQBGEGzdupA1DV1cXudt4cl4vkhMbTP39IB/+8Idp52BLlr/wwgu33nrrG2+8ce21144dO1ZK+fLLL1PIpi37VD8MIF8AcRxTgtv69ett/WjiG6WFUm+soZNr4PFLCMPwuuuumzdv3rp169atW9fR0WG3YQAoebBW9PQHnWS3IVkpqOwQdjy+7f777z///PPjOD7nnHOuvPJKWikojInveCBmndCffO23tF+tYYbsWwMDm5sGQJ38bgRrOiIDIO3hrKEyXTvngx/8oJQyCIJ77713zZo1t912G41YKqZnSa0HkcYYpRT5OzjnRJUxJooiKvMD4M4773zjjTfWrFmzdu3alStXbtiwwYyEfZJ4lc6IIbKFEC+99JI1hluS7r//fhq61plYW9vv4OW7bNkyEugVV1yxcePGuXPn0kyxcuVK+zp1ctPEqbqCcRxTGvZHP/rR9evXP/roo1QE+Ytf/GI9mq4J/vSnPwHwPO/rX/86Gfy/+c1vEocfe+wxk7xgY/wOFtToihUrqIPdfPPNppc7ZqRM98YYyrpgjE2dOvWll17asGHDscceS2sGGTJNynvSMDptccs4jv/2t7+REE8++eRXX311yZIlhx12GAAp5erVqxtDz+CxZs0aovZ3v/tdOhu3AU2TEdoYE0XRE088QcrQySefvGLFiiVLlhxxxBFE2CuvvNIAYvpDeu7atGnT1KlTAey3336rVq2iGmOvv/762rVru7q6zIjWaTO9SnmZXvluve9sJHZGmXnzhw/7l/XTk1RSn5Rm8AceeGDKlCmTJk2ibFjP80aPHj1lypSJEycqpZ599tnep2q0tLT86U9/qnqsrS9QE9x7771Ew7hx44iAzs7OSZMmjR8/PgxDCkuybi9rDCPDkmVaA+IbbHPUd++7776xY8dOmTJll112IV51dHRMmzZt3Lhx9FLjx4+fPHlyW1sbTSsTJkyYOHHihAkTaqgnDUm+xpgzzjjD5t+RbnfhhRfa1T29uNY87iHdyjXXXEME2MN6J0+e3IQrk0UURccddxxxbOrUqRSr5Hne4YcfbpKKFfbOxtBjJ9B7772XCHv44Yd73zmCepIx5uWXXx47diwS9x/9b3VNQs3revSH3qwIw9CWlrbWBSHEd7/73ZFdR/vEqlWryHxi428aI9zeOvcJJ5xgK8bZOfkzn/mMaVT/HwBa6yiKbKkRJIk1ls5f/epXDetyA6CnpyeKog9+8INjx46dOHEiuedyudz48eOnT58+b948M0JKknm76Um9S9H8+Mc/RuLHpT7EknMPqH+/+OKLJ5988i677CKlHDNmzOmnn/7nP//Z1HnbR+GKaau7rTRvjJk8ebIlNe0JOvDAA60VpDH9qYqfd9xxRzp5zZ5UxRgLw/AnP/kJkmw4q+RZh2NN2DhU+ZJ2S2nGQRDsvvvu//7v/15ljqLPtZVy2spCM5RS6tprr91zzz09zxs1atTpp5++evXqEZ+5+oNKivxefvnl06dPz+Vynuftvffel156abFYtGVsKKi/YVTZaNbrr7+enGvLly+nMDVSxEdWQyKUSqVly5Z99KMfHT16dCaT2Xvvva+99loatjZFwzTcmGSMoeIdxphisfjjH/+Y0lfb29sPOeSQu+++uxlY1xurV6+m0U0mzIZVGqsamMViMYqi7373u/vuu6/neZ7n7bXXXldeeaXesazXSIFouOGGG9L7aru4SCkXLFgwssqcTiVOTZ8+vWrGpun64osvNiNn9KqrnjTMbHkkHnqVOiW4VjDGUCglkjBVG4OCVMkcG0dpS50S6M+qqAv6eW1DMXo/bQCqev8wfXO9EYahPRXSkpr2Q5skfA9JzmecHG2YDniqiayHKt+0/97SaQeGjRcxtS69o5PjiqtkZOO3LOU2NL55YHYMnaHeWPUutR0ObwrqV2kKSTequjjinEz3vTSLrKDr0dneFFWRkfS/nWTqMb/VChRhg6QWPxooZZsZYCeQqsmEBD2CvY4GRRUBJgm7tBOLnW1GhEiCZZ2lGUlgazo2dKQ6IRtu6Z/BoOkGFa3cVCOHVkQydVTJgPq3DaCmHT/9mbaWVxVIrGE/s3pGVStSSkpQt/OXLbhCexckgY2s12mg9QDN6VTCMW16YUnZJ7t3Ia3XzmXW1EQl2mpFz1DlS5NFuVwm7lk6TVJbkh5bjxkkHT+LRMoUiGo3CUgxqqlgA/AprcbW2UPSJy2rG5OsZ/Uhk+SXEVV2wkWqNzYg/2gAVKnsdIUMIVVZEfWbly3sfiAdAk8Jv2EY2vRb6wuuNz1DhUmqKaKmZdgGA5sXYkvU2rXc1qOicTGC49cW4TOpgEjSgC3fKiaNpJzsSMEkZcNozFp9nafOjBrZkVs/NKM9Cak9k+51LhupRGSNsGunXczS2wVbKbExFeFKpVImk7Ezmq3gRzsDlhQyoPFAU8Yw8rOGh7SObz/39PTQWWlWq7Mb5XR+TT32MYOXb3rqp/XJ7mPsotX71WoC+7T0nIWUXSSt1TVhyTVLlf2QHgi9v6037P6YWrSpeVTdNN0ZRtyqZDc2NoWKrtNsk7YwNWBisfOYMaZcLgdBULXJITIaQ8wwkE4VbJhkq8z5VXbBdN70iG9y+iPDbvtHfDikQRvF9DRLK1q6DOaIEPy2sychYb0N7kmbbYQQNnCbUkxpjqAr6f1o1c9NqpL9zoNapMJldCUdTk5FiZBUPZFS2qA8k9QBKpVKDVif7IxvkhxUa1jK5/NIKRzpNYBs0XQCQG23CEOVLwDaC+qk+hSN0qr3St9fW1JJibSheEhOFEaSyo6GnIc6VFhdBCnyrL/SGvDQKOKtrmmdv9QBWOp0HaskNcBOMzBYUtcRiZpCRmIK3UPS8Rqjl5BFhNYeKlVPpV/pW+sibE4lCanjdJA6ELfesIfOmqQil/1srap2ZR3B+md2x0h/6uTMQSQBQNbcNbKmGoodBJA+vxwJG8muyZLqUM2j1dUKTacn2dhha/pGsv5Zuz1Sy61JHXtUZU6wY4Oqa9R232wN3aSlpR1YSimaztKrlElC4SwNta3f2B/s1GCnfpMqNUkc6/P8CmOMjUyvIT1DlS+ATCZj5zjrtbHPsZpWbeeRqlWwyvRtfb513cTsDKwxPM1P0kuUUmlW17Do3wCwznHLsSAIyJaJRBexnBxB/5FKVWq1G+U4ju1ZSVVbsoaRlB4R2WzWbm/s9IIUA5sHdlRafaUxQ4YGrJ27rIvf9jc7gZvkGMcRgY3vQXL6FsGKm+w0puHxcFVIt54erYyx0047jU7kpCs00keKzjqhSfUki96dwy6QSOZ9u57Zm+0HqxCkC4vVENb6kia7z506GUIav+frj4FV36ZzUPv7YU0wVPla8iyFVV/Z59SWYPt821y6Rpy9PuLBlf3BUpXmJ8F2Sxt/1hiShBDUVlqs6eAGu9NoDD19omrM9jbVND4SSCQnMKJ/5jQD6/pE1QzT5+CtB6weWdX/0/3N3llvYgaGpY1O50RqNrOvMOJEmh2LEtv/r7jiip/97Ge2XiDtIprQvr6TaNL4JAcHBwcHB4fmQdonQy7Cjo4OOgg87dgZkXjNt1d8koODg4ODg0OzweYaA+CcX3755RTalcvl5s+fb6MRnD1pO5w9ycHBwcHB4R8eVIQivdYXCoVx48bROaoUR0WJOIVCIZfLNZ5CZ09ycHBwcHBwGBlQ7FQ6V+b666+nEuEUSuV53ty5cwHkcrkmzCfYSTh7koODg4ODg8Obg1K2tda5XE5K2dLSsm7dunHjxm3btk1rTeUzRiS7xdmTHBwcHBwcHEYGlOpPZhHG2BNPPJHJZG688cY1a9ZwzteuXXvLLbe0tLQ8/PDD/3jBSXD2JAcHBwcHB4eBYc8hqEpns4Ycuk4l4xtPXl3tSU5PcnBwcHBwcBgOmqTWrvO7OTg4ODg4ODiMAJye5ODg4ODg4ODQN5ye5ODg4ODg4ODQN5ye5ODg4ODg4ODQN5ye5ODg4ODg4ODQN5ye5ODg4ODg4ODQN5ye5ODg4ODg4ODQN5ye5ODg4ODg4ODQN5ye5ODg4ODg4ODQN5ye5ODg4ODg4ODQN5ye5ODg4ODg4ODQN5ye5ODg4ODg4ODQN5ye5ODg4ODg4ODQN5ye5ODg4ODg4ODQN5ye5ODg4ODg4ODQN4asJ2mt6X/GGOecMWaMoYsODg4ODg4ObxMopRhjAIwxdKVhyoBtiJpmjCml6tTWkPUkzjkAYo1SKooiUphqT5qDg4ODg4NDs0IIYYwxxjDGtNZWW2oMyEZDxhpjjBCiTg0NWb9J626ccyklgDAMa0+ag4ODg4ODQ7PC6gMAyL/EOY/juN7txnFsm7ME1E9LG46eREqcEMLqj77v14E2BwcHBwcHh+YF6ShIHGHGGLKe1BVSStI9rPfNklEPDMfvRkpcqVQ68sgjSXlssLXNwcHBwcHBYWShtZ4/f74xhvxLcRzXVV9JgzFGViWllDFm/vz59QuNYkNVcSxHOOczZsz41a9+tccee9SJOAcHBwcHB4fmRBzHZNqxLibSluptUqImqDlSSEhtqlO7w4m/llKSU3DatGl//etfAdQvztzBwcHBwcGhCSGlLJVKFEMdRVFjlCRql4xJURRRLHmpVKpfu8PMU9NaR1E0a9asV155hQitLVkODg4ODg4OzQxjTCaToahlz/MoOKkBcTi2IWrUklGn5oasJ1EOHmPM87xdd911zZo1nudRQLelMooi+lxDO5Ot20T/04cGxNU7ODg4OFjYWZ3iQpAEY9iLfYaJ0EW6zQb82g/plSL98/SyYm+regh9trfRokD32G/L5XL6mek7bXNVqwklcdsX7P2T9Ov3flr6Bft8NYrrtU+2HKDVLf3bdGmiNDd6swhAFEXYEZZd9gWrIqDT/KxastMvaN83/RU9kzxuSGKGGhCiRE3Y/8lSU792hxyfpJQimqIo8jxPCBGGoU3PI1bWyfxFIiRPJIByuRwEQT0acnBwcHDoDZr/aXUk34ed7WkVT/sW7HJgV42q5wCgXTcAWl/tRVvK2D6cc25vptXH/klI56gjpUnYan/pHHKi3FJo/3zTRoly+r8qLod+FYahlJIxRjYFpZSUkgoNEq/IYUT308Pp/you2WeSP4uaY4xFUUTPpxXQ1i6iX6UfawN3SqVSJpOxbOndYpWzjJgfx7Hneem37s2TqmcaY3p/+w+AIduT7CAh3t1www1nn30251xrbbsOgCiKaltUiR4uhCD5xXHslCQHBweHRoKmeimllJIUgmeeeYZ0Aiml53m77LLL8ccfv3LlSlIgaPXtXaxZCFEqlQDYNV5KaTUPW48HiX3FWg5ot0xKkqWKVgT6lp4WRdFjjz323ve+t7W1ta2t7YADDnjkkUeIzgcffPChhx6y2htRKKW8+eabpZRPPvkkrWWknVDrtJZVKUmkVNEHzvlLL73EGJs7d67v+6Sd0G9JCfM8j+KOLRvpA2OMDA1IrDLWbGMNZmSP6OzsPOqoo7TW5MABEAQBqV9W8arSEe1ymclkvvzlL9Prf+UrX7H6ljV5kA8rjmMyO9GjqCFSleg1S6XShRdeyDk/9thjqaHddtuNNMuf/exn1LoV1j8Shmz4sUou8frzn//87bfffuutt5511ll0A3Umz/PSN+88SD9L72AaEy/m4ODg4ECgtZbWaSqbJ4TwPO/973//hz/8YWPM0qVLb7/99jPOOOMPf/gDEjcQLQfWJkEfyMLR2xLDObe+gjAM08X50lYQa7ogLcSSR8pNoVA46qijdtttt6uuuooxNm/evBNPPHHVqlWdnZ3f/OY33/e+9x199NEUekyPEkIcdthh99xzz6xZs+hPa7+xSo816tBbCCEKhUIulyO1gGw8NjqHlCdSfUgns29h1y96Gr1g2pxm3wWJHsk5v+OOO9rb26uMQMQ60sBINGlrhVVAiVohxFNPPTVq1CgbOQOgWCxms9k0YdbaRE34vk93CiHe+973vvHGG9lslqxZQoh77rnn6aef/tKXvkQtpnWDWnW5poAZFqzaa4wpl8sHHHDA2WefTWFJ1rdq76wJ0q1HUURXrIvXwcHBwaHesNO+/fDMM88A+Od//ucwDOnKAQccQEG1YRhec801kyZNCoLg3HPPLRaL559/vhDixRdf1Fp3d3cHQXD88ccbY+6///599tmnpaVlzpw5GzduNMZce+21AK699trRo0c/9dRTDzzwwKxZs9ra2qZOnXrDDTcYY0ql0iOPPPLud7/b9/1DDjlkzZo1JrGIGGOeeOIJIcS3vvUtIvWZZ575+c9/vmHDhunTp9NafvDBBy9cuBDApZdeuvvuu1922WU33HADgMcee+zPf/4zgMsuu+zwww/PZDIf/ehHu7u7lVJPPfXUjBkzWltbL7nkkhkzZhxxxBFpPqxYsQLAueeee8QRR+RyueOPP75UKs2dOxfAU089ZYwpFoutra3HHHOMSa2Pnueddtpp9JAxY8YcfvjhxpgtW7Z86lOfmjhxYiaTOeaYY9atWxfH8eTJk+nbq6++GsCdd945ffr00aNHX3jhhfSo6667bsKECWPGjLn11lsBXHLJJeVymb6K4/iLX/yiLXa4du1aAOecc07VAjpjxowZM2bQ52KxSB9oWSeav/3tb2/bti2fzx933HH0CsRbzvk999xDDdn7/5EwnHNwiRFWYfQ879lnnz344IOD4P+396XhVRXZ2msPZ848QEgCIUBkEBKZjAgIIkaUSENALvOgdJDZK60ocKEblEmZxzBLXwlhlIRLQgLNnIb2ARpUICCkQ4YmQRKEJCdn2Lu+H+s76ytO6L7P1wxCW++PPCf71K69qvY+td69pjJNmTJl5cqV+/fvv379OrrnpEcE4GLK8DVCf1L77QkICAgIAADpWt5goCiK3W4vKyvLz8/PyMi4du1as2bNAGDfvn2TJk1KTk7OzMzctGnT0qVL+/fvr2na4cOHJUn685//7HK5evfuXVJSMmjQoPDw8OPHj9vt9v79+zudTrRhbN68edGiRZGRkcOGDYuKisrJyRkyZMiMGTOKiop++umnxMTEiIiI06dPu1yuQYMGkXFI07TnnnvOx8dn8eLFk15ZBYcAACAASURBVCZNys7Obtq0ad++fQMDA7ds2cIYGzx48Pr16/38/ABgzZo1EydOTEpKouEYDAZJklauXDl16tSxY8fu3bs3NTUVAPr06VNZWblx48aysrLi4mK73Y6WHiKIALB79+7f/va377333v79+xcsWDBixAgASE9PB4Bjx47du3dv2LBhwOkyjP5BoxF5FdevX//111+npKRkZmbm5eXNmzdPUZSqqir0dZrNZlmWV69evWXLlubNm8+bN+/q1asFBQXjxo0LDw//7//+740bN+JAjEYjxbOTVQn/xsfHN2jQgIaMyrply5ZoTsOr4FdoDEMn49SpU9F+JnlCr3D4AEDVAZ5MvtuTxr/MsHiLDrqHNU1btWrVhAkTEhMTGzdu3L1790cuLf44P/vsM7yX/7LwAgICAgL/AsiCgov/mTNnvJboFi1aXLx40el09u7dGwDcbrfT6Rw0aFDz5s2dTmdERETXrl2dTuekSZMURbl9+/aXX36pKMqBAwcYY8uXL1dVtbS0dMWKFaqqbty4kTHmcrnMZnNsbGxqampRURFeFw1OGRkZ+FlVVbS7kJy5ublvvPEG+u8sFktycjJjrLKyUpbl0aNHa5qGFqB3330X3SNoTzp58mReXh4AjBkzRtd1NL2MGTPm6tWrZrP5/fffd7lcdrsdXY3M4zBhjF28eBEARo8e7XQ6NU2zWCxdunTRdb1jx44tW7ZkjE2cONHX1/fOnTvYnrLCBw4ciLMaGRnZqVMnTdPmzp0ry/KUKVNOnDhBNqHw8PBu3boxxtasWQMAaL/ZunUrfl6xYoXJZNq5c6fL5Tp06BAAzJ07F7kLYsKECRjUhVNEBi1yznjdXGxz8eLFCRMmfPDBB0uXLqW5DQgI6NGjBzU7evSowWDYuXOnl9vn3wn/SnwPUWBylJJXNTk5mY+K/1eo0D8FdouBdUajkf37+UEFBAQEnmJQLUFcivFgnz59Ro4cefbs2d///veDBw+OiYlRVfXWrVsA4Ofnh/tcmUwmg8HwzjvvpKSkuN3ub775pmfPnoGBgT///DMA9OrVi0wXRUVFGJAaExMDAIqibNmyZfLkyQMHDgSA/v37f/XVVzdv3pQkaeDAgRTBnZ+fHxISAh5rTYcOHTIzM3VdP3To0IIFC9auXdu5c+e+fftibDKlZdWvX5/3WkiezHY8jsYbACgrK6upqYmKigIAs9kcHBxMcdYUby7Lcnh4OFrCAgICqqqqdF1/5513Pvjgg4KCgqNHj3bu3Nnf3x9NR6goUQz8UFVVhTHgo0ePPnXq1JIlS+bPnx8REbFs2bKkpCSHw4E2IbxuZGRkdXW1v78/RsTfu3fP4XDUrVtXVdV69erJslxdXW0ymfha1aQ36VZ65bIxLiwJw63y8/NXrVqlaVqnTp0mTpyIx2tqaqg9eMLJSd3/Wyrlf4XKUNBc7fKSdOSRkyR8OLBbWZaNRuO/ZVy9gICAwFMOzKfBGGdMuWrWrNnbb789ffr02NjYefPm/fTTTwAQGRkpSdL58+cvXLjw3XffXbhwgTGWlJRkt9sXL15cUFAwYMAAxlh4eLimaRs2bMCWly9fbtasGXICpGKSJPXt2/fGjRuXLl366KOPtm/fvnfv3ujoaMbY6tWr8axr167FxcVR9aADBw6MHDmyuLgYABISEubNmwcA+fn5GPvMuIJAxBvoDR89R0RfGGNOpxMZ2O3bt1VVra6uvnPnDrYhsohnlZSUMMbcbndFRUVAQICiKAMHDlQUJSUl5fz584MHD4b7qyipqnr37l0AqKqqqq6uxq8CAwP37NlTVlaWlZVlsVimTZuG4vHB4E6n02q1Mk/8CRKmmzdv6rpeVlZGypFiutG1h4MlATCjjVej2Ix8Z2+99VZ1dTVj7Pjx4+AJ8aaEu19W/+Js8EWhmMebyWpVmXpIPHqTz2MCMiSqIfaY7FUCAgICAv8cWBMIP6NOpfCUGTNmVFZWfv7555qm/cd//IcsyykpKfn5+aNHj165ciVjrFOnTiEhIYsWLQKAt956S5Kknj17mkymXbt2FRQUzJ07F5OnMIsNfT15eXkBAQEff/yx3W6PiYmRZdnHx+fNN9+0Wq07duz46aefZs+ePXLkSJPJRPUGZVnevHnzq6++unDhwkWLFr3//vsA8Prrr1utVl3XT548eerUKclTfQCDRjC8iZiZruvkaVIUJTo6OiIiYt26ddu3b//oo4/QgiJ5ktEosWnPnj379u373e9+V1NT06tXL8ZYnTp1Xn311aVLl0qSlJiYCFxSGGMsJiYmNzc3MzNzxowZaPUBgN/+9rfR0dHffvut1WoNCQnBfDS+9hJZv/CiBoOhS5cumqYtXrw4Jydn+vTpRGXQnoQeMRy72+2+e/dup06d5syZg8LgFmkAMGDAALxlwJV0JmqlaVpWVlZqaqqmaWVlZdu3b//rX/+KiW90OXiC5AnvNV++S+IKExCTI//mw+BZohr046Tqn4+KLQoICAgI/K9A9w2qKAzgxfx2tG0AQN++fV944YU1a9ZcuXKlT58+c+fO3bFjR1JSkslkSk5ORgXfr1+/8vLynj17+vv7A0D9+vV37dr1/fffJyUl/fnPf546darNZkPigqWDmjZt+tlnn23dujU+Pn7WrFnTpk3r0aNHRETEzp078/LyEhISzpw5M23aNCprBAAJCQl79uwJCAiYM2fO9OnTASA9Pb1t27YAMGbMmPPnz3/88ceSJBmNxurqaizd5HQ6kU9gSJAkSehbxCATg8Hwxz/+MSgoaPz48SEhIXXr1kWfBrk4UEmPGDFizpw5GzduHDRo0PDhwyVJqqmpGTlypN1u79mzp4+PDxIsrJkkSdLy5ct9fX1HjBhRp06dmJgY7GT69OktW7ZMTEx88803bTZbWloazTbVxqTy3xjc3aJFiy+++OLy5cvvvfdeUlISGvnAw8ZkWVZVtaqqCntwOp25ublFRUX8HdR1HY15VGIbuOreWOMgMTFx6NCh1dXVZ86cGTx4MEZ04Zw/sOL544Pu2ZCDTIP0TFIZKgybxtv3sNd7yPimJwZy9iUkJPwbx4sJCAgIPM1ADeR1hDHmcDgemFtDufrMU1AG7Td4BEkJ/kunU1I62j9qBxqjkQD/4hE+ABkdDthJ7UIGXsLQWfr9FW2wc9S1eNxutxcXF+Nnm83Wr18/Xkj6TKOgzrOysgAAU+0Yl2nvdDqxMVE0Giy1cblcSBn/0eTjWZqm3b59u6ysjDF29uxZAFi1ahU/tDFjxqDXDAPPaw+crk7R33ghvtwPfaA5/wXrAng9bM2bNwcA3E6Nf2AoQ/9h8MzUaZRlOSwsbPbs2WFhYbx5TYQoCQgICDwZME+hZ/C8xDPGMEoJHTSoV9BkYjQaaYMR8EQ604qNX+FZ6BuimGKz2YynU7wzbdaBnaiqirUoqX8+mBoAMAQbPJUSgfMHkT0MZcYe8ESqb0lFjCniVpKkdu3a3bx5c+vWrbm5uTU1NW+++SYNlpoxzys9dlhVVZWRkTFz5szw8PABAwagzkJPJX5AqcgKgPODnhNqA1y8L/rIyNn3f7W4qpaWlkZHR2Nw2OLFiw0Gw6uvvopziGzGz89PkqRTp06Fh4fXr18fvY1UsBtdnHhRvsIndk4X4gPeUZjz58+fO3cOe6PpYo8/lJtuNM6Goihz5swpLy+fMGECiko3mubwofCQPOuJwWg0Nm3alHm48y8tjoCAgMCvDqgynU4nVYRxOBykRymJnQd/EM0hZKphnKGipqYGLQS0wpPthLf08Is/yfBAGwl1QvYeMszgB0rp93JQeB1E+d1u9/nz59u0aePr69ugQYNPP/2UTkfhaWb4IRQUFFgsliZNmuTk5PA1dBhnhMPPvHUEG9C8kUWENyZ5mdl0XU9LS4uOjg4NDY2Ojk5NTfUazujRo1Hjjx07Fis1sPstYTTVdF2cugd6b2h6GzdujN1u376deSxMtds/JvCmRPwbFhYWHh7OPKPGeXv4EkL/3/vg/lKwWq3BwcEFBQXIIgcMGJCWlpaenv7222//0qIJCAgI/FrA77Ch1drglt9OinnsCsyTcsUfkSQJjRZeO5o/cH8qbM9vsoFH+G9RHsmzkS2f64Ny8knT7P4tUIAzOPF58owxNOF47e/LG5DQLkWdUyo+8+xQyxjDq5MxBmXj54qCqxhjZC3zSuOvPcPa/fvNKYrCTyY/A+xBNh6qCyB59nvB9rSBDN8PMjO0vXnddPbE98HFa61bt27cuHFjx45dsGCB2Wx2u91169YNCgrKy8tDeXgb4cPgmYnj1nUdS1mgfQ+tqRRlJiAgICDwuIE6EqOeSf0zrro0qnAMpkarA55I1YnQRIH/olfIZDKRQQhdTqinsWdVVXGdZ4xZLBYKPUZFiN9SphgmrOEV+W0b8DPmdqG+lzwbwRKbAU8+Ne88wt5wvNgt7cvGZ4QRRcD5IeKFUdtEkqgHybMlHABgBBKVU8KBo2o3Go2U944CMI8jjB8jnUsn8t8yri4AHmcetxTv7wPOuYRlnOg+0lVoRz/+joNnf2KcLhrdYwURO2SlZrMZnxwMnEeeikN4eJIEAM+MPclkMkVFRWGlVEmSsISX0Wh8JLMgICAgICAg8EwAWWx1dTXyJJvNhsdDQkJsNltBQcGjvdwzE8eNlJwsfhQAKCAgICAgIPDrAfIko9Ho5YKs3eaRXO6Z8buhjRRtrQBAuRW/tFwCAgICAgICTw4YB4YkiZyAAFA7Bf6RkIRnhieZzWb0O6LH1Ol03rlz55cWSkBAQEBAQOBJA8kAbmyHse0PjFd+JCalZ4Yn1dTUYNAZUsghQ4YEBgZmZGT80nIJCAgICAgIPDlgXHxKSkpgYODUqVO99jB55HhmeBKmKTocDqyPTvW4fmm5BAQEBAQEBJ4cKGEQS2FhmhvVJuDbPJrLPSshPmazOSIi4tq1a/gvhmg9ktIIAgICAgICAs8KqCAWlYFABAUF+fj43Lhxg448kmjuZybfDQDu3r27du3aqKiobt26Ya16QZIEBAQEBAR+VaDUNqwLAADffPPNrVu3/l8FbY4bPTxVembsSRaLpaamRlGUrl27Zmdne7FIAQEBAQEBgV8P+DrsrVq1unLliq7rDRo0+Nvf/kZtatuc/gU8MzwJA9qp9DvVmxf74AoICAgICPzagFXRqbA47frCm5R+XflufDl8t9st7EkCAgICAgK/QiA9wj1kcIs6uN90hJleGMT88Jd7ZuxJFLeFg6fNBX9puQQEBAQEBASeHHhKhKzAbrdbrVYAwPgcNKzwmy4/zOWeGZ6EwP2NacNk/PeXFkpAQEBAQEDgyQFNJ/x2JVSSG4kReuUeiTHlmfFe4V7HyIqo7KYgSQICAgICAr82ICvCMGW32w0AmqahP06SJLfbLUmSoigul+vhjUHPkj1J0zQkicgQyQf3S8slICAgICAg8KRBNOCBziWn02k0Gh8+5e1Z4kl8EqCITBIQEBAQEPjVgggQheIgSXjkATlPqd+NZ28Wi0VRFEmSrFZrmzZtNm3apCgKBrHzRcoBAI1v77zzjo+PT2JiIni8dRgYD/dvLKzrOm17smrVKkmScnNzGWPZ2dn79+8HT24dtrRarRQ/HxwcnJSUVFRUVFtmXhg6HS+dl5cnSdKcOXNIAGzAb72CaY38DNQ+iz+FPvDjwsvV/tZrHvr37282m3v16gUeP6amaYcPH+7cubO/v7+Pj0+7du2OHDnidrv508GTaED/1h6p1xW9JPcSkj7X7oS8q06n02uSnyFyLyAg8PTDa+m22WyqqkqSZDab27dvv3r1avwKFzS32+21CPfr18/X1xeVjtcKTOskv3Dpup6SkiJJ0qlTp9xud3Z2dmZmJq541N7Pz0/ywGAwSJI0ZcoUEpKugks0vwXs6tWrJUk6fPiwV0uvZRmPJyUl+fj4vP3223wDVAQBAQF+fn4vvvhidnb2/zppjDFeYwKnKfA4DZ/kIe1A55IHjV/zvZQIzQ9/EGsBgCdw+9EH5LCnD+hlZIyhXvf19W3YsOH8+fM//vjjmJgYAJgyZQrf3uFw0OeCggJFUcaPH4//4jOEcDqdfLf8cXxkT5w4wRhr06bNpEmTampqeHn8/PwaN268adOmlJSUMWPGyLLcp08fPBc7xA/YGD/wPTDGKisrU1NTL1++TG1IBvzXbrfjvygkNqiurt69e/f58+fxIF3F5XLxQ8Aj1BVueYPt6TMJpmkalnWfMmWKy+XC2XO73RUVFUajsXnz5uvXr09JSYmIiFBVtby8HL91uVzUg9dF+Rmge+clEj9X1J6Ggwe9bgp/Ia+5EhAQEHgcwKXGZrNFRER88cUXn3zySaNGjZCj4OJz7949bEl658cff5Qkady4cdRJbXVAn5E9MMZWrlwJAIcPH2aMvfjii/zpyMPMZnNkZOSXX365ePHi+fPnL1myJCcnB1/vSU5abLF//GrlypUmk+nw4cO0xtKqSyeieiouLibJSeaKigqz2dykSZN169alpKSEhYXZbLaysjKUnFcZ2J7XdCh5bfGoMR4hUR0OBz9FXst+7aFhA9I7T0wvPI08iR+82+329/dv3749HqmsrGzSpImiKDdv3tR1ff/+/c8//7y/v3/nzp0LCwupUoIsyy+//DJjbNy4cSEhISaTadiwYUhEAODdd99ljDkcjtDQ0K5du7pcrrVr10qSdPz48SZNmmAPnTp1Yoy5XC68r2az+eWXX6aHoF69es2aNUORsrKyWrVqZTabu3XrVlhY6Ha73W53cnJycHBwixYtfv/738uynJ2d/d1335lMpj/84Q+MseDg4H79+o0ePdpqtTZv3vzq1auMsSVLlgDA1q1bo6OjcQ9kXdd/+OEHAFiwYIHL5fL39x80aND777+vKErbtm2RcrlcruTkZD8/v1atWs2ePdtoNO7fv5+fzLKysj59+hgMhsDAwOHDh9+9e/fnn38GT933l156iVrm5uaqqjpr1iykRD/88MO2bdtKS0sZYxkZGbGxsSaTqUuXLkVFRfiDGTVqlNVqbdq0KZq7cnJyjh49qqpqSkoKY+zSpUsAMGPGDF3Xr1y58sYbb9hsthYtWpw8eVLTtDNnzpjN5gULFnTt2tVms/Xq1evu3buMsYKCgh49egQEBDRt2nT9+vU4mRkZGXFxcRaLpWPHjjdv3mT3rw4CAgICDwkvjW6z2V588UXGmKZpVVVVjRs3NplMRUVFjLGsrKzmzZsbDIauXbuWlJRUVVWhyjAajS+99JLD4ZgwYUJ4eLjNZhs0aBDZ4/v27csYc7lcYWFhHTt2ZIwtWbLEaDQeO3YMX/4BANUccRofHx/UYvi6S6L6+/sPHDgwOTnZ19e3ZcuWFy5cQDmHDx/u4+MTGxv74YcfAsCxY8f4AZaUlCQlJZnNZlQEVVVVdrsdr2swGPBCeOljx44ZDIbZs2fjiefOnUtNTa2oqGCMZWdnt2nTxt/fPz4+vrS0FBVBcnKyxWKJi4ubPn26oiiHDx8+ePCg0Whct26druuoCGbPno3qrEePHkaj8bnnnkPvzV//+lej0Thz5kzci6x3795utxtVRmJiotlsbtSo0bp16/C+HDhwIC4uzmw2v/LKK6iGGMeZqqurH8uTwRh7CnkS8WV6cH19fdu3b0/kadasWYqi7Nixo6SkxGazJSYmnjt37oUXXujSpYvb7U5PTweAkSNHXrx4cePGjQCwcuXKDRs2AMDy5csZYwAwePBg7CoyMhKfjzVr1gBAbm7u8ePHJUkaNGjQ999/TzfAbrf7+fnFxcXdunWrtLT08OHDiqKMHDlS1/Vr1675+vp27979/Pnzbdq06d69u67reN2RI0fu3bu3QYMGsiwfO3YMH5fPPvvM7XaHhobabLY1a9Zs3bpVUZQhQ4bouo6vF126dMnNze3atSsAXL9+/eLFi7Isz507V9O0unXrWiyWlStXpqWlAcDw4cN1XV+7di0AjBgxYs+ePREREQBw4sQJ5HPI+l966aXAwMC0tLRVq1apqjpixAiXy3XgwAFJkkaNGnXx4kWa59LSUh8fH6vV+tFHH6Wnp+NeObquFxQUBAYG9uzZ89KlS82aNXv77bdxxiRJGjlyZHp6elhYGAAcP378yJEjALBq1SrG2KVLl2RZnj59uqZpLVq0aNiw4ZkzZwYPHmyxWBwOx3fffQcAYWFh2dnZkydPBoANGzbY7fZOnTqFhobu27dvxIgRAPCXv/ylsLAwMDDwjTfeOHv2bPv27V999dUn8xwKCAj8ekCrPcJsNrdr14551ND8+fMBYO/evYWFhVartWfPnufPn3/hhRe6du2qaRoqneHDh1+9ejUlJUVRlKVLl65Zs0aW5aVLlzLGVFUlpVOnTp3XXnuNMZaSkoL2pDNnziiK0r9//x9++IEx5nQ68U3Vz88vNjb2+vXrhYWFBQUFly9fRioQGhrq5+e3dOnSr7/+WlXVoUOHut3u9evXo2UoJycnKioKFYHD4UALEPMogtTU1PXr18uyjIpg9+7dRqNxwIABeXl5zGOVKS8v9/f3t1gsEydOzMjIqKqqwknIz8+3WCyvv/76t99+Gx8f37VrV8bY6tWrzWbz0KFDd+3aFR0dDQB/+tOf0OWHiiAvLw8AZs6cyRiLjY1t2LDh6dOn33333aCgoDt37ly5cgUAoqKisrKyPv74Y9TXjLGOHTuGhoZmZmaOGjUKVXNxcbHFYunZs+fZs2fj4uISEhJ4I9mvzp5EZkkauc1m43nS5s2bjUbjxo0bFy5cCADZ2dmapqWkpJhMppKSkvz8fACYNm2apmkFBQXff/+90+m8ffu2oihjx47VNE1V1QEDBmBXvr6+PXr0YIytWLFCkqSjR49WVVUZDIYxY8bw8jDGsIAVISYm5scff2SMLVq0SJKkQ4cOMcYWL14sSVJpaemwYcMAoKSkhDE2bdo0ADh48CA+ELNmzWKMRURENGnShDHmdrufe+65uLg4h8OxadMmAEhLS2OMbd26VZblHTt2oD1p1qxZbrc7LCysZcuW+NDHxMQ0b95c07TBgwcrilJeXq5p2qeffqooSmZmJgl/8eJFAPjggw/wrO7du9tsNrfbjcKgsYcf5rfffpuQkGA2m9EjPnHiRKfTuWDBAgDIysrSdX358uUAUFhYOGLECLLqzZw5E+1Jx44dUxTlq6++0jTt8uXL+PO4cOGCqqoffvghY+zSpUuSJG3btu3HH38kwUpKSgBg0qRJeXl5iqKgEfjevXv79u27fPky3uWDBw/qur548WKLxXLr1i0vn6OAgIDAQwLjMXAlDAgI6NixI720b968GQBSUlLQ6p+VlcU8WqOkpKSkpERRlP/6r//SNO3vf//7Dz/8YLfbKysrAeD999/HeJphw4YhAapTp06nTp10XV+xYoXJZDp16tTdu3cBgGJFSBibzcYrHaPReP78ecZYUFBQy5YtsU2TJk1at26t6/qQIUMAoLKyUtf16dOnq6rKOxZwwcdLuN1uNOowxlBdzpgxg4aPmuLMmTPdu3dHrSfL8qRJk5xOJ449JyeHeZyGpaWlw4cPBwC0Nk2bNk1V1cOHDx89ehR9I+iXQEVw7tw5SZI++eQT5vE2pKWl8YIVFRUZDIbx48dfuXJFlmU8ePv27aysrKtXr6IawqunpKTIsvz3v/+d3e9boNiVRw61VsDSLwwqD0Vx7KizMXbbZDIVFxc7nc7Q0NDCwkIA6N27t8FgqKys1DStpKTEx8dHURRZlmVZvn37dnJy8pUrV6qqqnASZVnGSucAwBjz9/f/+eefGWMGgwH/Op1O9PWgMFQEXNf15s2bL1q0SJbl8vLy+fPnd+jQ4ezZs/h8vPnmm6qqYrx9UVHRjRs3rFZrvXr13G53ZGQkABiNRgxMU1UVI3iQemNU+M2bN41GIwbi1atXDwD8/PzwPcBqtWJgGkayBwYG4iZ3ISEht2/flmX55s2bkiT5+fnJsvzcc88xxjAN0uVymUymsrIyAKhTpw4OuV69elVVVZgqKcuy0+nEOhM4XQDQrl27rKwsl8uVk5OzZMmSZcuWvfTSSzgbffr0wakAgNu3bxcXF+u6XrduXU3TGjZsKEkSblSM4VBYMF1VVZfLVVZW5na7U1JSMBaSMVZaWnr37l0cu6qqPj4+AFBVVVVRUaFpWoMGDVwul4+PT8+ePQFgx44dANC3b180ktXU1Fy7di0+Pv4JPpICAgL/5kACQfG/TqezuroaY6idTueNGzcURalXr95f/vIXVVX79u0rSRLWfS4sLAwKCsJ1T5blGzdujB8//sKFC7ioYtY6doidY0Q2KjWHw4F6AZdflIEKSauq2qxZszlz5qDWcDqdDRs2BACz2RwQEIBtfHx87HY70jWTyYSvwfXr19d13WKxMMZw446ysjJZluvXr49XCQ0N1XW9tLQU1StSDaw2BAAOh6NVq1Y5OTlOp/PEiRNffPHF0qVLO3ToUFFRAQBJSUk1NTWSJJlMpvz8/NLSUgAICAhwuVyNGjVCbYJB2RUVFdgMdfqdO3cYY4sWLVq6dCkOubi4ODY2FgDq1auH6hgNafj6jaMICgpKSEjA+CQA6N27N2OspqZG1/XCwsKwsDCUHOfZbDY/psfjqeNJAIDDxs84C6iATSZTTU1NSkpKQEBAhw4d8A6lpKTEx8fjKfXr179z5w7FfI0bN+7atWvnzp0LDAwMCgrC2p02mw25AppDMEYPyZPdbjcYDLIsU8UFPEWWZavV6uPj06NHDyQZZWVlkyZNOn36dGRkpKqqmzdvbtu2LUoYFhYWGhpaU1Pz008/hYSE3LhxQ1VV/EWBp6S63W7HeDRZlu/du+fn54c/A6RrOHCDweByue7du0fTgo8+PojV1dX40/L392eMVVVV+fn5Xbp0hJPJFgAAEGtJREFUSffsCGgymQCgQYMG+BPC3+r169etVqvFYsGQdqPRSD9LAMjMzExLS5s1a1aDBg169uwZGBj4pz/96erVq6GhoZIkrVmzpnPnzi6XS1GUsLCwgIAASZLKy8uDgoLwjQFZndFovHPnjiRJSI9UVY2JiVEUZfjw4ZMnT9Z1XVEUk8nkdDplWaY8O9yjB3NMSktLDQbDvXv3Nm/e3L59+6CgIFmWly1b1qFDB6PRqGkaUkkBAQGBRwViCagaFEXx9/enis+bN2+22WwdOnS4efOm2+1et25dhw4dcImOiopCQoBaY/LkyVeuXCkuLkY6gi+Z+JKPi3xZWVmjRo3ourqum81mXdcdDgeSJzzudrudTmdwcHCfPn1Q6QAA84TMIh/CjDw8HhYW5nA47ty5ExAQUFhYqHuqCtntdovFEhwcjFEijDFVVQsKCmRZrlu3LqWNE9XQNO3YsWNpaWl/+MMfAgMDu3XrZjabs7KyLl++jDRr3bp16JHUNK1Ro0Y+Pj6qqlZUVAQGBl67dk2WZYfD4evrCwAo6vXr11HR1K9fX1GUUaNGYf6Qruv+/v4Y3UU1IfEsXOFLS0tR061evfqVV17x8/NTFGXNmjXx8fFoDKtTpw4AoB4xGAxESR8HnjqehI8mDRi1eHl5+bJlyyoqKrZv315UVLRgwYLg4GD0EG3fvr1hw4YbN268ceNGRkYGmW0kSaqoqNB1vby8/PPPP/fx8cnPz79z5050dPSBAwdOnDixd+9eZEIAgD8Go9GI052bm3v69Om2bdsajUbiN2VlZRs3bmSM3b17d/ny5aqqxsbGWq3WsWPHpqWlRUdHr1q1qrCwMDMzMyEhYceOHZ988klCQsK2bdvcbrfFYkEGgxTB19cXfw+MMavVWl5ejvvRIAtBQ5/L5bJYLEiQmaeOABppAMBoNNbU1ABAt27d9u3bN378+N69e6empuJDg4xeUZSoqKiOHTtu2bKlY8eOt2/fzs3NHTt2LMoDAC6XC3tDUmg0Grds2XL69OmhQ4eqqrpz505Jkrp16xYdHf3hhx/u2bOnYcOG69evv3nzZnp6+muvvbZ79+6PPvroN7/5TWpqKsocExPjdDq3bt0aHx//+eef4/aE4eHhLVq0OHDgQK9evc6ePbt9+/bU1FR8b0C7LrIfXddbtmzZvHnzLVu2vPLKK9nZ2WvWrDly5Ejv3r0//PDD3bt3R0dHr169urS0FB2Lor6ogIDAowK+teLbIwDY7fbr168vWbLk559/3rFjR35+/sKFC0NCQt566y2TyZSenh4TE7N+/fr8/PzMzEyMBMUXV1zMr1y5sn79+sDAQLS4tGrV6uDBg0eOHMnIyEB7EniWX7QVSZJ07ty548ePv/zyy6iMVFVVFOXGjRsLFy7E9ZkxFh4ePmjQIDQEoKYwGo2VlZWSJHXu3Dk1NfV3v/tdYmIihnCA59Va07SmTZu+/PLLe/bs6d69e3Fx8cmTJ0ePHg0AaCBAswLKr6qq0WjcsGHDiRMn3nvvPU3Tdu/eLcvya6+9FhUV5evru2XLlvDw8A0bNhQXF3/zzTevv/76zp07P/3004SEhK+//hppX3R0tKIoW7ZsiY+PX7x4scPh8PHxiYiIeP755w8ePPib3/zm1KlT6enpW7ZsQdWGashut5tMJlmWGzVqFBsbi4ogKysrJSUFFcF//ud/bt++vX79+ps2bSooKKDyPWhfeMhKkv/78/G0gQxCCJvNhmTFaDQ2a9Zs0aJFeNzlcmVlZSFZef755w8dOqRp2rVr11RVnT59OmPsm2++CQ4ODg4O/vLLL2fOnGk2mxctWnTo0KHIyMjAwMAvv/zy+eef79KlC/OE1OXm5mqalpycrCiKV7wwuYqxjFNsbOyuXbtQ1P3798fFxamq2q5du//5n/9hjFVXVw8bNsxms8XHx2OQ8tGjRy9evChJ0syZM9Fd1b17d8aY2+1u3bo1ps6tWLECAE6ePMkYy8jIkGX5q6++unz5sqIoGNUUEhKCAYC6rrdp0wa9bHa7fejQoTabrU2bNlOmTFEU5eTJk5TDr2narVu3evXqFRQUFBERMW7cOMzzv379OgBMnTqVcZn8mqalpaW1bt3a398fY8K2bduGw9+3b1/Lli3NZnPr1q2RpjgcjiFDhmCI/eTJk1VVPXjwoKZpCxcuDAoKatiw4bZt2yRJmjZtGmPsxx9/7Natm8ViiYyMXLZsmcvlQv80Zv9h/t2oUaMYY5cvX37ttddsNlvTpk1XrFiBV9+/f3/r1q2NRmNsbOzBgwcfa16DgIDArxBe1UxwwVdV1WAwREdHr127FmMiccFv2bKl0Whs1aoVBir97W9/kyQJl9M9e/bUqVMnKChowYIFs2fPNplMixcvPnDgQFRUVGBg4MKFC+Pi4jp16uRyuVatWgUAx44d03X93XffNRgMqBQwKErnivaRsn7xxRd1XQ8PDyf11LZt25iYGMaYw+EYPHiw1Wpt3bo1JiBnZ2frXAWc4uLid955x8/PLzIycty4cZWVlYyxgoICUgQETdO2bdvWvn17X19fq9XaoUMHVAROpzMzM7NVq1YGgwGXYsZYdXU1KaBPPvkEAPD4F198ERAQUL9+/e3bt4MnjhuXdz8/v4iIiIULFzJPlPecOXN0Xb93756iKKNHj9Z1PS8vr1u3bv7+/tHR0ZiAxRjbu3dvXFyczWZ74YUXcnJy8E7xBQgeX9zq08iTEEjSMW+Lj+x+YPEh/gPWFuJzKakSF3VOVYXwQviZb/CPZp8C/fhmCDyOxSQKCgpQ/vnz58uyfOnSpdoDtNvt1D+F7nuNy+12U3UKbEZC0hDKysowAGvevHkAgPUC+Onyyh/Eagv8GKlN7bn1KsvE94xBc5qmYX7fkSNHaB50rtqTV+Elr9nzqqtB3+KoXS4XWmi90hlEXQABAYFHC3R+6R7wxxljmqZRmDCvKWhN1rjScbSS80dwOfVKnWH3r7peaXd0hAoLoWpjHJ2ic6kHUigkGH7lVdXJS6/VHq/mKXHEuMUfgV3x5Y40TcNMuiNHjpDiqK1k+WmhCcHOeV3DaxB+HjDSXL+/iBS7v4bi48DTWI8bg5PQ/on+IPSealyBaUVR6GnAg2iZxA8Y74KGOPQ3oyWT7r0sy1jBkzFmNBpVVUV3Lz18eAp4LJMUL0U+QcaY3W6nneYoJtpkMu3cuTMqKmrcuHHHjx9ft25dw4YNGzduTOPSPGW4Ma0Mr4WOYfDs6kcjxWgexu17jELiMGVZ3rlzZ926dSdMmHD06NE//vGP0dHRTZo0Qf6Bw0ebLZp26V+8Co5RkiTsinlMlxQ0h7NEc4t/MbQIANAnSI5t4LZrRuHRHIrzjH56bImuehwdXRGLzRNzwvgqtEujhMxTy1Xn6rEKCAgIPBKgLpA8u82Dp3I0fpZlmaIgcFVELY4B1+BZxAAAE1lQa+Byh53gckrLI2l9ytShNZZxdatxwacN4FG14VmYlkTnkoIghUWuKPwKT2Se7SjwK+oB7t/RAcObAACDgbAxhrXQtTCygr6lkHDwuNIwmMTtdqOSRZHo0qh3aCAUBIKA+8tqo8bHABXUYrwioFvwcI/AP8RTx5NIwYPnSaKMAJw1nFOM1KEAI5wyfMQpQBhNSsi3iJHwwU/4KCA/xX7w+cZcMGxJu8YgWSEhMcOL+sGrqKrqdDr79es3derUjIyMN954IyIiYteuXcQGAEBRFOwcAKqqqvAr/AEgWyIZ3J7q+ERxsAH9kGRZ7tu375QpUw4cOJCYmOjv75+eno5PEomNFJBC5Jgn1ImE0TwF4/Egeuixvduzowge50eKsuE8gMe7T4sL3gh6P0CR6AaZTCb6JRMhY4wZDAZktxpX/x5fFPBc7MrLFi0gICDwkNA0DZdcXMowo8pL+6LeoXdaXAnpdRpJA3i0OyoyXdfxlc99/+5MDocDaROFK2HPuLihjYoybCj/mhJ9iDbRtWgd5nkPrZOo48CTbUe5eODhUrjC46WxT6J9GGCOzfhXa/yK9CmRNnrrptnwopXUc01NDYrBTzWqdT7YiGSj4ZCOIL2G7R+fXnhK98Hl2SXeAJw7TAojyo+Kk0/aqqmpqZ0ciA14qwx4qAmFPFOzmpoaTJvHZniTKOyajC74jGrcjrwkBh3kH0TmySnAZ4h/a6F0BpKTHnr+xuvcpscUf0cvLhjOhsdRTnqa+Uvz4uGvi36ZfGN+Snkxan/Li4edeMXT0Y/Za64owYGO49LA271IKuzEa94EBAQEHgl4WzgtWYwrFuC1LCOv4hcrstOQSmKetHxMhfNa7tAFgascGU54BQEAdrsduRTaaUit8Gs1SUvnEtUzm838qqt50ve8XjWpQ69V16sBv/DWniJ+yPxK/o+UBQ2HvwWSJKGKJ7H5GUbJeSXOgx/pI8dTZ08CLg8Ls9/xX0pGwIlDswpPkjAOxmw2UzwTUVrKKcD+ka0j38JEfY3bsNBsNvMUG+2cmJ+PjzUaq/ApoUefGDFwRhokDeQ6xR7I0Mq/lzCucgbvTESG7na78f2Dnx+8ImacorGturqavFTEV3grFHC/dmRU+DaAv1jgjLF0Lty/ASEtEHQLcOxIZPE20Yn4+oU/cmSl5JymkYLnRQTtSWijAs7Th1fB2ebtugICAgKPCrQag8fsjR/IYMNblcDj6sIj/EqLb62yJ+QDALCAEFnQ0Z+AugzrAmIhJeqqqqoKFzqn04l7wINHlcD9nKy2+Yp5Sg+6XC60F6AyIplxOSV7PwDcu3dP9pQq9LLKkBuBVA8pCFzV3Z7qhui4oJgkolBoH+KdfdQhnk6al0gSeWbQgOT2bNyO6p5X4hRFg0ceq154eu1J4HE6EogOe9FGL0MLnlXbIlWb1fKkgT/rHxly/pFhhkCPCHBeNt4WUrulVyfUrDbrJyHJXIT9YF49WY94s5aXSQk4Ys5flP71Mrl5Tdo/EpU+YCFQfnRk3kNahr9PekX7J/az2jei9gscCAgICDwK4OLGuyNIzfOrjdcaiCsev4IxLsYIHSBYQ5hMPqj+KSABF0YvL5iXVFDLVgT3Oze8lAsxIZQfDz5QA9JXcL+25b1a9GJMY+R1BAnmcDi8PDlEemiiaCaxqhMvKjEhEknTNH5ugdO/vA/ugfP2yPHU8SR2fyww3H+f+GmVPdVO6f4B9yqAn2s/HF6+G9K+9KG2+6y2hNQDb5DkKYgXA6PnA//leYlXJ3C/+4n3+sH9DJ2PcfOCF8fysqZ6XY4EBs7ICZy7kDqhcbm5Et78bIPnjYHi4mtfHTj7KhVPA4+tiF6VeOElT9iZF08VEBAQeFTgFxZexwP3asq/p/FrO79mer1Xe+ms2pfjl1BSdvyKR+vtAx1nXn63f3KQX0u9mnlJ5UW8EPy7qxdZ8dJ3vNrlX+/pEkgQ+UEBp4m8PGv8O7YXRYP7w1r+CRd8SDx1PElAQEBAQEBA4CmBeC8XEBAQEBAQEHgwBE8SEBAQEBAQEHgwBE8SEBAQEBAQEHgwBE8SEBAQEBAQEHgwBE8SEBAQEBAQEHgwBE8SEBAQEBAQEHgwBE8SEBAQEBAQEHgwBE8SEBAQEBAQEHgw/g/KkO+tGO34JgAAAABJRU5ErkJggg==)"
      ],
      "metadata": {
        "id": "ky3wsTzkJUyR"
      }
    },
    {
      "cell_type": "code",
      "source": [
        "# Slicing of a Tuple\n",
        "\n",
        "# Slicing of a Tuple\n",
        "# with Numbers\n",
        "Tuple1 = tuple('MAHENDRA')\n",
        "\n",
        "# Removing First element\n",
        "print(\"Removal of First Element: \")\n",
        "print(Tuple1[1:])\n",
        "\n",
        "# Reversing the Tuple\n",
        "print(\"\\nTuple after sequence of Element is reversed: \")\n",
        "print(Tuple1[::-1])\n",
        "\n",
        "# Printing elements of a Range\n",
        "print(\"\\nPrinting elements between Range 4-9: \")\n",
        "print(Tuple1[4:9])\n"
      ],
      "metadata": {
        "id": "Ub_dTiUjI68H"
      },
      "execution_count": null,
      "outputs": []
    },
    {
      "cell_type": "markdown",
      "source": [
        "Tuples are immutable and hence they do not allow deletion of a part of it. The entire tuple gets deleted by the use of del() method. \n",
        "\n",
        "Note- Printing of Tuple after deletion results in an Error. "
      ],
      "metadata": {
        "id": "u8iokMIsJhoO"
      }
    },
    {
      "cell_type": "code",
      "source": [
        "# Deleting a Tuple\n",
        "\n",
        "Tuple1 = (0, 1, 2, 3, 4)\n",
        "del Tuple1\n",
        "\n",
        "print(Tuple1)\n"
      ],
      "metadata": {
        "id": "AN8dhH8_I6-7"
      },
      "execution_count": null,
      "outputs": []
    },
    {
      "cell_type": "markdown",
      "source": [
        "**04.Serts**: In Python, a Set is an unordered collection of data types that is iterable, mutable and has no duplicate elements. The order of elements in a set is undefined though it may consist of various elements. The major advantage of using a set, as opposed to a list, is that it has a highly optimized method for checking whether a specific element is contained in the set.\n",
        "\n",
        "Note: A set cannot have mutable elements like a list or dictionary, as it is mutable."
      ],
      "metadata": {
        "id": "Lf5L-1NTJrWo"
      }
    },
    {
      "cell_type": "code",
      "source": [
        "# Python program to demonstrate\n",
        "# Creation of Set in Python\n",
        "\n",
        "# Creating a Set\n",
        "set1 = set()\n",
        "print(\"Initial blank Set: \")\n",
        "print(set1)\n",
        "\n",
        "# Creating a Set with\n",
        "# the use of a String\n",
        "set1 = set(\"mahendra\")\n",
        "print(\"\\nSet with the use of String: \")\n",
        "print(set1)\n",
        "\n",
        "# Creating a Set with\n",
        "# the use of Constructor\n",
        "# (Using object to Store String)\n",
        "String = 'mahendra'\n",
        "set1 = set(String)\n",
        "print(\"\\nSet with the use of an Object: \" )\n",
        "print(set1)\n",
        "\n",
        "# Creating a Set with\n",
        "# the use of a List\n",
        "set1 = set([\"i\", \"am\", \"mp\"])\n",
        "print(\"\\nSet with the use of List: \")\n",
        "print(set1)\n"
      ],
      "metadata": {
        "id": "Q67PY3pPI7Be"
      },
      "execution_count": null,
      "outputs": []
    },
    {
      "cell_type": "code",
      "source": [
        "# Another Method to create sets in Python3\n",
        "\n",
        "# Set containing numbers\n",
        "my_set = {1, 2, 3}\n",
        "\n",
        "print(my_set)\n"
      ],
      "metadata": {
        "id": "RnMQizRCI7EI"
      },
      "execution_count": null,
      "outputs": []
    },
    {
      "cell_type": "code",
      "source": [
        "# Python program to demonstrate\n",
        "# Addition of elements in a Set\n",
        "\n",
        "# Creating a Set\n",
        "set1 = set()\n",
        "print(\"Initial blank Set: \")\n",
        "print(set1)\n",
        "\n",
        "# Adding element and tuple to the Set\n",
        "set1.add(8)\n",
        "set1.add(9)\n",
        "set1.add((6, 7))\n",
        "print(\"\\nSet after Addition of Three elements: \")\n",
        "print(set1)\n",
        "\n",
        "# Adding elements to the Set\n",
        "# using Iterator\n",
        "for i in range(1, 6):\n",
        "\tset1.add(i)\n",
        "print(\"\\nSet after Addition of elements from 1-5: \")\n",
        "print(set1)\n"
      ],
      "metadata": {
        "id": "IkDhya7iI7Gk"
      },
      "execution_count": null,
      "outputs": []
    },
    {
      "cell_type": "code",
      "source": [
        "# Python program to demonstrate\n",
        "# Addition of elements in a Set\n",
        "\n",
        "# Addition of elements to the Set\n",
        "# using Update function\n",
        "set1 = set([4, 5, (6, 7)])\n",
        "set1.update([10, 11])\n",
        "print(\"\\nSet after Addition of elements using Update: \")\n",
        "print(set1)\n"
      ],
      "metadata": {
        "id": "2wpYHPkDI7KE"
      },
      "execution_count": null,
      "outputs": []
    },
    {
      "cell_type": "code",
      "source": [
        "# Python program to demonstrate\n",
        "# Accessing of elements in a set\n",
        "\n",
        "# Creating a set\n",
        "set1 = set([\"i\", \"am\", \"mp\"])\n",
        "print(\"\\nInitial set\")\n",
        "print(set1)\n",
        "\n",
        "# Accessing element using\n",
        "# for loop\n",
        "print(\"\\nElements of set: \")\n",
        "for i in set1:\n",
        "\tprint(i, end=\" \")\n",
        "\n",
        "# Checking the element\n",
        "# using in keyword\n",
        "print(\"mp\" in set1)\n"
      ],
      "metadata": {
        "id": "1Tlaf-8bI7NP"
      },
      "execution_count": null,
      "outputs": []
    },
    {
      "cell_type": "code",
      "source": [
        "# Python program to demonstrate\n",
        "# Deletion of elements in a Set\n",
        "\n",
        "# Creating a Set\n",
        "set1 = set([1, 2, 3, 4, 5, 6,\n",
        "\t\t\t7, 8, 9, 10, 11, 12])\n",
        "print(\"Initial Set: \")\n",
        "print(set1)\n",
        "\n",
        "# Removing elements from Set\n",
        "# using Remove() method\n",
        "set1.remove(5)\n",
        "set1.remove(6)\n",
        "print(\"\\nSet after Removal of two elements: \")\n",
        "print(set1)\n",
        "\n",
        "# Removing elements from Set\n",
        "# using Discard() method\n",
        "set1.discard(8)\n",
        "set1.discard(9)\n",
        "print(\"\\nSet after Discarding two elements: \")\n",
        "print(set1)\n",
        "\n",
        "# Removing elements from Set\n",
        "# using iterator method\n",
        "for i in range(1, 5):\n",
        "\tset1.remove(i)\n",
        "print(\"\\nSet after Removing a range of elements: \")\n",
        "print(set1)\n"
      ],
      "metadata": {
        "id": "pRuNKcbnI7Pn"
      },
      "execution_count": null,
      "outputs": []
    },
    {
      "cell_type": "code",
      "source": [
        "# Python program to demonstrate\n",
        "# Deletion of elements in a Set\n",
        "\n",
        "# Creating a Set\n",
        "set1 = set([1, 2, 3, 4, 5, 6,\n",
        "\t\t\t7, 8, 9, 10, 11, 12])\n",
        "print(\"Initial Set: \")\n",
        "print(set1)\n",
        "\n",
        "# Removing element from the\n",
        "# Set using the pop() method\n",
        "set1.pop()\n",
        "print(\"\\nSet after popping an element: \")\n",
        "print(set1)\n"
      ],
      "metadata": {
        "id": "5SXClSihI7SN"
      },
      "execution_count": null,
      "outputs": []
    },
    {
      "cell_type": "code",
      "source": [
        "#Creating a set\n",
        "set1 = set([1,2,3,4,5])\n",
        "print(\"\\n Initial set: \")\n",
        "print(set1)\n",
        "\n",
        "\n",
        "# Removing all the elements from\n",
        "# Set using clear() method\n",
        "set1.clear()\n",
        "print(\"\\nSet after clearing all the elements: \")\n",
        "print(set1)\n"
      ],
      "metadata": {
        "id": "CqNd9YX0LI4d"
      },
      "execution_count": null,
      "outputs": []
    },
    {
      "cell_type": "code",
      "source": [
        "# Typecasting Objects in Python3 into sets\n",
        "\n",
        "# Typecasting list into set\n",
        "my_list = [1, 2, 3, 3, 4, 5, 5, 6, 2]\n",
        "my_set = set(my_list)\n",
        "print(\"my_list as a set: \", my_set)\n",
        "\n",
        "# Typecasting string into set\n",
        "my_str = \"GeeksforGeeks\"\n",
        "my_set1 = set(my_str)\n",
        "print(\"my_str as a set: \", my_set1)\n",
        "\n",
        "# Typecasting dictionary into set\n",
        "my_dict = {1: \"One\", 2: \"Two\", 3: \"Three\"}\n",
        "my_set2 = set(my_dict)\n",
        "print(\"my_dict as a set: \", my_set2)\n",
        "\n",
        "# This code is contributed by sarajadhav12052009\n"
      ],
      "metadata": {
        "id": "kNbn0-A3LMiT"
      },
      "execution_count": null,
      "outputs": []
    },
    {
      "cell_type": "code",
      "source": [
        "def create_set():\n",
        "\tmy_set = {1, 2, 3, 4, 5}\n",
        "\tprint(my_set)\n",
        "\n",
        "def add_element():\n",
        "\tmy_set = {1, 2, 3, 4, 5}\n",
        "\tmy_set.add(6)\n",
        "\tprint(my_set)\n",
        "\n",
        "def remove_element():\n",
        "\tmy_set = {1, 2, 3, 4, 5}\n",
        "\tmy_set.remove(3)\n",
        "\tprint(my_set)\n",
        "\n",
        "def clear_set():\n",
        "\tmy_set = {1, 2, 3, 4, 5}\n",
        "\tmy_set.clear()\n",
        "\tprint(my_set)\n",
        "\n",
        "def set_union():\n",
        "\tset1 = {1, 2, 3}\n",
        "\tset2 = {4, 5, 6}\n",
        "\tmy_set = set1.union(set2)\n",
        "\tprint(my_set)\n",
        "\n",
        "def set_intersection():\n",
        "\tset1 = {1, 2, 3, 4, 5}\n",
        "\tset2 = {4, 5, 6, 7, 8}\n",
        "\tmy_set = set1.intersection(set2)\n",
        "\tprint(my_set)\n",
        "\n",
        "def set_difference():\n",
        "\tset1 = {1, 2, 3, 4, 5}\n",
        "\tset2 = {4, 5, 6, 7, 8}\n",
        "\tmy_set = set1.difference(set2)\n",
        "\tprint(my_set)\n",
        "\n",
        "def set_symmetric_difference():\n",
        "\tset1 = {1, 2, 3, 4, 5}\n",
        "\tset2 = {4, 5, 6, 7, 8}\n",
        "\tmy_set = set1.symmetric_difference(set2)\n",
        "\tprint(my_set)\n",
        "\n",
        "def set_subset():\n",
        "\tset1 = {1, 2, 3, 4, 5}\n",
        "\tset2 = {2, 3, 4}\n",
        "\tsubset = set2.issubset(set1)\n",
        "\tprint(subset)\n",
        "\n",
        "def set_superset():\n",
        "\tset1 = {1, 2, 3, 4, 5}\n",
        "\tset2 = {2, 3, 4}\n",
        "\tsuperset = set1.issuperset(set2)\n",
        "\tprint(superset)\n",
        "\n",
        "if __name__ == '__main__':\n",
        "\tcreate_set()\n",
        "\tadd_element()\n",
        "\tremove_element()\n",
        "\tclear_set()\n",
        "\tset_union()\n",
        "\tset_intersection()\n",
        "\tset_difference()\n",
        "\tset_symmetric_difference()\n",
        "\tset_subset()\n",
        "\tset_superset()\n"
      ],
      "metadata": {
        "id": "R9zMRw6xLNBV"
      },
      "execution_count": null,
      "outputs": []
    },
    {
      "cell_type": "markdown",
      "source": [
        "**05.Dictionary**:Dictionary in Python is a collection of keys values, used to store data values like a map, which, unlike other data types which hold only a single value as an element.\n",
        "\n",
        "Note – Dictionary keys are case sensitive, the same name but different cases of Key will be treated distinctly. "
      ],
      "metadata": {
        "id": "I6ZAficYLeA_"
      }
    },
    {
      "cell_type": "code",
      "source": [
        "# Creating a Dictionary\n",
        "# with Integer Keys\n",
        "Dict = {1: 'i', 2: 'am', 3: 'mp'}\n",
        "print(\"\\nDictionary with the use of Integer Keys: \")\n",
        "print(Dict)\n",
        "\n",
        "# Creating a Dictionary\n",
        "# with Mixed keys\n",
        "Dict = {'Name': 'mp', 1: [1, 2, 3, 4]}\n",
        "print(\"\\nDictionary with the use of Mixed Keys: \")\n",
        "print(Dict)\n"
      ],
      "metadata": {
        "id": "PctVEVtSLNEc"
      },
      "execution_count": null,
      "outputs": []
    },
    {
      "cell_type": "code",
      "source": [
        "# Creating an empty Dictionary\n",
        "Dict = {}\n",
        "print(\"Empty Dictionary: \")\n",
        "print(Dict)\n",
        "\n",
        "# Creating a Dictionary\n",
        "# with dict() method\n",
        "Dict = dict({1: 'my', 2: 'For', 3: 'mp'})\n",
        "print(\"\\nDictionary with the use of dict(): \")\n",
        "print(Dict)\n",
        "\n",
        "# Creating a Dictionary\n",
        "# with each item as a Pair\n",
        "Dict = dict([(1, 'mp'), (2, 'For')])\n",
        "print(\"\\nDictionary with each item as a pair: \")\n",
        "print(Dict)\n"
      ],
      "metadata": {
        "id": "o2S1RYACLNHr"
      },
      "execution_count": null,
      "outputs": []
    },
    {
      "cell_type": "markdown",
      "source": [
        "**Nested Dictionary**\n",
        "\n",
        "\n",
        "![image.png](data:image/png;base64,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)"
      ],
      "metadata": {
        "id": "aBZmnB7bMG1R"
      }
    },
    {
      "cell_type": "code",
      "source": [
        "# Creating a Nested Dictionary\n",
        "# as shown in the below image\n",
        "Dict = {1: 'mp', 2: 'For',\n",
        "\t\t3: {'A': 'Welcome', 'B': 'To', 'C': 'mp'}}\n",
        "\n",
        "print(Dict)\n"
      ],
      "metadata": {
        "id": "2w1z-3BvLNKD"
      },
      "execution_count": null,
      "outputs": []
    },
    {
      "cell_type": "code",
      "source": [
        "# Creating an empty Dictionary\n",
        "Dict = {}\n",
        "print(\"Empty Dictionary: \")\n",
        "print(Dict)\n",
        "\n",
        "# Adding elements one at a time\n",
        "Dict[0] = 'mp'\n",
        "Dict[2] = 'For'\n",
        "Dict[3] = 1\n",
        "print(\"\\nDictionary after adding 3 elements: \")\n",
        "print(Dict)\n",
        "\n",
        "# Adding set of values\n",
        "# to a single Key\n",
        "Dict['Value_set'] = 2, 3, 4\n",
        "print(\"\\nDictionary after adding 3 elements: \")\n",
        "print(Dict)\n",
        "\n",
        "# Updating existing Key's Value\n",
        "Dict[2] = 'Welcome'\n",
        "print(\"\\nUpdated key value: \")\n",
        "print(Dict)\n",
        "\n",
        "# Adding Nested Key value to Dictionary\n",
        "Dict[5] = {'Nested': {'1': 'Life', '2': 'mp'}}\n",
        "print(\"\\nAdding a Nested Key: \")\n",
        "print(Dict)\n"
      ],
      "metadata": {
        "id": "OF4oXrkCLNMs"
      },
      "execution_count": null,
      "outputs": []
    },
    {
      "cell_type": "code",
      "source": [
        "# Python program to demonstrate\n",
        "# accessing a element from a Dictionary\n",
        "\n",
        "# Creating a Dictionary\n",
        "Dict = {1: 'my', 'name': 'is', 3: 'mp'}\n",
        "\n",
        "# accessing a element using key\n",
        "print(\"Accessing a element using key:\")\n",
        "print(Dict['name'])\n",
        "\n",
        "# accessing a element using key\n",
        "print(\"Accessing a element using key:\")\n",
        "print(Dict[1])\n"
      ],
      "metadata": {
        "id": "7W50ekmALNPe"
      },
      "execution_count": null,
      "outputs": []
    },
    {
      "cell_type": "code",
      "source": [
        "# Creating a Dictionary\n",
        "Dict = {1: 'my', 'name': 'is', 3: 'mp'}\n",
        "\n",
        "# accessing a element using get()\n",
        "# method\n",
        "print(\"Accessing a element using get:\")\n",
        "print(Dict.get(3))\n"
      ],
      "metadata": {
        "id": "7jathaqLLNSe"
      },
      "execution_count": null,
      "outputs": []
    },
    {
      "cell_type": "code",
      "source": [
        "# Creating a Dictionary\n",
        "Dict = {'Dict1': {1: 'my'},\n",
        "\t\t'Dict2': {'Name': 'For'}}\n",
        "\n",
        "# Accessing element using key\n",
        "print(Dict['Dict1'])\n",
        "print(Dict['Dict1'][1])\n",
        "print(Dict['Dict2']['Name'])\n"
      ],
      "metadata": {
        "id": "odeCVBdbLNVQ"
      },
      "execution_count": null,
      "outputs": []
    },
    {
      "cell_type": "code",
      "source": [
        "# Python program to demonstrate\n",
        "# Deleting Elements using del Keyword\n",
        "\n",
        "# Creating a Dictionary\n",
        "Dict = {1: 'my', 'name': 'is', 3: 'mp'}\n",
        "\n",
        "print(\"Dictionary =\")\n",
        "print(Dict)\n",
        "#Deleting some of the Dictionar data\n",
        "del(Dict[1])\n",
        "print(\"Data after deletion Dictionary=\")\n",
        "print(Dict)\n"
      ],
      "metadata": {
        "id": "Nng1cs7uLNYS"
      },
      "execution_count": null,
      "outputs": []
    },
    {
      "cell_type": "code",
      "source": [
        "# demo for all dictionary methods\n",
        "dict1 = {1: \"Python\", 2: \"Java\", 3: \"Ruby\", 4: \"Scala\"}\n",
        "\n",
        "# copy() method\n",
        "dict2 = dict1.copy()\n",
        "print(dict2)\n",
        "\n",
        "# clear() method\n",
        "dict1.clear()\n",
        "print(dict1)\n",
        "\n",
        "# get() method\n",
        "print(dict2.get(1))\n",
        "\n",
        "# items() method\n",
        "print(dict2.items())\n",
        "\n",
        "# keys() method\n",
        "print(dict2.keys())\n",
        "\n",
        "# pop() method\n",
        "dict2.pop(4)\n",
        "print(dict2)\n",
        "\n",
        "# popitem() method\n",
        "dict2.popitem()\n",
        "print(dict2)\n",
        "\n",
        "# update() method\n",
        "dict2.update({3: \"Scala\"})\n",
        "print(dict2)\n",
        "\n",
        "# values() method\n",
        "print(dict2.values())\n"
      ],
      "metadata": {
        "id": "4FiUOhJMLNbc"
      },
      "execution_count": null,
      "outputs": []
    },
    {
      "cell_type": "markdown",
      "source": [
        "**06.Arrays**: An array is a collection of items stored at contiguous memory locations. The idea is to store multiple items of the same type together. This makes it easier to calculate the position of each element by simply adding an offset to a base value, i.e., the memory location of the first element of the array (generally denoted by the name of the array).\n",
        "\n",
        "![image.png](data:image/png;base64,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)"
      ],
      "metadata": {
        "id": "7B2iY72UNCIh"
      }
    },
    {
      "cell_type": "code",
      "source": [
        "# Python program to demonstrate\n",
        "# Creation of Array\n",
        "\n",
        "# importing \"array\" for array creations\n",
        "import array as arr\n",
        "\n",
        "# creating an array with integer type\n",
        "a = arr.array('i', [1, 2, 3])\n",
        "\n",
        "# printing original array\n",
        "print(\"The new created array is : \", end=\" \")\n",
        "for i in range(0, 3):\n",
        "\tprint(a[i], end=\" \")\n",
        "print()\n",
        "\n",
        "# creating an array with double type\n",
        "b = arr.array('d', [2.5, 3.2, 3.3])\n",
        "\n",
        "# printing original array\n",
        "print(\"\\nThe new created array is : \", end=\" \")\n",
        "for i in range(0, 3):\n",
        "\tprint(b[i], end=\" \")\n"
      ],
      "metadata": {
        "id": "ihMwgNvEMhuv"
      },
      "execution_count": null,
      "outputs": []
    },
    {
      "cell_type": "code",
      "source": [
        "# Python program to demonstrate\n",
        "# Adding Elements to a Array\n",
        "\n",
        "# importing \"array\" for array creations\n",
        "import array as arr\n",
        "\n",
        "# array with int type\n",
        "a = arr.array('i', [1, 2, 3])\n",
        "\n",
        "\n",
        "print(\"Array before insertion : \", end=\" \")\n",
        "for i in range(0, 3):\n",
        "\tprint(a[i], end=\" \")\n",
        "print()\n",
        "\n",
        "# inserting array using\n",
        "# insert() function\n",
        "a.insert(1, 4)\n",
        "\n",
        "print(\"Array after insertion : \", end=\" \")\n",
        "for i in (a):\n",
        "\tprint(i, end=\" \")\n",
        "print()\n",
        "\n",
        "# array with float type\n",
        "b = arr.array('d', [2.5, 3.2, 3.3])\n",
        "\n",
        "print(\"Array before insertion : \", end=\" \")\n",
        "for i in range(0, 3):\n",
        "\tprint(b[i], end=\" \")\n",
        "print()\n",
        "\n",
        "# adding an element using append()\n",
        "b.append(4.4)\n",
        "\n",
        "print(\"Array after insertion : \", end=\" \")\n",
        "for i in (b):\n",
        "\tprint(i, end=\" \")\n",
        "print()\n"
      ],
      "metadata": {
        "id": "Hj5gE0wCMi2H"
      },
      "execution_count": null,
      "outputs": []
    },
    {
      "cell_type": "code",
      "source": [
        "# Python program to demonstrate\n",
        "# accessing of element from list\n",
        "\n",
        "# importing array module\n",
        "import array as arr\n",
        "\n",
        "# array with int type\n",
        "a = arr.array('i', [1, 2, 3, 4, 5, 6])\n",
        "\n",
        "# accessing element of array\n",
        "print(\"Access element is: \", a[0])\n",
        "\n",
        "# accessing element of array\n",
        "print(\"Access element is: \", a[3])\n",
        "\n",
        "# array with float type\n",
        "b = arr.array('d', [2.5, 3.2, 3.3])\n",
        "\n",
        "# accessing element of array\n",
        "print(\"Access element is: \", b[1])\n",
        "\n",
        "# accessing element of array\n",
        "print(\"Access element is: \", b[2])\n"
      ],
      "metadata": {
        "id": "TK-DMDIIMi5B"
      },
      "execution_count": null,
      "outputs": []
    },
    {
      "cell_type": "code",
      "source": [
        "# Python program to demonstrate\n",
        "# Removal of elements in a Array\n",
        "\n",
        "# importing \"array\" for array operations\n",
        "import array\n",
        "\n",
        "# initializing array with array values\n",
        "# initializes array with signed integers\n",
        "arr = array.array('i', [1, 2, 3, 1, 5])\n",
        "\n",
        "# printing original array\n",
        "print(\"The new created array is : \", end=\"\")\n",
        "for i in range(0, 5):\n",
        "\tprint(arr[i], end=\" \")\n",
        "\n",
        "print(\"\\r\")\n",
        "\n",
        "# using pop() to remove element at 2nd position\n",
        "print(\"The popped element is : \", end=\"\")\n",
        "print(arr.pop(2))\n",
        "\n",
        "# printing array after popping\n",
        "print(\"The array after popping is : \", end=\"\")\n",
        "for i in range(0, 4):\n",
        "\tprint(arr[i], end=\" \")\n",
        "\n",
        "print(\"\\r\")\n",
        "\n",
        "# using remove() to remove 1st occurrence of 1\n",
        "arr.remove(1)\n",
        "\n",
        "# printing array after removing\n",
        "print(\"The array after removing is : \", end=\"\")\n",
        "for i in range(0, 3):\n",
        "\tprint(arr[i], end=\" \")\n"
      ],
      "metadata": {
        "id": "SYzhScqmMi71"
      },
      "execution_count": null,
      "outputs": []
    },
    {
      "cell_type": "code",
      "source": [
        "# Python program to demonstrate\n",
        "# slicing of elements in a Array\n",
        "\n",
        "# importing array module\n",
        "import array as arr\n",
        "\n",
        "# creating a list\n",
        "l = [1, 2, 3, 4, 5, 6, 7, 8, 9, 10]\n",
        "\n",
        "a = arr.array('i', l)\n",
        "print(\"Initial Array: \")\n",
        "for i in (a):\n",
        "\tprint(i, end=\" \")\n",
        "\n",
        "# Print elements of a range\n",
        "# using Slice operation\n",
        "Sliced_array = a[3:8]\n",
        "print(\"\\nSlicing elements in a range 3-8: \")\n",
        "print(Sliced_array)\n",
        "\n",
        "# Print elements from a\n",
        "# pre-defined point to end\n",
        "Sliced_array = a[5:]\n",
        "print(\"\\nElements sliced from 5th \"\n",
        "\t\"element till the end: \")\n",
        "print(Sliced_array)\n",
        "\n",
        "# Printing elements from\n",
        "# beginning till end\n",
        "Sliced_array = a[:]\n",
        "print(\"\\nPrinting all elements using slice operation: \")\n",
        "print(Sliced_array)\n"
      ],
      "metadata": {
        "id": "4wr0BK9HMi-t"
      },
      "execution_count": null,
      "outputs": []
    },
    {
      "cell_type": "code",
      "source": [
        "# Python code to demonstrate\n",
        "# searching an element in array\n",
        "\n",
        "\n",
        "# importing array module\n",
        "import array\n",
        "\n",
        "# initializing array with array values\n",
        "# initializes array with signed integers\n",
        "arr = array.array('i', [1, 2, 3, 1, 2, 5])\n",
        "\n",
        "# printing original array\n",
        "print(\"The new created array is : \", end=\"\")\n",
        "for i in range(0, 6):\n",
        "\tprint(arr[i], end=\" \")\n",
        "\n",
        "print(\"\\r\")\n",
        "\n",
        "# using index() to print index of 1st occurrence of 2\n",
        "print(\"The index of 1st occurrence of 2 is : \", end=\"\")\n",
        "print(arr.index(2))\n",
        "\n",
        "# using index() to print index of 1st occurrence of 1\n",
        "print(\"The index of 1st occurrence of 1 is : \", end=\"\")\n",
        "print(arr.index(1))\n"
      ],
      "metadata": {
        "id": "r4dz7BCiMjBL"
      },
      "execution_count": null,
      "outputs": []
    },
    {
      "cell_type": "code",
      "source": [
        "# Python code to demonstrate\n",
        "# how to update an element in array\n",
        "\n",
        "# importing array module\n",
        "import array\n",
        "\n",
        "# initializing array with array values\n",
        "# initializes array with signed integers\n",
        "arr = array.array('i', [1, 2, 3, 1, 2, 5])\n",
        "\n",
        "# printing original array\n",
        "print(\"Array before updation : \", end=\"\")\n",
        "for i in range(0, 6):\n",
        "\tprint(arr[i], end=\" \")\n",
        "\n",
        "print(\"\\r\")\n",
        "\n",
        "# updating a element in a array\n",
        "arr[2] = 6\n",
        "print(\"Array after updation : \", end=\"\")\n",
        "for i in range(0, 6):\n",
        "\tprint(arr[i], end=\" \")\n",
        "print()\n",
        "\n",
        "# updating a element in a array\n",
        "arr[4] = 8\n",
        "print(\"Array after updation : \", end=\"\")\n",
        "for i in range(0, 6):\n",
        "\tprint(arr[i], end=\" \")\n"
      ],
      "metadata": {
        "id": "8tr5n8kSNz0y"
      },
      "execution_count": null,
      "outputs": []
    },
    {
      "cell_type": "code",
      "source": [
        "import array\n",
        "\n",
        "# Create an array of integers\n",
        "my_array = array.array('i', [1, 2, 3, 4, 2, 5, 2])\n",
        "\n",
        "# Count the number of occurrences of the element 2 in the array\n",
        "count = my_array.count(2)\n",
        "\n",
        "# Print the result\n",
        "print(\"Number of occurrences of 2:\", count)\n"
      ],
      "metadata": {
        "id": "RZhbU4MnNz3z"
      },
      "execution_count": null,
      "outputs": []
    },
    {
      "cell_type": "code",
      "source": [
        "import array\n",
        "\n",
        "# Create an array of integers\n",
        "my_array = array.array('i', [1, 2, 3, 4, 5])\n",
        "\n",
        "# Print the original array\n",
        "print(\"Original array:\", *my_array)\n",
        "\n",
        "# Reverse the array in place\n",
        "my_array.reverse()\n",
        "\n",
        "# Print the reversed array\n",
        "print(\"Reversed array:\", *my_array)\n"
      ],
      "metadata": {
        "id": "fS3bhfz_Nz65"
      },
      "execution_count": null,
      "outputs": []
    },
    {
      "cell_type": "code",
      "source": [
        "#Python program to demonstrate\n",
        "\n",
        "# Adding Elements to a Array\n",
        "\n",
        "# importing \"array\" for array creations\n",
        "\n",
        "import array as arr\n",
        "\n",
        "# array with int type\n",
        "\n",
        "a = arr.array('i', [1, 2, 3,4,5])\n",
        "\n",
        "#printing original array\n",
        "\n",
        "print(\"The before array extend : \", end =\" \")\n",
        "\n",
        "for i in range (0, 5):\n",
        "\n",
        "\tprint (a[i], end =\" \")\n",
        "\t\n",
        "print()\n",
        "\n",
        "#creating an array with using extend method\n",
        "\n",
        "a.extend([6,7,8,9,10])\n",
        "\n",
        "#printing original array\n",
        "\n",
        "print(\"\\nThe array after extend :\",end=\" \")\n",
        "\n",
        "for i in range(0,10):\n",
        "\n",
        "\tprint(a[i],end=\" \")\n",
        "\t\n",
        "print()\n"
      ],
      "metadata": {
        "id": "Bj3FQezzNz9e"
      },
      "execution_count": null,
      "outputs": []
    },
    {
      "cell_type": "code",
      "source": [],
      "metadata": {
        "id": "iaUAT4d1N0Do"
      },
      "execution_count": null,
      "outputs": []
    },
    {
      "cell_type": "code",
      "source": [],
      "metadata": {
        "id": "yfflK6gsMjEE"
      },
      "execution_count": null,
      "outputs": []
    },
    {
      "cell_type": "code",
      "source": [],
      "metadata": {
        "id": "imvEfaVoMjHk"
      },
      "execution_count": null,
      "outputs": []
    }
  ]
}