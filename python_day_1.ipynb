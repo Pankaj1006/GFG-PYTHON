{
  "nbformat": 4,
  "nbformat_minor": 0,
  "metadata": {
    "colab": {
      "provenance": []
    },
    "kernelspec": {
      "name": "python3",
      "display_name": "Python 3"
    },
    "language_info": {
      "name": "python"
    }
  },
  "cells": [
    {
      "cell_type": "code",
      "execution_count": null,
      "metadata": {
        "colab": {
          "base_uri": "https://localhost:8080/"
        },
        "id": "qEiYcMIKjPtk",
        "outputId": "cdfe43df-5ed2-48ce-a524-3ed737b72e9c"
      },
      "outputs": [
        {
          "output_type": "stream",
          "name": "stdout",
          "text": [
            "Hello world !!\n"
          ]
        }
      ],
      "source": [
        "print('Hello world !!')"
      ]
    },
    {
      "cell_type": "code",
      "source": [
        "# creates a empty list\n",
        "nums = [] \n",
        "  \n",
        "# appending data in list\n",
        "nums.append(21)\n",
        "nums.append(40.5)\n",
        "nums.append(\"String\")\n",
        "  \n",
        "print(nums)"
      ],
      "metadata": {
        "colab": {
          "base_uri": "https://localhost:8080/"
        },
        "id": "C3wHeuIRjU9v",
        "outputId": "b1f3d835-c87f-466f-9e3d-8d1f7226134a"
      },
      "execution_count": null,
      "outputs": [
        {
          "output_type": "stream",
          "name": "stdout",
          "text": [
            "[21, 40.5, 'String']\n"
          ]
        }
      ]
    },
    {
      "cell_type": "code",
      "source": [
        "myNumber = 3\n",
        "print(myNumber)\n",
        "  \n",
        "myNumber2 = 4.5\n",
        "print(myNumber2)\n",
        "  \n",
        "myNumber =\"helloworld\"\n",
        "print(myNumber)"
      ],
      "metadata": {
        "colab": {
          "base_uri": "https://localhost:8080/"
        },
        "id": "sM2Hnh2MmOu5",
        "outputId": "f07d4dac-dfb4-4f49-95c6-f5da05426fb0"
      },
      "execution_count": null,
      "outputs": [
        {
          "output_type": "stream",
          "name": "stdout",
          "text": [
            "3\n",
            "4.5\n",
            "helloworld\n"
          ]
        }
      ]
    },
    {
      "cell_type": "code",
      "source": [
        "# getting input from user\n",
        "name = input(\"Enter your name: \") \n",
        "  \n",
        "# user entered the name 'harssh'\n",
        "print(\"hello\", name)"
      ],
      "metadata": {
        "colab": {
          "base_uri": "https://localhost:8080/"
        },
        "id": "rQMNSSLAmWZN",
        "outputId": "89a1aeba-4b46-41e6-e635-7546cfb3f8bb"
      },
      "execution_count": null,
      "outputs": [
        {
          "output_type": "stream",
          "name": "stdout",
          "text": [
            "Enter your name: mp\n",
            "hello mp\n"
          ]
        }
      ]
    },
    {
      "cell_type": "code",
      "source": [
        "# accepting integer from the user\n",
        "# the return type of input() function is string ,\n",
        "# so we need to convert the input to integer\n",
        "num1 = int(input(\"Enter num1: \"))\n",
        "num2 = int(input(\"Enter num2: \"))\n",
        "  \n",
        "num3 = num1 * num2\n",
        "print(\"Product is: \", num3)"
      ],
      "metadata": {
        "colab": {
          "base_uri": "https://localhost:8080/"
        },
        "id": "BpjW4WYDmnvI",
        "outputId": "5492e35c-c10e-496e-e394-262875aec73f"
      },
      "execution_count": null,
      "outputs": [
        {
          "output_type": "stream",
          "name": "stdout",
          "text": [
            "Enter num1: 10\n",
            "Enter num2: 20\n",
            "Product is:  200\n"
          ]
        }
      ]
    },
    {
      "cell_type": "code",
      "source": [
        "# Python program to illustrate\n",
        "# selection statement\n",
        "\n",
        "num1 = 34\n",
        "if(num1>12):\n",
        "\tprint(\"Num1 is good\")\n",
        "elif(num1>35):\n",
        "\tprint(\"Num2 is not gooooo....\")\n",
        "else:\n",
        "\tprint(\"Num2 is great\")\n"
      ],
      "metadata": {
        "colab": {
          "base_uri": "https://localhost:8080/"
        },
        "id": "4snTyz_hmoMU",
        "outputId": "c32202ff-709a-4683-c9c1-e836a1a85645"
      },
      "execution_count": null,
      "outputs": [
        {
          "output_type": "stream",
          "name": "stdout",
          "text": [
            "Num1 is good\n"
          ]
        }
      ]
    },
    {
      "cell_type": "code",
      "source": [
        "# Python program to illustrate\n",
        "# functions\n",
        "def hello():\n",
        "\tprint(\"hello\")\n",
        "\tprint(\"hello again\")\n",
        "hello()\n",
        "\n",
        "# calling function\n",
        "hello()\t\t\t\n"
      ],
      "metadata": {
        "colab": {
          "base_uri": "https://localhost:8080/"
        },
        "id": "2SVow0wWmoPS",
        "outputId": "a29fdd63-e48e-48b8-c5c0-7de3fa7109a0"
      },
      "execution_count": null,
      "outputs": [
        {
          "output_type": "stream",
          "name": "stdout",
          "text": [
            "hello\n",
            "hello again\n",
            "hello\n",
            "hello again\n"
          ]
        }
      ]
    },
    {
      "cell_type": "code",
      "source": [
        "# function with main\n",
        "def getInteger():\n",
        "\tresult = int(input(\"Enter integer: \"))\n",
        "\treturn result\n",
        "\n",
        "def Main():\n",
        "\tprint(\"Started\")\n",
        "\n",
        "\t# calling the getInteger function and\n",
        "\t# storing its returned value in the output variable\n",
        "\toutput = getInteger()\t\n",
        "\tprint(output)\n",
        "\n",
        "# now we are required to tell Python\n",
        "# for 'Main' function existence\n",
        "if __name__==\"__main__\":\n",
        "\tMain()\n"
      ],
      "metadata": {
        "colab": {
          "base_uri": "https://localhost:8080/"
        },
        "id": "fBJtFNtlmoR_",
        "outputId": "4e084d65-764d-466b-9058-7f244a83147f"
      },
      "execution_count": null,
      "outputs": [
        {
          "output_type": "stream",
          "name": "stdout",
          "text": [
            "Started\n",
            "Enter integer: 100\n",
            "100\n"
          ]
        }
      ]
    },
    {
      "cell_type": "markdown",
      "source": [
        "Python Keywords[33]:"
      ],
      "metadata": {
        "id": "Lyl_O_-jzLcG"
      }
    },
    {
      "cell_type": "code",
      "source": [
        "# importing \"keyword\" for keyword operations\n",
        "import keyword\n",
        " \n",
        "# printing all keywords at once using \"kwlist()\"\n",
        "print(\"The list of keywords is : \")\n",
        "print(keyword.kwlist)"
      ],
      "metadata": {
        "colab": {
          "base_uri": "https://localhost:8080/"
        },
        "id": "klgoOIZlmoUt",
        "outputId": "4e916722-973c-4dee-e822-6e745e235814"
      },
      "execution_count": null,
      "outputs": [
        {
          "output_type": "stream",
          "name": "stdout",
          "text": [
            "The list of keywords is : \n",
            "['False', 'None', 'True', 'and', 'as', 'assert', 'async', 'await', 'break', 'class', 'continue', 'def', 'del', 'elif', 'else', 'except', 'finally', 'for', 'from', 'global', 'if', 'import', 'in', 'is', 'lambda', 'nonlocal', 'not', 'or', 'pass', 'raise', 'return', 'try', 'while', 'with', 'yield']\n"
          ]
        }
      ]
    },
    {
      "cell_type": "code",
      "source": [
        "#keywords \n",
        "#False True and none\n",
        "\n",
        "print(False == 0)\n",
        "print(True == 1)\n",
        " \n",
        "print(True + True + True)\n",
        "print(True + False + False)\n",
        " \n",
        "print(None == 0)\n",
        "print(None == [])"
      ],
      "metadata": {
        "colab": {
          "base_uri": "https://localhost:8080/"
        },
        "id": "RUWxn3XtmoXx",
        "outputId": "ece132ec-2ba1-4325-8ea2-c3aadb0427b2"
      },
      "execution_count": null,
      "outputs": [
        {
          "output_type": "stream",
          "name": "stdout",
          "text": [
            "True\n",
            "True\n",
            "3\n",
            "1\n",
            "False\n",
            "False\n"
          ]
        }
      ]
    },
    {
      "cell_type": "code",
      "source": [
        "#keywords\n",
        "#and or not in is\n",
        "# showing logical operation\n",
        "# or (returns True)\n",
        "print(True or False)\n",
        "\n",
        "# showing logical operation\n",
        "# and (returns False)\n",
        "print(False and True)\n",
        "\n",
        "# showing logical operation\n",
        "# not (returns False)\n",
        "print(not True)\n",
        "\n",
        "# using \"in\" to check\n",
        "if 's' in 'mahendra':\n",
        "\tprint(\"s is part of mahendra\")\n",
        "else:\n",
        "\tprint(\"s is not part of mahendra\")\n",
        "\n",
        "# using \"in\" to loop through\n",
        "for i in 'mahendra':\n",
        "\tprint(i, end=\" \")\n",
        "\n",
        "print(\"\\r\")\n",
        "\n",
        "# using is to check object identity\n",
        "# string is immutable( cannot be changed once allocated)\n",
        "# hence occupy same memory location\n",
        "print(' ' is ' ')\n",
        "\n",
        "# using is to check object identity\n",
        "# dictionary is mutable( can be changed once allocated)\n",
        "# hence occupy different memory location\n",
        "print({} is {})\n"
      ],
      "metadata": {
        "colab": {
          "base_uri": "https://localhost:8080/"
        },
        "id": "j0WLzJqQmoah",
        "outputId": "3f3d711a-d896-49c7-b001-9cdaab7d4a9d"
      },
      "execution_count": null,
      "outputs": [
        {
          "output_type": "stream",
          "name": "stdout",
          "text": [
            "True\n",
            "False\n",
            "False\n",
            "s is not part of mahendra\n",
            "m a h e n d r a \r\n",
            "True\n",
            "False\n"
          ]
        },
        {
          "output_type": "stream",
          "name": "stderr",
          "text": [
            "<>:30: SyntaxWarning: \"is\" with a literal. Did you mean \"==\"?\n",
            "<>:30: SyntaxWarning: \"is\" with a literal. Did you mean \"==\"?\n",
            "<ipython-input-12-ce1daa1763b7>:30: SyntaxWarning: \"is\" with a literal. Did you mean \"==\"?\n",
            "  print(' ' is ' ')\n"
          ]
        }
      ]
    },
    {
      "cell_type": "code",
      "source": [
        "#Iteration Keywords – for, while, break, continue\n",
        "\"\"\"for: This keyword is used to control flow and for looping.\n",
        "while: Has a similar working like “for”, used to control flow and for looping.\n",
        "break: “break” is used to control the flow of the loop. The statement is used to break out of the loop and passes the control to the statement following immediately after loop.\n",
        "continue: “continue” is also used to control the flow of code. The keyword skips the current iteration of the loop but does not end the loop.\"\"\"\n",
        "# Using for loop\n",
        "for i in range(10):\n",
        "\n",
        "\tprint(i, end=\" \")\n",
        "\n",
        "\t# break the loop as soon it sees 6\n",
        "\tif i == 6:\n",
        "\t\tbreak\n",
        "\n",
        "print()\n",
        "\n",
        "# loop from 1 to 10\n",
        "i = 0\n",
        "while i < 10:\n",
        "\n",
        "\t# If i is equals to 6,\n",
        "\t# continue to next iteration\n",
        "\t# without printing\n",
        "\tif i == 6:\n",
        "\t\ti += 1\n",
        "\t\tcontinue\n",
        "\telse:\n",
        "\t\t# otherwise print the value\n",
        "\t\t# of i\n",
        "\t\tprint(i, end=\" \")\n",
        "\n",
        "\ti += 1\n"
      ],
      "metadata": {
        "colab": {
          "base_uri": "https://localhost:8080/"
        },
        "id": "-LW720zImodQ",
        "outputId": "38507f1c-e5ba-4030-efcc-7b091f4d386d"
      },
      "execution_count": null,
      "outputs": [
        {
          "output_type": "stream",
          "name": "stdout",
          "text": [
            "0 1 2 3 4 5 6 \n",
            "0 1 2 3 4 5 7 8 9 "
          ]
        }
      ]
    },
    {
      "cell_type": "code",
      "source": [
        "#Conditional keywords – if, else, elif\n",
        "'''if : It is a control statement for decision making. Truth expression forces control to go in “if” statement block.\n",
        "else : It is a control statement for decision making. False expression forces control to go in “else” statement block.\n",
        "elif : It is a control statement for decision making. It is short for “else if“'''\n",
        "# Python program to illustrate if-elif-else ladder\n",
        "#!/usr/bin/python\n",
        "\n",
        "i = 20\n",
        "if (i == 10):\n",
        "\tprint(\"i is 10\")\n",
        "elif (i == 20):\n",
        "\tprint(\"i is 20\")\n",
        "else:\n",
        "\tprint(\"i is not present\")\n"
      ],
      "metadata": {
        "colab": {
          "base_uri": "https://localhost:8080/"
        },
        "id": "_1dPS2z4u4_s",
        "outputId": "7be42e58-3695-4d6d-eaf3-1f3750abd5fc"
      },
      "execution_count": null,
      "outputs": [
        {
          "output_type": "stream",
          "name": "stdout",
          "text": [
            "i is 20\n"
          ]
        }
      ]
    },
    {
      "cell_type": "code",
      "source": [
        "#def\n",
        "#def keyword is used to declare user defined functions.\n",
        "# def keyword\n",
        "def fun():\n",
        "\tprint(\"Inside Function\")\n",
        "\n",
        "\n",
        "fun()\n"
      ],
      "metadata": {
        "colab": {
          "base_uri": "https://localhost:8080/"
        },
        "id": "PEpcsIzku5Dp",
        "outputId": "5a32cba6-2800-4587-d93c-5dd0089366d7"
      },
      "execution_count": null,
      "outputs": [
        {
          "output_type": "stream",
          "name": "stdout",
          "text": [
            "Inside Function\n"
          ]
        }
      ]
    },
    {
      "cell_type": "code",
      "source": [
        "#Return Keywords – Return, Yield\n",
        "'''return : This keyword is used to return from the function.\n",
        "yield : This keyword is used like return statement but is used to return a generator.'''\n",
        "# Return keyword\n",
        "def fun():\n",
        "\tS = 0\n",
        "\n",
        "\tfor i in range(10):\n",
        "\t\tS += i\n",
        "\treturn S\n",
        "\n",
        "\n",
        "print(fun())\n",
        "\n",
        "# Yield Keyword\n",
        "\n",
        "\n",
        "def fun():\n",
        "\tS = 0\n",
        "\n",
        "\tfor i in range(10):\n",
        "\t\tS += i\n",
        "\t\tyield S\n",
        "\n",
        "\n",
        "for i in fun():\n",
        "\tprint(i)\n"
      ],
      "metadata": {
        "colab": {
          "base_uri": "https://localhost:8080/"
        },
        "id": "G3BbMoi_u5Hk",
        "outputId": "c0887966-6535-49df-bdc2-ac708ab5ad95"
      },
      "execution_count": null,
      "outputs": [
        {
          "output_type": "stream",
          "name": "stdout",
          "text": [
            "45\n",
            "0\n",
            "1\n",
            "3\n",
            "6\n",
            "10\n",
            "15\n",
            "21\n",
            "28\n",
            "36\n",
            "45\n"
          ]
        }
      ]
    },
    {
      "cell_type": "code",
      "source": [
        "#class\n",
        "#class keyword is used to declare user defined classes.\n",
        "# Python3 program to\n",
        "# demonstrate instantiating\n",
        "# a class\n",
        "\n",
        "\n",
        "class Dog:\n",
        "\n",
        "\t# A simple class\n",
        "\t# attribute\n",
        "\tattr1 = \"mammal\"\n",
        "\tattr2 = \"dog\"\n",
        "\n",
        "\t# A sample method\n",
        "\tdef fun(self):\n",
        "\t\tprint(\"I'm a\", self.attr1)\n",
        "\t\tprint(\"I'm a\", self.attr2)\n",
        "\n",
        "\n",
        "# Driver code\n",
        "# Object instantiation\n",
        "Rodger = Dog()\n",
        "\n",
        "# Accessing class attributes\n",
        "# and method through objects\n",
        "print(Rodger.attr1)\n",
        "Rodger.fun()\n"
      ],
      "metadata": {
        "colab": {
          "base_uri": "https://localhost:8080/"
        },
        "id": "s-8OMYzgu5Nv",
        "outputId": "64b9a00a-9568-4dbc-f880-0358661d2ea7"
      },
      "execution_count": null,
      "outputs": [
        {
          "output_type": "stream",
          "name": "stdout",
          "text": [
            "mammal\n",
            "I'm a mammal\n",
            "I'm a dog\n"
          ]
        }
      ]
    },
    {
      "cell_type": "code",
      "source": [
        "#With\n",
        "#with keyword is used to wrap the execution of block of code within methods defined by context manager. This keyword is not used much in day to day programming.\n",
        "# using with statement\n",
        "with open('file_path', 'w') as file:\n",
        "\tfile.write('hello world !')\n"
      ],
      "metadata": {
        "id": "tJp7i2y9mogM"
      },
      "execution_count": null,
      "outputs": []
    },
    {
      "cell_type": "code",
      "source": [
        "#as\n",
        "#as keyword is used to create the alias for the module imported. i.e giving a new name to the imported module. E.g import math as mymath.\n",
        "import math as my\n",
        "\n",
        "print(my.factorial(5))\n"
      ],
      "metadata": {
        "colab": {
          "base_uri": "https://localhost:8080/"
        },
        "id": "BP4EopHDw4Iq",
        "outputId": "fcdbe9a5-9128-42d3-f66e-e29d5b9b6588"
      },
      "execution_count": null,
      "outputs": [
        {
          "output_type": "stream",
          "name": "stdout",
          "text": [
            "120\n"
          ]
        }
      ]
    },
    {
      "cell_type": "code",
      "source": [
        "#pass\n",
        "#pass is the null statement in python. Nothing happens when this is encountered. This is used to prevent indentation errors and used as a placeholder.\n",
        "n = 10\n",
        "for i in range(n):\n",
        "\n",
        "\t# pass can be used as placeholder\n",
        "\t# when code is to added later\n",
        "\tpass\n"
      ],
      "metadata": {
        "id": "TzMrz0hhw4Lj"
      },
      "execution_count": null,
      "outputs": []
    },
    {
      "cell_type": "code",
      "source": [
        "#Lambda\n",
        "#Lambda keyword is used to make inline returning functions with no statements allowed internally.\n",
        "# Lambda keyword\n",
        "g = lambda x: x*x*x\n",
        "\n",
        "print(g(4))\n"
      ],
      "metadata": {
        "colab": {
          "base_uri": "https://localhost:8080/"
        },
        "id": "zbwt-0l5w4Oi",
        "outputId": "d2ceb647-bc81-498f-f9ee-5eeea7131cb7"
      },
      "execution_count": null,
      "outputs": [
        {
          "output_type": "stream",
          "name": "stdout",
          "text": [
            "64\n"
          ]
        }
      ]
    },
    {
      "cell_type": "code",
      "source": [
        "#Import, From\n",
        "'''import : This statement is used to include a particular module into current program.\n",
        "from : Generally used with import, from is used to import particular functionality from the module imported.'''\n",
        "# import keyword\n",
        "from math import factorial\n",
        "import math\n",
        "print(math.factorial(10))\n",
        "\n",
        "# from keyword\n",
        "print(factorial(10))\n"
      ],
      "metadata": {
        "colab": {
          "base_uri": "https://localhost:8080/"
        },
        "id": "AWhIstO7w4Rl",
        "outputId": "f4a98eb6-82ff-4183-e103-fbbe244a7e88"
      },
      "execution_count": null,
      "outputs": [
        {
          "output_type": "stream",
          "name": "stdout",
          "text": [
            "3628800\n",
            "3628800\n"
          ]
        }
      ]
    },
    {
      "cell_type": "code",
      "source": [
        "#Exception Handling Keywords – try, except, raise, finally, and assert\n",
        "'''try : This keyword is used for exception handling, used to catch the errors in the code using the keyword except. Code in “try” block is checked, if there is any type of error, except block is executed.\n",
        "except : As explained above, this works together with “try” to catch exceptions.\n",
        "finally : No matter what is result of the “try” block, block termed “finally” is always executed.\n",
        "raise: We can raise an exception explicitly with the raise keyword\n",
        "assert: This function is used for debugging purposes. Usually used to check the correctness of code. If a statement is evaluated to be true, nothing happens, but when it is false, “AssertionError” is raised. One can also print a message with the error, separated by a comma.'''\n",
        "# initializing number\n",
        "a = 4\n",
        "b = 0\n",
        "\n",
        "# No exception Exception raised in try block\n",
        "try:\n",
        "\tk = a//b # raises divide by zero exception.\n",
        "\tprint(k)\n",
        "\n",
        "# handles zerodivision exception\n",
        "except ZeroDivisionError:\n",
        "\tprint(\"Can't divide by zero\")\n",
        "\n",
        "finally:\n",
        "\t# this block is always executed\n",
        "\t# regardless of exception generation.\n",
        "\tprint('This is always executed')\n",
        "\n",
        "# assert Keyword\n",
        "# using assert to check for 0\n",
        "print(\"The value of a / b is : \")\n",
        "assert b != 0, \"Divide by 0 error\"\n",
        "print(a / b)\n",
        "\n",
        "# raise keyword\n",
        "# Raises an user defined exception\n",
        "# if strings are not equal\n",
        "temp = \"geeks for geeks\"\n",
        "if temp != \"geeks\":\n",
        "\traise TypeError(\"Both the strings are different.\")\n"
      ],
      "metadata": {
        "colab": {
          "base_uri": "https://localhost:8080/",
          "height": 287
        },
        "id": "-nKAaPOhw4Ut",
        "outputId": "f7cf0492-3373-44e1-a1da-831d97d69b66"
      },
      "execution_count": null,
      "outputs": [
        {
          "output_type": "stream",
          "name": "stdout",
          "text": [
            "Can't divide by zero\n",
            "This is always executed\n",
            "The value of a / b is : \n"
          ]
        },
        {
          "output_type": "error",
          "ename": "AssertionError",
          "evalue": "ignored",
          "traceback": [
            "\u001b[0;31m---------------------------------------------------------------------------\u001b[0m",
            "\u001b[0;31mAssertionError\u001b[0m                            Traceback (most recent call last)",
            "\u001b[0;32m<ipython-input-26-d521bc97edcd>\u001b[0m in \u001b[0;36m<cell line: 28>\u001b[0;34m()\u001b[0m\n\u001b[1;32m     26\u001b[0m \u001b[0;31m# using assert to check for 0\u001b[0m\u001b[0;34m\u001b[0m\u001b[0;34m\u001b[0m\u001b[0m\n\u001b[1;32m     27\u001b[0m \u001b[0mprint\u001b[0m\u001b[0;34m(\u001b[0m\u001b[0;34m\"The value of a / b is : \"\u001b[0m\u001b[0;34m)\u001b[0m\u001b[0;34m\u001b[0m\u001b[0;34m\u001b[0m\u001b[0m\n\u001b[0;32m---> 28\u001b[0;31m \u001b[0;32massert\u001b[0m \u001b[0mb\u001b[0m \u001b[0;34m!=\u001b[0m \u001b[0;36m0\u001b[0m\u001b[0;34m,\u001b[0m \u001b[0;34m\"Divide by 0 error\"\u001b[0m\u001b[0;34m\u001b[0m\u001b[0;34m\u001b[0m\u001b[0m\n\u001b[0m\u001b[1;32m     29\u001b[0m \u001b[0mprint\u001b[0m\u001b[0;34m(\u001b[0m\u001b[0ma\u001b[0m \u001b[0;34m/\u001b[0m \u001b[0mb\u001b[0m\u001b[0;34m)\u001b[0m\u001b[0;34m\u001b[0m\u001b[0;34m\u001b[0m\u001b[0m\n\u001b[1;32m     30\u001b[0m \u001b[0;34m\u001b[0m\u001b[0m\n",
            "\u001b[0;31mAssertionError\u001b[0m: Divide by 0 error"
          ]
        }
      ]
    },
    {
      "cell_type": "code",
      "source": [
        "#del\n",
        "#del is used to delete a reference to an object. Any variable or list value can be deleted using del.\n",
        "my_variable1 = 20\n",
        "my_variable2 = \"mahendra\"\n",
        "\n",
        "# check if my_variable1 and my_variable2 exists\n",
        "print(my_variable1)\n",
        "print(my_variable2)\n",
        "\n",
        "# delete both the variables\n",
        "del my_variable1\n",
        "del my_variable2\n",
        "\n",
        "# check if my_variable1 and my_variable2 exists\n",
        "print(my_variable1)\n",
        "print(my_variable2)\n"
      ],
      "metadata": {
        "colab": {
          "base_uri": "https://localhost:8080/",
          "height": 252
        },
        "id": "HEngjkEjzGBj",
        "outputId": "894f006b-c88d-4c76-c184-03847174f07c"
      },
      "execution_count": null,
      "outputs": [
        {
          "output_type": "stream",
          "name": "stdout",
          "text": [
            "20\n",
            "mahendra\n"
          ]
        },
        {
          "output_type": "error",
          "ename": "NameError",
          "evalue": "ignored",
          "traceback": [
            "\u001b[0;31m---------------------------------------------------------------------------\u001b[0m",
            "\u001b[0;31mNameError\u001b[0m                                 Traceback (most recent call last)",
            "\u001b[0;32m<ipython-input-28-b3b7b4a32ace>\u001b[0m in \u001b[0;36m<cell line: 15>\u001b[0;34m()\u001b[0m\n\u001b[1;32m     13\u001b[0m \u001b[0;34m\u001b[0m\u001b[0m\n\u001b[1;32m     14\u001b[0m \u001b[0;31m# check if my_variable1 and my_variable2 exists\u001b[0m\u001b[0;34m\u001b[0m\u001b[0;34m\u001b[0m\u001b[0m\n\u001b[0;32m---> 15\u001b[0;31m \u001b[0mprint\u001b[0m\u001b[0;34m(\u001b[0m\u001b[0mmy_variable1\u001b[0m\u001b[0;34m)\u001b[0m\u001b[0;34m\u001b[0m\u001b[0;34m\u001b[0m\u001b[0m\n\u001b[0m\u001b[1;32m     16\u001b[0m \u001b[0mprint\u001b[0m\u001b[0;34m(\u001b[0m\u001b[0mmy_variable2\u001b[0m\u001b[0;34m)\u001b[0m\u001b[0;34m\u001b[0m\u001b[0;34m\u001b[0m\u001b[0m\n",
            "\u001b[0;31mNameError\u001b[0m: name 'my_variable1' is not defined"
          ]
        }
      ]
    },
    {
      "cell_type": "code",
      "source": [
        "#Global, Nonlocal\n",
        "'''global: This keyword is used to define a variable inside the function to be of a global scope.\n",
        "non-local : This keyword works similar to the global, but rather than global, this keyword declares a variable to point to variable of outside enclosing function, in case of nested functions.'''\n",
        "# global variable\n",
        "a = 15\n",
        "b = 10\n",
        "\n",
        "# function to perform addition\n",
        "def add():\n",
        "\tc = a + b\n",
        "\tprint(c)\n",
        "\n",
        "# calling a function\n",
        "add()\n",
        "\n",
        "# nonlocal keyword\n",
        "def fun():\n",
        "\tvar1 = 10\n",
        "\n",
        "\tdef gun():\n",
        "\t\t# tell python explicitly that it\n",
        "\t\t# has to access var1 initialized\n",
        "\t\t# in fun on line 2\n",
        "\t\t# using the keyword nonlocal\n",
        "\t\tnonlocal var1\n",
        "\t\t\n",
        "\t\tvar1 = var1 + 10\n",
        "\t\tprint(var1)\n",
        "\n",
        "\tgun()\n",
        "fun()\n"
      ],
      "metadata": {
        "colab": {
          "base_uri": "https://localhost:8080/"
        },
        "id": "35aDCAGnzGE1",
        "outputId": "f59b8036-0653-4f4e-8a36-dc443476e3bd"
      },
      "execution_count": null,
      "outputs": [
        {
          "output_type": "stream",
          "name": "stdout",
          "text": [
            "25\n",
            "20\n"
          ]
        }
      ]
    },
    {
      "cell_type": "markdown",
      "source": [
        "What is namespace:\n",
        "A namespace is a system that has a unique name for each and every object in Python. An object might be a variable or a method. Python itself maintains a namespace in the form of a Python dictionary. Let’s go through an example, a directory-file system structure in computers. Needless to say, that one can have multiple directories having a file with the same name inside every directory. But one can get directed to the file, one wishes, just by specifying the absolute path to the file. \n",
        "Real-time example, the role of a namespace is like a surname.\n",
        "![image.png](data:image/png;base64,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)"
      ],
      "metadata": {
        "id": "sxHhulw21WdF"
      }
    },
    {
      "cell_type": "code",
      "source": [
        "# var1 is in the global namespace\n",
        "var1 = 5\n",
        "def some_func():\n",
        "\n",
        "\t# var2 is in the local namespace\n",
        "\tvar2 = 6\n",
        "\tdef some_inner_func():\n",
        "\n",
        "\t\t# var3 is in the nested local\n",
        "\t\t# namespace\n",
        "\t\tvar3 = 7\n"
      ],
      "metadata": {
        "id": "24S5pvrSzGIH"
      },
      "execution_count": null,
      "outputs": []
    },
    {
      "cell_type": "markdown",
      "source": [
        "Statement, Indentation and Comment in Python:\n",
        "\n",
        "A Python statement is an instruction that the Python interpreter can execute. There are different types of statements in Python language as Assignment statements, Conditional statements, Looping statements, etc.\n",
        "\n",
        "Whitespace is used for indentation in Python. Unlike many other programming languages which only serve to make the code easier to read, Python indentation is mandatory. One can understand it better by looking at an example of indentation in Python.\n",
        "\n"
      ],
      "metadata": {
        "id": "2mtnLQp14spw"
      }
    },
    {
      "cell_type": "code",
      "source": [
        "# user input a string:\n",
        "username = input(\"Enter username:\")\n",
        "print(\"Username is: \" + username)\n",
        "\n",
        "\n"
      ],
      "metadata": {
        "colab": {
          "base_uri": "https://localhost:8080/"
        },
        "id": "tS4gkHBnzGLO",
        "outputId": "11dab5b8-f3c1-43ad-a1dc-a571343aaf7f"
      },
      "execution_count": null,
      "outputs": [
        {
          "output_type": "stream",
          "name": "stdout",
          "text": [
            "Enter username:mp\n",
            "Username is: mp\n"
          ]
        }
      ]
    },
    {
      "cell_type": "code",
      "source": [
        "#user input a number:\n",
        "value = int(input(\"Enter number: \"))\n",
        "print(\"Entered number is: \", value)"
      ],
      "metadata": {
        "colab": {
          "base_uri": "https://localhost:8080/"
        },
        "id": "oeYPmZnQzGOS",
        "outputId": "7e395e49-3951-4d5c-b5d8-0392e6bb21a4"
      },
      "execution_count": null,
      "outputs": [
        {
          "output_type": "stream",
          "name": "stdout",
          "text": [
            "Enter number: 345\n",
            "Entered number is:  345\n"
          ]
        }
      ]
    },
    {
      "cell_type": "code",
      "source": [
        "# input\n",
        "input1 = input()\n",
        "\n",
        "# output\n",
        "print(input1)"
      ],
      "metadata": {
        "colab": {
          "base_uri": "https://localhost:8080/"
        },
        "id": "uVklMekVmojI",
        "outputId": "11f1bea3-0166-4a11-b208-8a6f479f84e9"
      },
      "execution_count": null,
      "outputs": [
        {
          "output_type": "stream",
          "name": "stdout",
          "text": [
            "123\\\n",
            "123\\\n"
          ]
        }
      ]
    },
    {
      "cell_type": "code",
      "source": [
        "# Python program showing how to\n",
        "# multiple input using split\n",
        "\n",
        "# taking two inputs at a time\n",
        "x, y = input(\"Enter two values: \").split()\n",
        "print(\"Number of boys: \", x)\n",
        "print(\"Number of girls: \", y)\n",
        "\n",
        "# taking three inputs at a time\n",
        "x, y, z = input(\"Enter three values: \").split()\n",
        "print(\"Total number of students: \", x)\n",
        "print(\"Number of boys is : \", y)\n",
        "print(\"Number of girls is : \", z)\n",
        "\n",
        "# taking two inputs at a time\n",
        "a, b = input(\"Enter two values: \").split()\n",
        "print(\"First number is {} and second number is {}\".format(a, b))\n",
        "\n",
        "# taking multiple inputs at a time\n",
        "# and type casting using list() function\n",
        "x = list(map(int, input(\"Enter multiple values: \").split()))\n",
        "print(\"List of students: \", x)\n",
        "\n"
      ],
      "metadata": {
        "colab": {
          "base_uri": "https://localhost:8080/"
        },
        "id": "pYbD9ZgaKhV5",
        "outputId": "742a26bc-9fa7-4dfd-cb37-d2842b9dcb7c"
      },
      "execution_count": null,
      "outputs": [
        {
          "output_type": "stream",
          "name": "stdout",
          "text": [
            "Enter two values: 4 8\n",
            "Number of boys:  4\n",
            "Number of girls:  8\n",
            "Enter three values: 1 2 3\n",
            "Total number of students:  1\n",
            "Number of boys is :  2\n",
            "Number of girls is :  3\n",
            "Enter two values: 6 7\n",
            "First number is 6 and second number is 7\n",
            "Enter multiple values: 1 2 3 4 5 6 7 8 9 0\n",
            "List of students:  [1, 2, 3, 4, 5, 6, 7, 8, 9, 0]\n"
          ]
        }
      ]
    },
    {
      "cell_type": "markdown",
      "source": [
        "Python print() function prints the message to the screen or any other standard output device.\n",
        "\n",
        "Syntax: \n",
        "\n",
        "print(value(s), sep= ' ', end = '\\n', file=file, flush=flush)\n",
        "Parameters: \n",
        "\n",
        "value(s): Any value, and as many as you like. Will be converted to a string before printed\n",
        "sep=’separator’ : (Optional) Specify how to separate the objects, if there is more than one.Default :’ ‘\n",
        "end=’end’: (Optional) Specify what to print at the end.Default : ‘\\n’\n",
        "file : (Optional) An object with a write method. Default :sys.stdout\n",
        "flush : (Optional) A Boolean, specifying if the output is flushed (True) or buffered (False). Default: False"
      ],
      "metadata": {
        "id": "0zVKl04NMnYP"
      }
    },
    {
      "cell_type": "code",
      "source": [
        "# This line will automatically add a new line before the\n",
        "# next print statement\n",
        "print (\"books is the best platform for DSA content\")\n",
        "\n",
        "# This print() function ends with \"**\" as set in the end argument.\n",
        "print (\"books is the best platform for DSA content\", end= \"**\")\n",
        "print(\"Welcome to python\")\n"
      ],
      "metadata": {
        "colab": {
          "base_uri": "https://localhost:8080/"
        },
        "id": "VC6e0_rXKhY-",
        "outputId": "0c2f8bc8-698e-41c1-a0b0-7d4b09dcd14b"
      },
      "execution_count": null,
      "outputs": [
        {
          "output_type": "stream",
          "name": "stdout",
          "text": [
            "books is the best platform for DSA content\n",
            "books is the best platform for DSA content**Welcome to python\n"
          ]
        }
      ]
    },
    {
      "cell_type": "code",
      "source": [
        "#flush Argument\n",
        "import time\n",
        "\n",
        "count_seconds = 10\n",
        "for i in reversed(range(count_seconds + 1)):\n",
        "\tif i > 0:\n",
        "\t\tprint(i, end='>>>')\n",
        "\t\ttime.sleep(1)\n",
        "\telse:\n",
        "\t\tprint('Start')\n"
      ],
      "metadata": {
        "colab": {
          "base_uri": "https://localhost:8080/"
        },
        "id": "kgL-vRhqKhb5",
        "outputId": "5a1c50fb-a543-4bd8-f956-d70d511718e4"
      },
      "execution_count": null,
      "outputs": [
        {
          "output_type": "stream",
          "name": "stdout",
          "text": [
            "10>>>9>>>8>>>7>>>6>>>5>>>4>>>3>>>2>>>1>>>Start\n"
          ]
        }
      ]
    },
    {
      "cell_type": "code",
      "source": [
        "#Separator\n",
        "#The print() function can accept any number of positional arguments. To separate these positional arguments , keyword argument “sep” is used.\n",
        "a=12\n",
        "b=12\n",
        "c=2022\n",
        "print(a,b,c,sep=\"-\")\n"
      ],
      "metadata": {
        "colab": {
          "base_uri": "https://localhost:8080/"
        },
        "id": "rAMgIMN8KheV",
        "outputId": "d71ea5c8-3baf-44f5-e110-3b2e6de3afd5"
      },
      "execution_count": null,
      "outputs": [
        {
          "output_type": "stream",
          "name": "stdout",
          "text": [
            "12-12-2022\n"
          ]
        }
      ]
    },
    {
      "cell_type": "code",
      "source": [
        "# ends the output with a space\n",
        "print(\"Welcome to\", end = ' ')\n",
        "print(\"Python world\", end= ' ')\n",
        "print('\\n')\n",
        "# ends the output with '@'\n",
        "print(\"Python\", end='@')\n",
        "print(\"mp\")\n"
      ],
      "metadata": {
        "colab": {
          "base_uri": "https://localhost:8080/"
        },
        "id": "AzDiiybDKhhW",
        "outputId": "99eeb98c-70c1-4c01-a0f6-0a9a151f589d"
      },
      "execution_count": null,
      "outputs": [
        {
          "output_type": "stream",
          "name": "stdout",
          "text": [
            "Welcome to Python world \n",
            "\n",
            "Python@mp\n"
          ]
        }
      ]
    },
    {
      "cell_type": "code",
      "source": [
        "'''The separator between the arguments to print() function in Python is space by default (softspace feature) , \n",
        "which can be modified and can be made to any character, integer or string as per our choice. The ‘sep’ parameter is used to achieve the same, \n",
        "it is found only in python 3.x or later. It is also used for formatting the output strings.'''\n",
        "#code for disabling the softspace feature\n",
        "print('m','p', sep='')\n",
        "\n",
        "#for formatting a date\n",
        "print('09','12','2016', sep='-')\n",
        "\n",
        "#another example\n",
        "print('pankaj1006','github.io', sep='@')\n"
      ],
      "metadata": {
        "colab": {
          "base_uri": "https://localhost:8080/"
        },
        "id": "dEzIzd3MOtCM",
        "outputId": "09446939-a189-4c40-9eba-41e693d2f4b8"
      },
      "execution_count": null,
      "outputs": [
        {
          "output_type": "stream",
          "name": "stdout",
          "text": [
            "mp\n",
            "09-12-2016\n",
            "pankaj1006@github.io\n"
          ]
        }
      ]
    },
    {
      "cell_type": "code",
      "source": [],
      "metadata": {
        "id": "5UBXSQ3jOtFb"
      },
      "execution_count": null,
      "outputs": []
    },
    {
      "cell_type": "code",
      "source": [],
      "metadata": {
        "id": "jSTl7agbOtIT"
      },
      "execution_count": null,
      "outputs": []
    },
    {
      "cell_type": "code",
      "source": [],
      "metadata": {
        "id": "EjABlTFROtLZ"
      },
      "execution_count": null,
      "outputs": []
    },
    {
      "cell_type": "code",
      "source": [],
      "metadata": {
        "id": "i0MNHQGdOtO6"
      },
      "execution_count": null,
      "outputs": []
    },
    {
      "cell_type": "code",
      "source": [],
      "metadata": {
        "id": "7vIQoBgOmoow"
      },
      "execution_count": null,
      "outputs": []
    }
  ]
}