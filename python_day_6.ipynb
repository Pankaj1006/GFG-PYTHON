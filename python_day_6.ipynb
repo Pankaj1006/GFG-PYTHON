{
  "nbformat": 4,
  "nbformat_minor": 0,
  "metadata": {
    "colab": {
      "provenance": []
    },
    "kernelspec": {
      "name": "python3",
      "display_name": "Python 3"
    },
    "language_info": {
      "name": "python"
    }
  },
  "cells": [
    {
      "cell_type": "markdown",
      "source": [
        "# **Python NumPy**\n",
        "\n",
        "Python NumPy is a general-purpose array processing package which provides tools for handling the n-dimensional arrays. It provides various computing tools such as comprehensive mathematical functions, linear algebra routines.\n",
        "\n",
        "~ Array in Numpy is a table of elements (usually numbers), all of the same type, indexed by a tuple of positive integers. In Numpy, number of dimensions of the array is called rank of the array.\n",
        "\n",
        "~ A tuple of integers giving the size of the array along each dimension is known as shape of the array. \n",
        "\n",
        "~ An array class in Numpy is called as ndarray. Elements in Numpy arrays are accessed by using square brackets and can be initialized by using nested Python Lists.\n",
        "\n",
        "~ Arrays in Numpy can be created by multiple ways, with various number of Ranks, defining the size of the Array. Arrays can also be created with the use of various data types such as lists, tuples, etc.\n"
      ],
      "metadata": {
        "id": "UuTfMK1rzok4"
      }
    },
    {
      "cell_type": "code",
      "execution_count": 1,
      "metadata": {
        "colab": {
          "base_uri": "https://localhost:8080/"
        },
        "id": "Bu4cuAE4zinw",
        "outputId": "70e98fb1-de94-40d3-c78b-0ea7dc0b4e9d"
      },
      "outputs": [
        {
          "output_type": "stream",
          "name": "stdout",
          "text": [
            "Array with Rank 1: \n",
            " [1 2 3]\n",
            "Array with Rank 2: \n",
            " [[1 2 3]\n",
            " [4 5 6]]\n",
            "\n",
            "Array created using passed tuple:\n",
            " [1 3 2]\n"
          ]
        }
      ],
      "source": [
        "# Python program for\n",
        "# Creation of Arrays\n",
        "import numpy as np\n",
        " \n",
        "# Creating a rank 1 Array\n",
        "arr = np.array([1, 2, 3])\n",
        "print(\"Array with Rank 1: \\n\",arr)\n",
        " \n",
        "# Creating a rank 2 Array\n",
        "arr = np.array([[1, 2, 3],\n",
        "                [4, 5, 6]])\n",
        "print(\"Array with Rank 2: \\n\", arr)\n",
        " \n",
        "# Creating an array from tuple\n",
        "arr = np.array((1, 3, 2))\n",
        "print(\"\\nArray created using \"\n",
        "      \"passed tuple:\\n\", arr)"
      ]
    },
    {
      "cell_type": "code",
      "source": [
        "# indexing in numpy array\n",
        "import numpy as np\n",
        " \n",
        "# Initial Array\n",
        "arr = np.array([[-1, 2, 0, 4],\n",
        "                [4, -0.5, 6, 0],\n",
        "                [2.6, 0, 7, 8],\n",
        "                [3, -7, 4, 2.0]])\n",
        "print(\"Initial Array: \")\n",
        "print(arr)\n",
        " \n",
        "# Printing a range of Array\n",
        "# with the use of slicing method\n",
        "sliced_arr = arr[:2, ::2]\n",
        "print (\"Array with first 2 rows and\"\n",
        "    \" alternate columns(0 and 2):\\n\", sliced_arr)\n",
        " \n",
        "# Printing elements at\n",
        "# specific Indices\n",
        "Index_arr = arr[[1, 1, 0, 3], \n",
        "                [3, 2, 1, 0]]\n",
        "print (\"\\nElements at indices (1, 3), \"\n",
        "    \"(1, 2), (0, 1), (3, 0):\\n\", Index_arr)"
      ],
      "metadata": {
        "colab": {
          "base_uri": "https://localhost:8080/"
        },
        "id": "qgm1wGqD1RIC",
        "outputId": "d56245d2-5ce4-4e02-e1a5-3810e0496786"
      },
      "execution_count": 2,
      "outputs": [
        {
          "output_type": "stream",
          "name": "stdout",
          "text": [
            "Initial Array: \n",
            "[[-1.   2.   0.   4. ]\n",
            " [ 4.  -0.5  6.   0. ]\n",
            " [ 2.6  0.   7.   8. ]\n",
            " [ 3.  -7.   4.   2. ]]\n",
            "Array with first 2 rows and alternate columns(0 and 2):\n",
            " [[-1.  0.]\n",
            " [ 4.  6.]]\n",
            "\n",
            "Elements at indices (1, 3), (1, 2), (0, 1), (3, 0):\n",
            " [0. 6. 2. 3.]\n"
          ]
        }
      ]
    },
    {
      "cell_type": "code",
      "source": [
        "# basic operations on single array\n",
        "import numpy as np\n",
        " \n",
        "# Defining Array 1\n",
        "a = np.array([[1, 2],\n",
        "              [3, 4]])\n",
        " \n",
        "# Defining Array 2\n",
        "b = np.array([[4, 3],\n",
        "              [2, 1]])\n",
        "               \n",
        "# Adding 1 to every element\n",
        "print (\"Adding 1 to every element:\", a + 1)\n",
        " \n",
        "# Subtracting 2 from each element\n",
        "print (\"\\nSubtracting 2 from each element:\", b - 2)\n",
        " \n",
        "# sum of array elements\n",
        "# Performing Unary operations\n",
        "print (\"\\nSum of all array \"\n",
        "       \"elements: \", a.sum())\n",
        " \n",
        "# Adding two arrays\n",
        "# Performing Binary operations\n",
        "print (\"\\nArray sum:\\n\", a + b)"
      ],
      "metadata": {
        "colab": {
          "base_uri": "https://localhost:8080/"
        },
        "id": "_1SxOSxi1WhD",
        "outputId": "6a0fc6b4-225e-4ae9-ac0c-4fc56fd4e531"
      },
      "execution_count": 3,
      "outputs": [
        {
          "output_type": "stream",
          "name": "stdout",
          "text": [
            "Adding 1 to every element: [[2 3]\n",
            " [4 5]]\n",
            "\n",
            "Subtracting 2 from each element: [[ 2  1]\n",
            " [ 0 -1]]\n",
            "\n",
            "Sum of all array elements:  10\n",
            "\n",
            "Array sum:\n",
            " [[5 5]\n",
            " [5 5]]\n"
          ]
        }
      ]
    },
    {
      "cell_type": "markdown",
      "source": [
        "**Data Types in Numpy**\n",
        "\n",
        "Every Numpy array is a table of elements (usually numbers), all of the same type, indexed by a tuple of positive integers. Every ndarray has an associated data type (dtype) object.\n",
        "\n",
        "Note: Type of array can be explicitly defined while creating array."
      ],
      "metadata": {
        "id": "nna5f5oa19KR"
      }
    },
    {
      "cell_type": "code",
      "source": [
        "# a data type object\n",
        "import numpy as np\n",
        " \n",
        "# Integer datatype\n",
        "# guessed by Numpy\n",
        "x = np.array([1, 2])  \n",
        "print(\"Integer Datatype: \")\n",
        "print(x.dtype)         \n",
        " \n",
        "# Float datatype\n",
        "# guessed by Numpy\n",
        "x = np.array([1.0, 2.0]) \n",
        "print(\"\\nFloat Datatype: \")\n",
        "print(x.dtype)  \n",
        " \n",
        "# Forced Datatype\n",
        "x = np.array([1, 2], dtype = np.int64)   \n",
        "print(\"\\nForcing a Datatype: \")\n",
        "print(x.dtype)"
      ],
      "metadata": {
        "colab": {
          "base_uri": "https://localhost:8080/"
        },
        "id": "lqUyXd_61Wj_",
        "outputId": "26d771ef-8202-4ce7-dc7e-5cded65ca865"
      },
      "execution_count": 6,
      "outputs": [
        {
          "output_type": "stream",
          "name": "stdout",
          "text": [
            "Integer Datatype: \n",
            "int64\n",
            "\n",
            "Float Datatype: \n",
            "float64\n",
            "\n",
            "Forcing a Datatype: \n",
            "int64\n"
          ]
        }
      ]
    },
    {
      "cell_type": "code",
      "source": [
        "# a data type object\n",
        "import numpy as np\n",
        " \n",
        "# First Array\n",
        "arr1 = np.array([[4, 7], [2, 6]], \n",
        "                 dtype = np.float64)\n",
        "                  \n",
        "# Second Array\n",
        "arr2 = np.array([[3, 6], [2, 8]], \n",
        "                 dtype = np.float64) \n",
        " \n",
        "# Addition of two Arrays\n",
        "Sum = np.add(arr1, arr2)\n",
        "print(\"Addition of Two Arrays: \")\n",
        "print(Sum)\n",
        " \n",
        "# Addition of all Array elements\n",
        "# using predefined sum method\n",
        "Sum1 = np.sum(arr1)\n",
        "print(\"\\nAddition of Array elements: \")\n",
        "print(Sum1)\n",
        " \n",
        "# Square root of Array\n",
        "Sqrt = np.sqrt(arr1)\n",
        "print(\"\\nSquare root of Array1 elements: \")\n",
        "print(Sqrt)\n",
        " \n",
        "# Transpose of Array\n",
        "# using In-built function 'T'\n",
        "Trans_arr = arr1.T\n",
        "print(\"\\nTranspose of Array: \")\n",
        "print(Trans_arr)"
      ],
      "metadata": {
        "colab": {
          "base_uri": "https://localhost:8080/"
        },
        "id": "1wZximNm1Wm3",
        "outputId": "f005ae6b-2e26-47a6-8e3f-4872f79429a5"
      },
      "execution_count": 7,
      "outputs": [
        {
          "output_type": "stream",
          "name": "stdout",
          "text": [
            "Addition of Two Arrays: \n",
            "[[ 7. 13.]\n",
            " [ 4. 14.]]\n",
            "\n",
            "Addition of Array elements: \n",
            "19.0\n",
            "\n",
            "Square root of Array1 elements: \n",
            "[[2.         2.64575131]\n",
            " [1.41421356 2.44948974]]\n",
            "\n",
            "Transpose of Array: \n",
            "[[4. 2.]\n",
            " [7. 6.]]\n"
          ]
        }
      ]
    },
    {
      "cell_type": "markdown",
      "source": [
        "**N-Dimensional array(ndarray) in Numpy**\n",
        "\n",
        "An array class in Numpy is called as ndarray. Elements in Numpy arrays are accessed by using square brackets and can be initialized by using nested Python Lists."
      ],
      "metadata": {
        "id": "0QeR6Nmu3KtT"
      }
    },
    {
      "cell_type": "code",
      "source": [
        "# basic array characteristics\n",
        "import numpy as np\n",
        " \n",
        "# Creating array object\n",
        "arr = np.array( [[ 1, 2, 3],\n",
        "                 [ 4, 2, 5]] )\n",
        " \n",
        "# Printing type of arr object\n",
        "print(\"Array is of type: \", type(arr))\n",
        " \n",
        "# Printing array dimensions (axes)\n",
        "print(\"No. of dimensions: \", arr.ndim)\n",
        " \n",
        "# Printing shape of array\n",
        "print(\"Shape of array: \", arr.shape)\n",
        " \n",
        "# Printing size (total number of elements) of array\n",
        "print(\"Size of array: \", arr.size)\n",
        " \n",
        "# Printing type of elements in array\n",
        "print(\"Array stores elements of type: \", arr.dtype)"
      ],
      "metadata": {
        "colab": {
          "base_uri": "https://localhost:8080/"
        },
        "id": "kGn5nr3V1WqF",
        "outputId": "59375abd-6078-420b-be53-2171be0bb94a"
      },
      "execution_count": 8,
      "outputs": [
        {
          "output_type": "stream",
          "name": "stdout",
          "text": [
            "Array is of type:  <class 'numpy.ndarray'>\n",
            "No. of dimensions:  2\n",
            "Shape of array:  (2, 3)\n",
            "Size of array:  6\n",
            "Array stores elements of type:  int64\n"
          ]
        }
      ]
    },
    {
      "cell_type": "code",
      "source": [
        "# array creation techniques\n",
        "import numpy as np\n",
        " \n",
        "# Creating array from list with type float\n",
        "a = np.array([[1, 2, 4], [5, 8, 7]], dtype = 'float')\n",
        "print (\"Array created using passed list:\\n\", a)\n",
        " \n",
        "# Creating array from tuple\n",
        "b = np.array((1 , 3, 2))\n",
        "print (\"\\nArray created using passed tuple:\\n\", b)\n",
        " \n",
        "# Creating a 3X4 array with all zeros\n",
        "c = np.zeros((3, 4))\n",
        "print (\"\\nAn array initialized with all zeros:\\n\", c)\n",
        " \n",
        "# Create a constant value array of complex type\n",
        "d = np.full((3, 3), 6, dtype = 'complex')\n",
        "print (\"\\nAn array initialized with all 6s.\"\n",
        "            \"Array type is complex:\\n\", d)"
      ],
      "metadata": {
        "colab": {
          "base_uri": "https://localhost:8080/"
        },
        "id": "9Ux48Ej-1Wsq",
        "outputId": "11873095-4515-4808-ed1d-458748454c09"
      },
      "execution_count": 9,
      "outputs": [
        {
          "output_type": "stream",
          "name": "stdout",
          "text": [
            "Array created using passed list:\n",
            " [[1. 2. 4.]\n",
            " [5. 8. 7.]]\n",
            "\n",
            "Array created using passed tuple:\n",
            " [1 3 2]\n",
            "\n",
            "An array initialized with all zeros:\n",
            " [[0. 0. 0. 0.]\n",
            " [0. 0. 0. 0.]\n",
            " [0. 0. 0. 0.]]\n",
            "\n",
            "An array initialized with all 6s.Array type is complex:\n",
            " [[6.+0.j 6.+0.j 6.+0.j]\n",
            " [6.+0.j 6.+0.j 6.+0.j]\n",
            " [6.+0.j 6.+0.j 6.+0.j]]\n"
          ]
        }
      ]
    },
    {
      "cell_type": "code",
      "source": [
        "# indexing in numpy\n",
        "import numpy as np\n",
        " \n",
        "# An exemplar array\n",
        "arr = np.array([[-1, 2, 0, 4],\n",
        "                [4, -0.5, 6, 0],\n",
        "                [2.6, 0, 7, 8],\n",
        "                [3, -7, 4, 2.0]])\n",
        " \n",
        "# Slicing array\n",
        "temp = arr[:2, ::2]\n",
        "print (\"Array with first 2 rows and alternate\"\n",
        "                    \"columns(0 and 2):\\n\", temp)\n",
        " \n",
        "# Integer array indexing example\n",
        "temp = arr[[0, 1, 2, 3], [3, 2, 1, 0]]\n",
        "print (\"\\nElements at indices (0, 3), (1, 2), (2, 1),\"\n",
        "                                    \"(3, 0):\\n\", temp)\n",
        " \n",
        "# boolean array indexing example\n",
        "cond = arr > 0 # cond is a boolean array\n",
        "temp = arr[cond]\n",
        "print (\"\\nElements greater than 0:\\n\", temp)"
      ],
      "metadata": {
        "colab": {
          "base_uri": "https://localhost:8080/"
        },
        "id": "l9GY3k471Wvn",
        "outputId": "548c186b-9214-4d26-f0aa-7b7b5797439e"
      },
      "execution_count": 10,
      "outputs": [
        {
          "output_type": "stream",
          "name": "stdout",
          "text": [
            "Array with first 2 rows and alternatecolumns(0 and 2):\n",
            " [[-1.  0.]\n",
            " [ 4.  6.]]\n",
            "\n",
            "Elements at indices (0, 3), (1, 2), (2, 1),(3, 0):\n",
            " [4. 6. 0. 3.]\n",
            "\n",
            "Elements greater than 0:\n",
            " [2.  4.  4.  6.  2.6 7.  8.  3.  4.  2. ]\n"
          ]
        }
      ]
    },
    {
      "cell_type": "code",
      "source": [
        "# basic operations on single array\n",
        "import numpy as np\n",
        " \n",
        "a = np.array([1, 2, 5, 3])\n",
        " \n",
        "# add 1 to every element\n",
        "print (\"Adding 1 to every element:\", a+1)\n",
        " \n",
        "# subtract 3 from each element\n",
        "print (\"Subtracting 3 from each element:\", a-3)\n",
        " \n",
        "# multiply each element by 10\n",
        "print (\"Multiplying each element by 10:\", a*10)\n",
        " \n",
        "# square each element\n",
        "print (\"Squaring each element:\", a**2)\n",
        " \n",
        "# modify existing array\n",
        "a *= 2\n",
        "print (\"Doubled each element of original array:\", a)\n",
        " \n",
        "# transpose of array\n",
        "a = np.array([[1, 2, 3], [3, 4, 5], [9, 6, 0]])\n",
        " \n",
        "print (\"\\nOriginal array:\\n\", a)\n",
        "print (\"Transpose of array:\\n\", a.T)"
      ],
      "metadata": {
        "colab": {
          "base_uri": "https://localhost:8080/"
        },
        "id": "kr-mSeCU1Wy3",
        "outputId": "6fd6dee3-f189-4975-94ac-1c1c153b2fd7"
      },
      "execution_count": 11,
      "outputs": [
        {
          "output_type": "stream",
          "name": "stdout",
          "text": [
            "Adding 1 to every element: [2 3 6 4]\n",
            "Subtracting 3 from each element: [-2 -1  2  0]\n",
            "Multiplying each element by 10: [10 20 50 30]\n",
            "Squaring each element: [ 1  4 25  9]\n",
            "Doubled each element of original array: [ 2  4 10  6]\n",
            "\n",
            "Original array:\n",
            " [[1 2 3]\n",
            " [3 4 5]\n",
            " [9 6 0]]\n",
            "Transpose of array:\n",
            " [[1 3 9]\n",
            " [2 4 6]\n",
            " [3 5 0]]\n"
          ]
        }
      ]
    },
    {
      "cell_type": "code",
      "source": [
        "# unary operators in numpy\n",
        "import numpy as np\n",
        " \n",
        "arr = np.array([[1, 5, 6],\n",
        "                [4, 7, 2],\n",
        "                [3, 1, 9]])\n",
        " \n",
        "# maximum element of array\n",
        "print (\"Largest element is:\", arr.max())\n",
        "print (\"Row-wise maximum elements:\",\n",
        "                    arr.max(axis = 1))\n",
        " \n",
        "# minimum element of array\n",
        "print (\"Column-wise minimum elements:\",\n",
        "                        arr.min(axis = 0))\n",
        " \n",
        "# sum of array elements\n",
        "print (\"Sum of all array elements:\",\n",
        "                            arr.sum())\n",
        " \n",
        "# cumulative sum along each row\n",
        "print (\"Cumulative sum along each row:\\n\",\n",
        "                        arr.cumsum(axis = 1))"
      ],
      "metadata": {
        "colab": {
          "base_uri": "https://localhost:8080/"
        },
        "id": "HLI4nJDf1W12",
        "outputId": "3232de1c-7f26-4758-b149-b30c18aeba0e"
      },
      "execution_count": 12,
      "outputs": [
        {
          "output_type": "stream",
          "name": "stdout",
          "text": [
            "Largest element is: 9\n",
            "Row-wise maximum elements: [6 7 9]\n",
            "Column-wise minimum elements: [1 1 2]\n",
            "Sum of all array elements: 38\n",
            "Cumulative sum along each row:\n",
            " [[ 1  6 12]\n",
            " [ 4 11 13]\n",
            " [ 3  4 13]]\n"
          ]
        }
      ]
    },
    {
      "cell_type": "code",
      "source": [
        "# binary operators in Numpy\n",
        "import numpy as np\n",
        " \n",
        "a = np.array([[1, 2],\n",
        "            [3, 4]])\n",
        "b = np.array([[4, 3],\n",
        "            [2, 1]])\n",
        " \n",
        "# add arrays\n",
        "print (\"Array sum:\\n\", a + b)\n",
        " \n",
        "# multiply arrays (elementwise multiplication)\n",
        "print (\"Array multiplication:\\n\", a*b)\n",
        " \n",
        "# matrix multiplication\n",
        "print (\"Matrix multiplication:\\n\", a.dot(b))"
      ],
      "metadata": {
        "colab": {
          "base_uri": "https://localhost:8080/"
        },
        "id": "XP1ib9Ca1W4o",
        "outputId": "fe9c13c4-9c3d-4cc7-f5b6-f5a1999e635e"
      },
      "execution_count": 13,
      "outputs": [
        {
          "output_type": "stream",
          "name": "stdout",
          "text": [
            "Array sum:\n",
            " [[5 5]\n",
            " [5 5]]\n",
            "Array multiplication:\n",
            " [[4 6]\n",
            " [6 4]]\n",
            "Matrix multiplication:\n",
            " [[ 8  5]\n",
            " [20 13]]\n"
          ]
        }
      ]
    },
    {
      "cell_type": "code",
      "source": [
        "# universal functions in numpy\n",
        "import numpy as np\n",
        " \n",
        "# create an array of sine values\n",
        "a = np.array([0, np.pi/2, np.pi])\n",
        "print (\"Sine values of array elements:\", np.sin(a))\n",
        " \n",
        "# exponential values\n",
        "a = np.array([0, 1, 2, 3])\n",
        "print (\"Exponent of array elements:\", np.exp(a))\n",
        " \n",
        "# square root of array values\n",
        "print (\"Square root of array elements:\", np.sqrt(a))"
      ],
      "metadata": {
        "colab": {
          "base_uri": "https://localhost:8080/"
        },
        "id": "j_GI5hDr1W8c",
        "outputId": "8c5bc58c-2d16-416c-9808-10cab4badc01"
      },
      "execution_count": 14,
      "outputs": [
        {
          "output_type": "stream",
          "name": "stdout",
          "text": [
            "Sine values of array elements: [0.0000000e+00 1.0000000e+00 1.2246468e-16]\n",
            "Exponent of array elements: [ 1.          2.71828183  7.3890561  20.08553692]\n",
            "Square root of array elements: [0.         1.         1.41421356 1.73205081]\n"
          ]
        }
      ]
    },
    {
      "cell_type": "markdown",
      "source": [
        "**Array creation using List :** Arrays are used to store multiple values in one single variable.Python does not have built-in support for Arrays, but Python lists can be used instead."
      ],
      "metadata": {
        "id": "zSWt1fiK41Gx"
      }
    },
    {
      "cell_type": "code",
      "source": [
        "# Python program to create \n",
        "# an array\n",
        " \n",
        "# Creating an array using list\n",
        "arr = [1, 2, 3, 4, 5]\n",
        "for i in arr:\n",
        "  print(i)"
      ],
      "metadata": {
        "colab": {
          "base_uri": "https://localhost:8080/"
        },
        "id": "TvqQp0Ql1W_p",
        "outputId": "21f3dd8b-9a55-48ae-a663-efd9397db6e5"
      },
      "execution_count": 16,
      "outputs": [
        {
          "output_type": "stream",
          "name": "stdout",
          "text": [
            "1\n",
            "2\n",
            "3\n",
            "4\n",
            "5\n"
          ]
        }
      ]
    },
    {
      "cell_type": "code",
      "source": [
        "# Python code to demonstrate the working of \n",
        "# array()\n",
        "  \n",
        "# importing \"array\" for array operations\n",
        "import array\n",
        "  \n",
        "# initializing array with array values\n",
        "# initializes array with signed integers\n",
        "arr = array.array('i', [1, 2, 3]) \n",
        " \n",
        "# printing original array\n",
        "print (\"The new created array is : \",end=\"\")\n",
        "for i in range (0,3):\n",
        "    print (arr[i], end=\" \")\n",
        " \n",
        "print (\"\\r\")"
      ],
      "metadata": {
        "colab": {
          "base_uri": "https://localhost:8080/"
        },
        "id": "JA5nbW3d1XCm",
        "outputId": "9236eb2f-e392-4f56-a7fc-25f6c92b32d3"
      },
      "execution_count": 17,
      "outputs": [
        {
          "output_type": "stream",
          "name": "stdout",
          "text": [
            "The new created array is : 1 2 3 \r\n"
          ]
        }
      ]
    },
    {
      "cell_type": "code",
      "source": [
        "# Python Programming illustrating\n",
        "# numpy.empty method\n",
        " \n",
        "import numpy as mp\n",
        " \n",
        "b = mp.empty(2, dtype = int)\n",
        "print(\"Matrix b : \\n\", b)\n",
        " \n",
        "a = mp.empty([2, 2], dtype = int)\n",
        "print(\"\\nMatrix a : \\n\", a)\n",
        " \n",
        "c = mp.empty([3, 3])\n",
        "print(\"\\nMatrix c : \\n\", c)"
      ],
      "metadata": {
        "colab": {
          "base_uri": "https://localhost:8080/"
        },
        "id": "WHUEDte31XGU",
        "outputId": "5dd63cad-46b6-4d49-e254-88115987108f"
      },
      "execution_count": 18,
      "outputs": [
        {
          "output_type": "stream",
          "name": "stdout",
          "text": [
            "Matrix b : \n",
            " [4607182418800017408 4368955796522032135]\n",
            "\n",
            "Matrix a : \n",
            " [[1 2]\n",
            " [3 4]]\n",
            "\n",
            "Matrix c : \n",
            " [[4.9e-324 2.5e-323 3.0e-323]\n",
            " [2.0e-323 3.5e-323 9.9e-324]\n",
            " [1.5e-323 4.9e-324 4.4e-323]]\n"
          ]
        }
      ]
    },
    {
      "cell_type": "code",
      "source": [
        "# numpy.zeros method\n",
        " \n",
        "import numpy as geek\n",
        " \n",
        "b = geek.zeros(2, dtype = int)\n",
        "print(\"Matrix b : \\n\", b)\n",
        " \n",
        "a = geek.zeros([2, 2], dtype = int)\n",
        "print(\"\\nMatrix a : \\n\", a)\n",
        " \n",
        "c = geek.zeros([3, 3])\n",
        "print(\"\\nMatrix c : \\n\", c)"
      ],
      "metadata": {
        "colab": {
          "base_uri": "https://localhost:8080/"
        },
        "id": "RZ7pWS8D1XJc",
        "outputId": "bfb2a0bf-2cdb-45bb-9bc4-fc3e746172c3"
      },
      "execution_count": 19,
      "outputs": [
        {
          "output_type": "stream",
          "name": "stdout",
          "text": [
            "Matrix b : \n",
            " [0 0]\n",
            "\n",
            "Matrix a : \n",
            " [[0 0]\n",
            " [0 0]]\n",
            "\n",
            "Matrix c : \n",
            " [[0. 0. 0.]\n",
            " [0. 0. 0.]\n",
            " [0. 0. 0.]]\n"
          ]
        }
      ]
    },
    {
      "cell_type": "code",
      "source": [
        "# numpy.reshape() method\n",
        " \n",
        "import numpy as mp\n",
        " \n",
        "array = mp.arange(8)\n",
        "print(\"Original array : \\n\", array)\n",
        " \n",
        "# shape array with 2 rows and 4 columns\n",
        "array = mp.arange(8).reshape(2, 4)\n",
        "print(\"\\narray reshaped with 2 rows and 4 columns : \\n\", array)\n",
        " \n",
        "# shape array with 2 rows and 4 columns\n",
        "array = mp.arange(8).reshape(4 ,2)\n",
        "print(\"\\narray reshaped with 2 rows and 4 columns : \\n\", array)\n",
        " \n",
        "# Constructs 3D array\n",
        "array = mp.arange(8).reshape(2, 2, 2)\n",
        "print(\"\\nOriginal array reshaped to 3D : \\n\", array)"
      ],
      "metadata": {
        "colab": {
          "base_uri": "https://localhost:8080/"
        },
        "id": "UkqB-R811XMp",
        "outputId": "10e49bb1-641d-45d5-bcb7-6d0d42669027"
      },
      "execution_count": 20,
      "outputs": [
        {
          "output_type": "stream",
          "name": "stdout",
          "text": [
            "Original array : \n",
            " [0 1 2 3 4 5 6 7]\n",
            "\n",
            "array reshaped with 2 rows and 4 columns : \n",
            " [[0 1 2 3]\n",
            " [4 5 6 7]]\n",
            "\n",
            "array reshaped with 2 rows and 4 columns : \n",
            " [[0 1]\n",
            " [2 3]\n",
            " [4 5]\n",
            " [6 7]]\n",
            "\n",
            "Original array reshaped to 3D : \n",
            " [[[0 1]\n",
            "  [2 3]]\n",
            "\n",
            " [[4 5]\n",
            "  [6 7]]]\n"
          ]
        }
      ]
    },
    {
      "cell_type": "code",
      "source": [
        "# numpy.arange method\n",
        " \n",
        "import numpy as mp\n",
        " \n",
        "print(\"A\\n\", mp.arange(4).reshape(2, 2), \"\\n\")\n",
        " \n",
        "print(\"A\\n\", mp.arange(4, 10), \"\\n\")\n",
        " \n",
        "print(\"A\\n\", mp.arange(4, 20, 3), \"\\n\")"
      ],
      "metadata": {
        "colab": {
          "base_uri": "https://localhost:8080/"
        },
        "id": "-EeqNLpM1XPR",
        "outputId": "edf35fe1-2197-42a0-cf65-143c9d417ac1"
      },
      "execution_count": 21,
      "outputs": [
        {
          "output_type": "stream",
          "name": "stdout",
          "text": [
            "A\n",
            " [[0 1]\n",
            " [2 3]] \n",
            "\n",
            "A\n",
            " [4 5 6 7 8 9] \n",
            "\n",
            "A\n",
            " [ 4  7 10 13 16 19] \n",
            "\n"
          ]
        }
      ]
    },
    {
      "cell_type": "markdown",
      "source": [
        "# **Note:** Why do we need NumPy ?\n",
        "\n",
        "A question arises that why do we need NumPy when python lists are already there. The answer to it is we cannot perform operations on all the elements of two list directly. For example, we cannot multiply two lists directly we will have to do it element-wise. This is where the role of NumPy comes into play."
      ],
      "metadata": {
        "id": "GJ6yzWST76EB"
      }
    },
    {
      "cell_type": "code",
      "source": [
        "# Python program to demonstrate a need of NumPy\n",
        " \n",
        "list1 = [1, 2, 3, 4 ,5, 6]\n",
        "list2 = [10, 9, 8, 7, 6, 5]\n",
        " \n",
        "# Multiplying both lists directly would give an error.\n",
        "print(list1*list2)"
      ],
      "metadata": {
        "colab": {
          "base_uri": "https://localhost:8080/",
          "height": 200
        },
        "id": "P2CoJQn01XSR",
        "outputId": "b4833678-c3a1-4276-ec4b-4128430683f5"
      },
      "execution_count": 22,
      "outputs": [
        {
          "output_type": "error",
          "ename": "TypeError",
          "evalue": "ignored",
          "traceback": [
            "\u001b[0;31m---------------------------------------------------------------------------\u001b[0m",
            "\u001b[0;31mTypeError\u001b[0m                                 Traceback (most recent call last)",
            "\u001b[0;32m<ipython-input-22-81ae97c26a7a>\u001b[0m in \u001b[0;36m<cell line: 7>\u001b[0;34m()\u001b[0m\n\u001b[1;32m      5\u001b[0m \u001b[0;34m\u001b[0m\u001b[0m\n\u001b[1;32m      6\u001b[0m \u001b[0;31m# Multiplying both lists directly would give an error.\u001b[0m\u001b[0;34m\u001b[0m\u001b[0;34m\u001b[0m\u001b[0m\n\u001b[0;32m----> 7\u001b[0;31m \u001b[0mprint\u001b[0m\u001b[0;34m(\u001b[0m\u001b[0mlist1\u001b[0m\u001b[0;34m*\u001b[0m\u001b[0mlist2\u001b[0m\u001b[0;34m)\u001b[0m\u001b[0;34m\u001b[0m\u001b[0;34m\u001b[0m\u001b[0m\n\u001b[0m",
            "\u001b[0;31mTypeError\u001b[0m: can't multiply sequence by non-int of type 'list'"
          ]
        }
      ]
    },
    {
      "cell_type": "code",
      "source": [
        "# Python program to demonstrate the use of NumPy arrays\n",
        "import numpy as np\n",
        " \n",
        "list1 = [1, 2, 3, 4, 5, 6]\n",
        "list2 = [10, 9, 8, 7, 6, 5]\n",
        " \n",
        "# Convert list1 into a NumPy array\n",
        "a1 = np.array(list1)\n",
        " \n",
        "# Convert list2 into a NumPy array\n",
        "a2 = np.array(list2)\n",
        " \n",
        "print(a1*a2)"
      ],
      "metadata": {
        "colab": {
          "base_uri": "https://localhost:8080/"
        },
        "id": "jeyrPJ7W1XVV",
        "outputId": "50023ab2-14b4-4c76-e3bc-4053f0ab2f62"
      },
      "execution_count": 23,
      "outputs": [
        {
          "output_type": "stream",
          "name": "stdout",
          "text": [
            "[10 18 24 28 30 30]\n"
          ]
        }
      ]
    },
    {
      "cell_type": "markdown",
      "source": [
        "**Indexing using index arrays**\n",
        "\n",
        "There are two types of indexing :\n",
        "\n",
        "Basic Slicing and indexing : Consider the syntax x[obj] where x is the array and obj is the index. Slice object is the index in case of basic slicing. Basic slicing occurs when obj is :\n",
        "\n",
        "a slice object that is of the form start : stop : step\n",
        "\n",
        "an integer\n",
        "\n",
        "or a tuple of slice objects and integers\n",
        "\n",
        "All arrays generated by basic slicing are always view of the original array.\n",
        "![image.png](data:image/png;base64,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)\n",
        "\n",
        "Advanced indexing : Advanced indexing is triggered when obj is –\n",
        "\n",
        "an ndarray of type integer or Boolean\n",
        "\n",
        "or a tuple with at least one sequence object\n",
        "\n",
        "is a non tuple sequence object\n",
        "\n",
        "Advanced indexing returns a copy of data rather than a view of it. Advanced indexing is of two types integer and Boolean."
      ],
      "metadata": {
        "id": "-NfVXbBz8b3E"
      }
    },
    {
      "cell_type": "code",
      "source": [
        "# Python program for basic slicing.\n",
        "import numpy as np\n",
        " \n",
        "# Arrange elements from 0 to 19\n",
        "a = np.arange(20)\n",
        "print(\"\\n Array is:\\n \",a)\n",
        " \n",
        "# a[start:stop:step]\n",
        "print(\"\\n a[-8:17:1]  = \",a[-8:17:1]) \n",
        " \n",
        "# The : operator means all elements till the end.\n",
        "print(\"\\n a[10:]  = \",a[10:])"
      ],
      "metadata": {
        "colab": {
          "base_uri": "https://localhost:8080/"
        },
        "id": "z4E7IhMG1XYf",
        "outputId": "4d7c7a07-8ce6-4380-b22f-02e71668c89c"
      },
      "execution_count": 37,
      "outputs": [
        {
          "output_type": "stream",
          "name": "stdout",
          "text": [
            "\n",
            " Array is:\n",
            "  [ 0  1  2  3  4  5  6  7  8  9 10 11 12 13 14 15 16 17 18 19]\n",
            "\n",
            " a[-8:17:1]  =  [12 13 14 15 16]\n",
            "\n",
            " a[10:]  =  [10 11 12 13 14 15 16 17 18 19]\n"
          ]
        }
      ]
    },
    {
      "cell_type": "code",
      "source": [
        "# basic slicing with ellipsis\n",
        "import numpy as np\n",
        " \n",
        "# A 3 dimensional array.\n",
        "b = np.array([[[1, 2, 3],[4, 5, 6]],\n",
        "              [[7, 8, 9],[10, 11, 12]]])\n",
        " \n",
        "print(b[...,1]) #Equivalent to b[: ,: ,1 ]"
      ],
      "metadata": {
        "colab": {
          "base_uri": "https://localhost:8080/"
        },
        "id": "c5eXd8dT1XhN",
        "outputId": "07238845-cd43-4211-9267-0ad2e097bce0"
      },
      "execution_count": 38,
      "outputs": [
        {
          "output_type": "stream",
          "name": "stdout",
          "text": [
            "[[ 2  5]\n",
            " [ 8 11]]\n"
          ]
        }
      ]
    },
    {
      "cell_type": "code",
      "source": [
        "# Python program showing advanced indexing\n",
        "import numpy as np\n",
        " \n",
        "a = np.array([[1 ,2 ],[3 ,4 ],[5 ,6 ]])\n",
        "print(a[[0 ,1 ,2 ],[0 ,0 ,1]])"
      ],
      "metadata": {
        "colab": {
          "base_uri": "https://localhost:8080/"
        },
        "id": "EyAXoMod1XkY",
        "outputId": "549ecb92-f7d6-4b1c-f2e6-554b55d81bda"
      },
      "execution_count": 39,
      "outputs": [
        {
          "output_type": "stream",
          "name": "stdout",
          "text": [
            "[1 3 6]\n"
          ]
        }
      ]
    },
    {
      "cell_type": "code",
      "source": [
        "# Python program showing advanced \n",
        "# and basic indexing\n",
        "import numpy as np\n",
        " \n",
        "a = np.array([[0 ,1 ,2],[3 ,4 ,5 ],\n",
        "              [6 ,7 ,8],[9 ,10 ,11]])\n",
        " \n",
        "print(a[1:2 ,1:3 ])\n",
        "print(a[1:2 ,[1,2]])"
      ],
      "metadata": {
        "colab": {
          "base_uri": "https://localhost:8080/"
        },
        "id": "PFiAmsKU1XnZ",
        "outputId": "61e4b7e7-c649-4a4d-dc6f-eb452e1433a8"
      },
      "execution_count": 40,
      "outputs": [
        {
          "output_type": "stream",
          "name": "stdout",
          "text": [
            "[[4 5]]\n",
            "[[4 5]]\n"
          ]
        }
      ]
    },
    {
      "cell_type": "code",
      "source": [
        "# You may wish to select numbers greater than 50\n",
        "import numpy as np\n",
        " \n",
        "a = np.array([10, 40, 80, 50, 100])\n",
        "print(a[a>50])"
      ],
      "metadata": {
        "colab": {
          "base_uri": "https://localhost:8080/"
        },
        "id": "KnmmTofB1XrU",
        "outputId": "bf37cc44-4985-4558-edd7-bf7ffec057a2"
      },
      "execution_count": 41,
      "outputs": [
        {
          "output_type": "stream",
          "name": "stdout",
          "text": [
            "[ 80 100]\n"
          ]
        }
      ]
    },
    {
      "cell_type": "code",
      "source": [
        "# You may wish to square the multiples of 40 \n",
        "import numpy as np\n",
        " \n",
        "a = np.array([10, 40, 80, 50, 100])\n",
        "print(a[a%40==0]**2)"
      ],
      "metadata": {
        "colab": {
          "base_uri": "https://localhost:8080/"
        },
        "id": "lO7lliRR1Xt_",
        "outputId": "7ddb5029-4d7f-4ff2-9713-589bbf673c43"
      },
      "execution_count": 42,
      "outputs": [
        {
          "output_type": "stream",
          "name": "stdout",
          "text": [
            "[1600 6400]\n"
          ]
        }
      ]
    },
    {
      "cell_type": "code",
      "source": [
        "# You may wish to select those elements whose\n",
        "# sum of row is a multiple of 10.\n",
        "import numpy as np\n",
        " \n",
        "b = np.array([[5, 5],[4, 5],[16, 4]])\n",
        "sumrow = b.sum(-1)\n",
        "print(b[sumrow%10==0])"
      ],
      "metadata": {
        "colab": {
          "base_uri": "https://localhost:8080/"
        },
        "id": "x-1i12Q41XxT",
        "outputId": "455298f8-7f08-44dc-a314-d1eaea28a507"
      },
      "execution_count": 43,
      "outputs": [
        {
          "output_type": "stream",
          "name": "stdout",
          "text": [
            "[[ 5  5]\n",
            " [16  4]]\n"
          ]
        }
      ]
    },
    {
      "cell_type": "markdown",
      "source": [
        "**Sorting**\n",
        "\n",
        "we can perform various sorting operations using the various functions that are provided in the library like sort, lexsort, argsort etc.\n"
      ],
      "metadata": {
        "id": "WDImiWG8Acuj"
      }
    },
    {
      "cell_type": "code",
      "source": [
        "# importing libraries\n",
        "import numpy as np\n",
        " \n",
        "# sort along the first axis\n",
        "a = np.array([[12, 15], [10, 1]])\n",
        "arr1 = np.sort(a, axis = 0)        \n",
        "print (\"Along first axis : \\n\", arr1)        \n",
        " \n",
        " \n",
        "# sort along the last axis\n",
        "a = np.array([[10, 15], [12, 1]])\n",
        "arr2 = np.sort(a, axis = -1)        \n",
        "print (\"\\nAlong first axis : \\n\", arr2)\n",
        " \n",
        " \n",
        "a = np.array([[12, 15], [10, 1]])\n",
        "arr1 = np.sort(a, axis = None)        \n",
        "print (\"\\nAlong none axis : \\n\", arr1)"
      ],
      "metadata": {
        "colab": {
          "base_uri": "https://localhost:8080/"
        },
        "id": "IvRCHgaa1X0M",
        "outputId": "6e25ea13-923a-4f2c-b94b-5084edd7a6c6"
      },
      "execution_count": 44,
      "outputs": [
        {
          "output_type": "stream",
          "name": "stdout",
          "text": [
            "Along first axis : \n",
            " [[10  1]\n",
            " [12 15]]\n",
            "\n",
            "Along first axis : \n",
            " [[10 15]\n",
            " [ 1 12]]\n",
            "\n",
            "Along none axis : \n",
            " [ 1 10 12 15]\n"
          ]
        }
      ]
    },
    {
      "cell_type": "code",
      "source": [
        "# Python code to demonstrate \n",
        "# working of  numpy.argsort\n",
        "import numpy as np\n",
        " \n",
        "# Numpy array created\n",
        "a = np.array([9, 3, 1, 7, 4, 3, 6])\n",
        " \n",
        "# unsorted array print\n",
        "print('Original array:\\n', a)\n",
        " \n",
        "# Sort array indices\n",
        "b = np.argsort(a)\n",
        "print('Sorted indices of original array->', b)\n",
        " \n",
        "# To get sorted array using sorted indices\n",
        "# c is temp array created of same len as of b\n",
        "c = np.zeros(len(b), dtype = int)\n",
        "for i in range(0, len(b)):\n",
        "    c[i]= a[b[i]]\n",
        "print('Sorted array->', c)"
      ],
      "metadata": {
        "colab": {
          "base_uri": "https://localhost:8080/"
        },
        "id": "rmkujq_V1X3q",
        "outputId": "173cf2e0-8c32-4bfc-80e3-a1d456a79dc5"
      },
      "execution_count": 45,
      "outputs": [
        {
          "output_type": "stream",
          "name": "stdout",
          "text": [
            "Original array:\n",
            " [9 3 1 7 4 3 6]\n",
            "Sorted indices of original array-> [2 1 5 4 6 3 0]\n",
            "Sorted array-> [1 3 3 4 6 7 9]\n"
          ]
        }
      ]
    },
    {
      "cell_type": "code",
      "source": [
        "# Python code to demonstrate working of \n",
        "# numpy.lexsort()\n",
        "import numpy as np\n",
        " \n",
        "# Numpy array created\n",
        "# First column\n",
        "a = np.array([9, 3, 1, 3, 4, 3, 6])\n",
        " \n",
        "# Second column \n",
        "b = np.array([4, 6, 9, 2, 1, 8, 7]) \n",
        "print('column a, column b')\n",
        "for (i, j) in zip(a, b):\n",
        "    print(i, ' ', j)\n",
        " \n",
        "# Sort by a then by b\n",
        "ind = np.lexsort((b, a)) \n",
        "print('Sorted indices->', ind)"
      ],
      "metadata": {
        "colab": {
          "base_uri": "https://localhost:8080/"
        },
        "id": "WfM24_ch1X6f",
        "outputId": "a2bda551-4c48-4d26-bcd5-9fceb410f3e6"
      },
      "execution_count": 46,
      "outputs": [
        {
          "output_type": "stream",
          "name": "stdout",
          "text": [
            "column a, column b\n",
            "9   4\n",
            "3   6\n",
            "1   9\n",
            "3   2\n",
            "4   1\n",
            "3   8\n",
            "6   7\n",
            "Sorted indices-> [2 3 1 5 4 6 0]\n"
          ]
        }
      ]
    },
    {
      "cell_type": "markdown",
      "source": [
        "**Searching**\n",
        "\n",
        "we can perform various searching operations using the various functions that are provided in the library like argmax, argmin, nanaargmax etc."
      ],
      "metadata": {
        "id": "jbbr8rMoA5Uj"
      }
    },
    {
      "cell_type": "code",
      "source": [
        "# Python Program illustrating\n",
        "# working of argmax()\n",
        " \n",
        "import numpy as mp \n",
        " \n",
        "# Working on 2D array\n",
        "array = mp.arange(12).reshape(3, 4)\n",
        "print(\"INPUT ARRAY : \\n\", array)\n",
        " \n",
        "# No axis mentioned, so works on entire array\n",
        "print(\"\\nMax element : \", mp.argmax(array))\n",
        " \n",
        "# returning Indices of the max element\n",
        "# as per the indices\n",
        "print((\"\\nIndices of Max element : \"\n",
        "      , mp.argmax(array, axis=0)))\n",
        "print((\"\\nIndices of Max element : \"\n",
        "      , mp.argmax(array, axis=1)))"
      ],
      "metadata": {
        "colab": {
          "base_uri": "https://localhost:8080/"
        },
        "id": "CeoDgjH31X9r",
        "outputId": "5c81f9b8-e1cf-4cdb-8a61-232c75408d9e"
      },
      "execution_count": 47,
      "outputs": [
        {
          "output_type": "stream",
          "name": "stdout",
          "text": [
            "INPUT ARRAY : \n",
            " [[ 0  1  2  3]\n",
            " [ 4  5  6  7]\n",
            " [ 8  9 10 11]]\n",
            "\n",
            "Max element :  11\n",
            "('\\nIndices of Max element : ', array([2, 2, 2, 2]))\n",
            "('\\nIndices of Max element : ', array([3, 3, 3]))\n"
          ]
        }
      ]
    },
    {
      "cell_type": "code",
      "source": [
        "# Python Program illustrating\n",
        "# working of nanargmax()\n",
        " \n",
        "import numpy as mp\n",
        " \n",
        "# Working on 1D array\n",
        "array = [mp.nan, 4, 2, 3, 1]\n",
        "print(\"INPUT ARRAY 1 : \\n\", array)\n",
        " \n",
        "array2 = mp.array([[mp.nan, 4], [1, 3]])\n",
        " \n",
        "# returning Indices of the max element\n",
        "# as per the indices ingnoring NaN\n",
        "print((\"\\nIndices of max in array1 : \"\n",
        "       , mp.nanargmax(array)))\n",
        " \n",
        "# Working on 2D array\n",
        "print(\"\\nINPUT ARRAY 2 : \\n\", array2)\n",
        "print((\"\\nIndices of max in array2 : \"\n",
        "      , mp.nanargmax(array2)))\n",
        " \n",
        "print((\"\\nIndices at axis 1 of array2 : \"\n",
        "      , mp.nanargmax(array2, axis = 1)))"
      ],
      "metadata": {
        "colab": {
          "base_uri": "https://localhost:8080/"
        },
        "id": "AwVrj_zs1YAw",
        "outputId": "5e4ee9b4-4046-4172-ec17-493a03059b1f"
      },
      "execution_count": 48,
      "outputs": [
        {
          "output_type": "stream",
          "name": "stdout",
          "text": [
            "INPUT ARRAY 1 : \n",
            " [nan, 4, 2, 3, 1]\n",
            "('\\nIndices of max in array1 : ', 1)\n",
            "\n",
            "INPUT ARRAY 2 : \n",
            " [[nan  4.]\n",
            " [ 1.  3.]]\n",
            "('\\nIndices of max in array2 : ', 1)\n",
            "('\\nIndices at axis 1 of array2 : ', array([1, 1]))\n"
          ]
        }
      ]
    },
    {
      "cell_type": "code",
      "source": [
        "# Python Program illustrating\n",
        "# working of argmin()\n",
        " \n",
        "import numpy as mp \n",
        " \n",
        "# Working on 1D array\n",
        "array = mp.arange(8)\n",
        "print(\"INPUT ARRAY : \\n\", array)\n",
        " \n",
        " \n",
        "# returning Indices of the min element\n",
        "# as per the indices\n",
        "print(\"\\nIndices of min element : \", mp.argmin(array, axis=0))"
      ],
      "metadata": {
        "colab": {
          "base_uri": "https://localhost:8080/"
        },
        "id": "vQe6BM1m1YDv",
        "outputId": "a77eb563-b3e3-4b7d-a91a-8cc030e1fd6f"
      },
      "execution_count": 49,
      "outputs": [
        {
          "output_type": "stream",
          "name": "stdout",
          "text": [
            "INPUT ARRAY : \n",
            " [0 1 2 3 4 5 6 7]\n",
            "\n",
            "Indices of min element :  0\n"
          ]
        }
      ]
    },
    {
      "cell_type": "markdown",
      "source": [
        "**Counting**\n",
        "\n",
        "numpy.count_nonzero() : Counts the number of non-zero values in the array ."
      ],
      "metadata": {
        "id": "4WK9-o5IByeP"
      }
    },
    {
      "cell_type": "code",
      "source": [
        "# Python Program illustrating\n",
        "# working of count_nonzero()\n",
        " \n",
        "import numpy as np\n",
        "  \n",
        "# Counting a number of \n",
        "# non-zero values\n",
        "a = np.count_nonzero([[0,1,7,0,0],[3,0,0,2,19]])\n",
        "b = np.count_nonzero(([[0,1,7,0,0],[3,0,0,2,19]], axis=0))\n",
        " \n",
        "print(\"Number of nonzero values is :\",a)\n",
        "print(\"Number of nonzero values is :\",b)"
      ],
      "metadata": {
        "id": "rkWLl_hX1YJ2"
      },
      "execution_count": null,
      "outputs": []
    },
    {
      "cell_type": "markdown",
      "source": [
        "**randint() function**\n",
        "\n",
        "numpy.random.randint() is one of the function for doing random sampling in numpy. It returns an array of specified shape and fills it with random integers from low (inclusive) to high (exclusive), i.e. in the interval [low, high).\n",
        "\n",
        "Syntax : numpy.random.randint(low, high=None, size=None, dtype=’l’)\n",
        "\n",
        "Parameters :\n",
        "low : [int] Lowest (signed) integer to be drawn from the distribution.But, it works as a highest integer in the sample if high=None.\n",
        "\n",
        "high : [int, optional] Largest (signed) integer to be drawn from the distribution.\n",
        "\n",
        "size : [int or tuple of ints, optional] Output shape. If the given shape is, e.g., (m, n, k), then m * n * k samples are drawn. Default is None, in which case a single value is returned.\n",
        "\n",
        "dtype : [optional] Desired output data-type.\n",
        "\n",
        "Return : Array of random integers in the interval [low, high) or a single such random int if size not provided."
      ],
      "metadata": {
        "id": "-UYqS-ivCfVk"
      }
    },
    {
      "cell_type": "code",
      "source": [
        "# Python program explaining\n",
        "# numpy.random.randint() function\n",
        "\n",
        "# importing numpy\n",
        "import numpy as mp\n",
        "\n",
        "# output array\n",
        "out_arr = mp.random.randint(low = 0, high = 3, size = 5)\n",
        "print (\"Output 1D Array filled with random integers : \", out_arr)\n"
      ],
      "metadata": {
        "colab": {
          "base_uri": "https://localhost:8080/"
        },
        "id": "Tstrir_D1YNJ",
        "outputId": "07ec03d8-f3a1-4fc9-ca89-889f57ed96d2"
      },
      "execution_count": 56,
      "outputs": [
        {
          "output_type": "stream",
          "name": "stdout",
          "text": [
            "Output 1D Array filled with random integers :  [2 1 0 1 1]\n"
          ]
        }
      ]
    },
    {
      "cell_type": "code",
      "source": [
        "# Python program explaining\n",
        "# numpy.random.randint() function\n",
        "\n",
        "# importing numpy\n",
        "import numpy as mp\n",
        "\n",
        "\n",
        "# output array\n",
        "out_arr = mp.random.randint(low = 4, size =(2, 3))\n",
        "print (\"Output 2D Array filled with random integers : \", out_arr)\n"
      ],
      "metadata": {
        "colab": {
          "base_uri": "https://localhost:8080/"
        },
        "id": "8rDM0StQ1YP6",
        "outputId": "15e5115b-a084-4a14-eda7-41cb11aec715"
      },
      "execution_count": 57,
      "outputs": [
        {
          "output_type": "stream",
          "name": "stdout",
          "text": [
            "Output 2D Array filled with random integers :  [[1 2 1]\n",
            " [2 1 3]]\n"
          ]
        }
      ]
    },
    {
      "cell_type": "code",
      "source": [
        "# Python program explaining\n",
        "# numpy.random.randint() function\n",
        "\n",
        "# importing numpy\n",
        "import numpy as mp\n",
        "\n",
        "# output array\n",
        "out_arr = mp.random.randint(2, 10, (2, 3, 4))\n",
        "print (\"Output 3D Array filled with random integers : \", out_arr)"
      ],
      "metadata": {
        "colab": {
          "base_uri": "https://localhost:8080/"
        },
        "id": "Ki3zvql71YWv",
        "outputId": "44978e0f-c630-41b1-caf6-84588a9cd81e"
      },
      "execution_count": 59,
      "outputs": [
        {
          "output_type": "stream",
          "name": "stdout",
          "text": [
            "Output 3D Array filled with random integers :  [[[9 3 5 6]\n",
            "  [3 3 2 8]\n",
            "  [8 7 2 3]]\n",
            "\n",
            " [[2 2 4 7]\n",
            "  [5 4 2 5]\n",
            "  [2 9 2 3]]]\n"
          ]
        }
      ]
    },
    {
      "cell_type": "markdown",
      "source": [
        "**random_sample()**\n",
        "\n",
        "numpy.random.random_sample() is one of the function for doing random sampling in numpy. It returns an array of specified shape and fills it with random floats in the half-open interval [0.0, 1.0)."
      ],
      "metadata": {
        "id": "dZeEPfcZEUDC"
      }
    },
    {
      "cell_type": "code",
      "source": [
        "# Python program explaining\n",
        "# numpy.random.sample() function\n",
        "\n",
        "# importing numpy\n",
        "import numpy as mp\n",
        "\n",
        "# output random value\n",
        "out_val = mp.random.random_sample()\n",
        "print (\"Output random float value : \", out_val)"
      ],
      "metadata": {
        "colab": {
          "base_uri": "https://localhost:8080/"
        },
        "id": "sw2zkGLP1YZ-",
        "outputId": "72b0fd79-eb28-4f47-8e14-5b1679a281f0"
      },
      "execution_count": 60,
      "outputs": [
        {
          "output_type": "stream",
          "name": "stdout",
          "text": [
            "Output random float value :  0.762138324688333\n"
          ]
        }
      ]
    },
    {
      "cell_type": "code",
      "source": [
        "# Python program explaining\n",
        "# numpy.random.random_sample() function\n",
        "\n",
        "# importing numpy\n",
        "import numpy as mp\n",
        "\n",
        "\n",
        "# output array\n",
        "out_arr = mp.random.random_sample(size =(1, 3))\n",
        "print (\"Output 2D Array filled with random floats : \", out_arr)"
      ],
      "metadata": {
        "colab": {
          "base_uri": "https://localhost:8080/"
        },
        "id": "B2zrEMfN1Yda",
        "outputId": "44e5c2b8-7fc4-4ad9-a652-4d42dfcc032c"
      },
      "execution_count": 61,
      "outputs": [
        {
          "output_type": "stream",
          "name": "stdout",
          "text": [
            "Output 2D Array filled with random floats :  [[0.35847032 0.87864014 0.86767227]]\n"
          ]
        }
      ]
    },
    {
      "cell_type": "code",
      "source": [
        "# Python program explaining\n",
        "# numpy.random.random_sample() function\n",
        "\n",
        "# importing numpy\n",
        "import numpy as mp\n",
        "\n",
        "# output array\n",
        "out_arr = mp.random.random_sample((3, 2, 1))\n",
        "print (\"Output 3D Array filled with random floats : \", out_arr)\n"
      ],
      "metadata": {
        "colab": {
          "base_uri": "https://localhost:8080/"
        },
        "id": "oAXnLYfm1Ygv",
        "outputId": "ed0bb649-6e4e-4871-dbc6-0bb5ab87f336"
      },
      "execution_count": 62,
      "outputs": [
        {
          "output_type": "stream",
          "name": "stdout",
          "text": [
            "Output 3D Array filled with random floats :  [[[0.84760809]\n",
            "  [0.81479711]]\n",
            "\n",
            " [[0.57794163]\n",
            "  [0.25976598]]\n",
            "\n",
            " [[0.77632017]\n",
            "  [0.55637584]]]\n"
          ]
        }
      ]
    },
    {
      "cell_type": "markdown",
      "source": [
        "Similarly, ranf() function & random_integers() function works."
      ],
      "metadata": {
        "id": "3uZrOiMlGAi4"
      }
    },
    {
      "cell_type": "code",
      "source": [],
      "metadata": {
        "id": "PeL9n1yV1Yq8"
      },
      "execution_count": null,
      "outputs": []
    }
  ]
}